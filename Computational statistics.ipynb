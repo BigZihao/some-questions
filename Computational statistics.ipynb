{
 "cells": [
  {
   "cell_type": "code",
   "execution_count": 1,
   "metadata": {},
   "outputs": [
    {
     "data": {
      "text/html": [
       "<table>\n",
       "<tbody>\n",
       "\t<tr><th scope=row></th><td>-0.1554457</td></tr>\n",
       "\t<tr><th scope=row>x1</th><td> 0.4901870</td></tr>\n",
       "\t<tr><th scope=row>x2</th><td> 1.3300728</td></tr>\n",
       "</tbody>\n",
       "</table>\n"
      ],
      "text/latex": [
       "\\begin{tabular}{r|l}\n",
       "\t & -0.1554457\\\\\n",
       "\tx1 &  0.4901870\\\\\n",
       "\tx2 &  1.3300728\\\\\n",
       "\\end{tabular}\n"
      ],
      "text/markdown": [
       "\n",
       "|  | -0.1554457 | \n",
       "| x1 |  0.4901870 | \n",
       "| x2 |  1.3300728 | \n",
       "\n",
       "\n"
      ],
      "text/plain": [
       "   [,1]      \n",
       "   -0.1554457\n",
       "x1  0.4901870\n",
       "x2  1.3300728"
      ]
     },
     "metadata": {},
     "output_type": "display_data"
    },
    {
     "data": {
      "text/html": [
       "<dl class=dl-horizontal>\n",
       "\t<dt>(Intercept)</dt>\n",
       "\t\t<dd>-0.155445734065639</dd>\n",
       "\t<dt>x1</dt>\n",
       "\t\t<dd>0.49018702667263</dd>\n",
       "\t<dt>x2</dt>\n",
       "\t\t<dd>1.33007282658875</dd>\n",
       "</dl>\n"
      ],
      "text/latex": [
       "\\begin{description*}\n",
       "\\item[(Intercept)] -0.155445734065639\n",
       "\\item[x1] 0.49018702667263\n",
       "\\item[x2] 1.33007282658875\n",
       "\\end{description*}\n"
      ],
      "text/markdown": [
       "(Intercept)\n",
       ":   -0.155445734065639x1\n",
       ":   0.49018702667263x2\n",
       ":   1.33007282658875\n",
       "\n"
      ],
      "text/plain": [
       "(Intercept)          x1          x2 \n",
       " -0.1554457   0.4901870   1.3300728 "
      ]
     },
     "metadata": {},
     "output_type": "display_data"
    }
   ],
   "source": [
    "x1 <- c(1,2,3,4,5)\n",
    "x2 <- c(1,4,5,7,9)\n",
    "y <-  x1 + x2 + rnorm(5,mean=0,sd=0.3);\n",
    "Y <- as.matrix(y);\n",
    "X <- as.matrix(cbind(1,x1,x2));\n",
    "beta = solve(t(X) %*% X) %*% (t(X) %*% Y) ; \n",
    "beta\n",
    "model <- lm(y~1+x1+x2) ; \n",
    "model$coefficients"
   ]
  },
  {
   "cell_type": "code",
   "execution_count": 2,
   "metadata": {
    "collapsed": true
   },
   "outputs": [],
   "source": [
    "X <- as.matrix(cbind(1,x1))"
   ]
  },
  {
   "cell_type": "code",
   "execution_count": 7,
   "metadata": {},
   "outputs": [
    {
     "data": {
      "text/html": [
       "<table>\n",
       "<thead><tr><th></th><th scope=col></th><th scope=col>x1</th></tr></thead>\n",
       "<tbody>\n",
       "\t<tr><th scope=row></th><td> 5</td><td>15</td></tr>\n",
       "\t<tr><th scope=row>x1</th><td>15</td><td>55</td></tr>\n",
       "</tbody>\n",
       "</table>\n"
      ],
      "text/latex": [
       "\\begin{tabular}{r|ll}\n",
       "  &  & x1\\\\\n",
       "\\hline\n",
       "\t &  5 & 15\\\\\n",
       "\tx1 & 15 & 55\\\\\n",
       "\\end{tabular}\n"
      ],
      "text/markdown": [
       "\n",
       "| <!--/--> |  | x1 | \n",
       "|---|---|\n",
       "|  |  5 | 15 | \n",
       "| x1 | 15 | 55 | \n",
       "\n",
       "\n"
      ],
      "text/plain": [
       "      x1\n",
       "    5 15\n",
       "x1 15 55"
      ]
     },
     "metadata": {},
     "output_type": "display_data"
    }
   ],
   "source": [
    "t(X) %*% X"
   ]
  },
  {
   "cell_type": "code",
   "execution_count": 8,
   "metadata": {},
   "outputs": [
    {
     "data": {
      "text/html": [
       "<table>\n",
       "<thead><tr><th></th><th scope=col></th><th scope=col>x1</th></tr></thead>\n",
       "<tbody>\n",
       "\t<tr><th scope=row></th><td> 1.1</td><td>-0.3</td></tr>\n",
       "\t<tr><th scope=row>x1</th><td>-0.3</td><td> 0.1</td></tr>\n",
       "</tbody>\n",
       "</table>\n"
      ],
      "text/latex": [
       "\\begin{tabular}{r|ll}\n",
       "  &  & x1\\\\\n",
       "\\hline\n",
       "\t &  1.1 & -0.3\\\\\n",
       "\tx1 & -0.3 &  0.1\\\\\n",
       "\\end{tabular}\n"
      ],
      "text/markdown": [
       "\n",
       "| <!--/--> |  | x1 | \n",
       "|---|---|\n",
       "|  |  1.1 | -0.3 | \n",
       "| x1 | -0.3 |  0.1 | \n",
       "\n",
       "\n"
      ],
      "text/plain": [
       "        x1  \n",
       "    1.1 -0.3\n",
       "x1 -0.3  0.1"
      ]
     },
     "metadata": {},
     "output_type": "display_data"
    }
   ],
   "source": [
    "solve(t(X) %*% X)"
   ]
  },
  {
   "cell_type": "code",
   "execution_count": 9,
   "metadata": {
    "collapsed": true
   },
   "outputs": [],
   "source": [
    "Xrep <- as.matrix(cbind(1,rep(x1,2)))"
   ]
  },
  {
   "cell_type": "code",
   "execution_count": 15,
   "metadata": {},
   "outputs": [
    {
     "data": {
      "text/plain": [
       "\n",
       "Call:\n",
       "lm(formula = y ~ 1 + x1)\n",
       "\n",
       "Residuals:\n",
       "      1       2       3       4       5 \n",
       "-0.6384  0.9311  0.1638 -0.5671  0.1106 \n",
       "\n",
       "Coefficients:\n",
       "            Estimate Std. Error t value Pr(>|t|)    \n",
       "(Intercept)  -0.8205     0.7743   -1.06    0.367    \n",
       "x1            3.0173     0.2335   12.92    0.001 ***\n",
       "---\n",
       "Signif. codes:  0 '***' 0.001 '**' 0.01 '*' 0.05 '.' 0.1 ' ' 1\n",
       "\n",
       "Residual standard error: 0.7383 on 3 degrees of freedom\n",
       "Multiple R-squared:  0.9824,\tAdjusted R-squared:  0.9765 \n",
       "F-statistic:   167 on 1 and 3 DF,  p-value: 0.0009999\n"
      ]
     },
     "metadata": {},
     "output_type": "display_data"
    }
   ],
   "source": [
    "summary(lm(y~1+x1))"
   ]
  },
  {
   "cell_type": "code",
   "execution_count": 14,
   "metadata": {},
   "outputs": [
    {
     "data": {
      "text/plain": [
       "\n",
       "Call:\n",
       "lm(formula = rep(y, 2) ~ 1 + rep(x1, 2))\n",
       "\n",
       "Residuals:\n",
       "    Min      1Q  Median      3Q     Max \n",
       "-0.6384 -0.5671  0.1106  0.1638  0.9311 \n",
       "\n",
       "Coefficients:\n",
       "            Estimate Std. Error t value Pr(>|t|)    \n",
       "(Intercept)  -0.8205     0.4742   -1.73    0.122    \n",
       "rep(x1, 2)    3.0173     0.1430   21.11 2.67e-08 ***\n",
       "---\n",
       "Signif. codes:  0 '***' 0.001 '**' 0.01 '*' 0.05 '.' 0.1 ' ' 1\n",
       "\n",
       "Residual standard error: 0.6394 on 8 degrees of freedom\n",
       "Multiple R-squared:  0.9824,\tAdjusted R-squared:  0.9802 \n",
       "F-statistic: 445.4 on 1 and 8 DF,  p-value: 2.668e-08\n"
      ]
     },
     "metadata": {},
     "output_type": "display_data"
    }
   ],
   "source": [
    "summary(lm(rep(y,2)~1+rep(x1,2)))"
   ]
  },
  {
   "cell_type": "code",
   "execution_count": 22,
   "metadata": {},
   "outputs": [
    {
     "data": {
      "text/html": [
       "<table>\n",
       "<thead><tr><th scope=col></th><th scope=col>x1</th></tr></thead>\n",
       "<tbody>\n",
       "\t<tr><td>1</td><td>1</td></tr>\n",
       "\t<tr><td>1</td><td>2</td></tr>\n",
       "\t<tr><td>1</td><td>3</td></tr>\n",
       "\t<tr><td>1</td><td>4</td></tr>\n",
       "\t<tr><td>1</td><td>5</td></tr>\n",
       "</tbody>\n",
       "</table>\n"
      ],
      "text/latex": [
       "\\begin{tabular}{ll}\n",
       "  & x1\\\\\n",
       "\\hline\n",
       "\t 1 & 1\\\\\n",
       "\t 1 & 2\\\\\n",
       "\t 1 & 3\\\\\n",
       "\t 1 & 4\\\\\n",
       "\t 1 & 5\\\\\n",
       "\\end{tabular}\n"
      ],
      "text/markdown": [
       "\n",
       " | x1 | \n",
       "|---|---|---|---|---|\n",
       "| 1 | 1 | \n",
       "| 1 | 2 | \n",
       "| 1 | 3 | \n",
       "| 1 | 4 | \n",
       "| 1 | 5 | \n",
       "\n",
       "\n"
      ],
      "text/plain": [
       "       x1\n",
       "[1,] 1 1 \n",
       "[2,] 1 2 \n",
       "[3,] 1 3 \n",
       "[4,] 1 4 \n",
       "[5,] 1 5 "
      ]
     },
     "metadata": {},
     "output_type": "display_data"
    }
   ],
   "source": [
    "X"
   ]
  },
  {
   "cell_type": "markdown",
   "metadata": {},
   "source": [
    "Covariance Matrix:\n",
    "\n",
    "cov_mat = (X_std - mean_vec).T.dot((X_std - mean_vec)) / (X_std.shape[0]-1)\n",
    "\n",
    "The matrix ${X}^{T}{X}$  is known as the Gramian matrix of $\\mathbf{X}$ , which possesses several nice properties such as being a positive semi-definite matrix, and the matrix ${\\displaystyle \\mathbf{X} ^{\\rm {T}}\\mathbf{y} }$ is known as the moment matrix of regressand by regressors\n",
    "\n",
    "In linear algebra, the Gram matrix (Gramian matrix or Gramian) of a set of vectors $v_{1},\\dots ,v_{n}$ in an inner product space is the Hermitian matrix of inner products, whose entries are given by $G_{ij}=\\langle v_{i},v_{j}\\rangle$ .[1]\n",
    "\n",
    "An important application is to compute linear independence: a set of vectors is linearly independent if and only if the Gram determinant (the determinant of the Gram matrix) is non-zero.\n"
   ]
  },
  {
   "cell_type": "code",
   "execution_count": 10,
   "metadata": {},
   "outputs": [
    {
     "data": {
      "text/html": [
       "<table>\n",
       "<tbody>\n",
       "\t<tr><td>10 </td><td> 30</td></tr>\n",
       "\t<tr><td>30 </td><td>110</td></tr>\n",
       "</tbody>\n",
       "</table>\n"
      ],
      "text/latex": [
       "\\begin{tabular}{ll}\n",
       "\t 10  &  30\\\\\n",
       "\t 30  & 110\\\\\n",
       "\\end{tabular}\n"
      ],
      "text/markdown": [
       "\n",
       "| 10  |  30 | \n",
       "| 30  | 110 | \n",
       "\n",
       "\n"
      ],
      "text/plain": [
       "     [,1] [,2]\n",
       "[1,] 10    30 \n",
       "[2,] 30   110 "
      ]
     },
     "metadata": {},
     "output_type": "display_data"
    }
   ],
   "source": [
    "t(Xrep) %*% Xrep"
   ]
  },
  {
   "cell_type": "code",
   "execution_count": 11,
   "metadata": {},
   "outputs": [
    {
     "data": {
      "text/html": [
       "<table>\n",
       "<tbody>\n",
       "\t<tr><td> 0.55</td><td>-0.15</td></tr>\n",
       "\t<tr><td>-0.15</td><td> 0.05</td></tr>\n",
       "</tbody>\n",
       "</table>\n"
      ],
      "text/latex": [
       "\\begin{tabular}{ll}\n",
       "\t  0.55 & -0.15\\\\\n",
       "\t -0.15 &  0.05\\\\\n",
       "\\end{tabular}\n"
      ],
      "text/markdown": [
       "\n",
       "|  0.55 | -0.15 | \n",
       "| -0.15 |  0.05 | \n",
       "\n",
       "\n"
      ],
      "text/plain": [
       "     [,1]  [,2] \n",
       "[1,]  0.55 -0.15\n",
       "[2,] -0.15  0.05"
      ]
     },
     "metadata": {},
     "output_type": "display_data"
    }
   ],
   "source": [
    "solve(t(Xrep) %*% Xrep)"
   ]
  },
  {
   "cell_type": "code",
   "execution_count": 20,
   "metadata": {},
   "outputs": [
    {
     "data": {
      "text/html": [
       "<table>\n",
       "<tbody>\n",
       "\t<tr><th scope=row></th><td> 41.15747</td></tr>\n",
       "\t<tr><th scope=row>x1</th><td>153.64566</td></tr>\n",
       "</tbody>\n",
       "</table>\n"
      ],
      "text/latex": [
       "\\begin{tabular}{r|l}\n",
       "\t &  41.15747\\\\\n",
       "\tx1 & 153.64566\\\\\n",
       "\\end{tabular}\n"
      ],
      "text/markdown": [
       "\n",
       "|  |  41.15747 | \n",
       "| x1 | 153.64566 | \n",
       "\n",
       "\n"
      ],
      "text/plain": [
       "   [,1]     \n",
       "    41.15747\n",
       "x1 153.64566"
      ]
     },
     "metadata": {},
     "output_type": "display_data"
    }
   ],
   "source": [
    "t(X) %*% Y"
   ]
  },
  {
   "cell_type": "code",
   "execution_count": 21,
   "metadata": {},
   "outputs": [
    {
     "data": {
      "text/html": [
       "<table>\n",
       "<tbody>\n",
       "\t<tr><td> 82.31494</td></tr>\n",
       "\t<tr><td>307.29133</td></tr>\n",
       "</tbody>\n",
       "</table>\n"
      ],
      "text/latex": [
       "\\begin{tabular}{l}\n",
       "\t  82.31494\\\\\n",
       "\t 307.29133\\\\\n",
       "\\end{tabular}\n"
      ],
      "text/markdown": [
       "\n",
       "|  82.31494 | \n",
       "| 307.29133 | \n",
       "\n",
       "\n"
      ],
      "text/plain": [
       "     [,1]     \n",
       "[1,]  82.31494\n",
       "[2,] 307.29133"
      ]
     },
     "metadata": {},
     "output_type": "display_data"
    }
   ],
   "source": [
    "Yrep = rep(Y,2)\n",
    "t(Xrep) %*% Yrep"
   ]
  }
 ],
 "metadata": {
  "kernelspec": {
   "display_name": "R",
   "language": "R",
   "name": "ir"
  },
  "language_info": {
   "codemirror_mode": "r",
   "file_extension": ".r",
   "mimetype": "text/x-r-source",
   "name": "R",
   "pygments_lexer": "r",
   "version": "3.4.3"
  }
 },
 "nbformat": 4,
 "nbformat_minor": 2
}
