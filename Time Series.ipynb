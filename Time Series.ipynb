{
 "cells": [
  {
   "cell_type": "markdown",
   "metadata": {},
   "source": [
    "## regression assumption \n",
    "\n",
    "the population dosen't change for cross-sectional data\n",
    "\n",
    "1. linear model\n",
    "2. strict exogeneity\n",
    "E(epsolon|X) = 0\n",
    "3. design matrix no perfect collinearity\n",
    "4. Homoskedasticity\n",
    "5. No Serial correlation\n",
    "6. Normality"
   ]
  },
  {
   "cell_type": "markdown",
   "metadata": {},
   "source": [
    "- T1-T3, then is unbiased\n",
    "- T4-T5 add BLUE, and consistent, \n",
    "- TS-6, then the OLS coefficient vector has a normal distribution and the ratio of each coefficient to its standard error has a t distributionso we can make inference\n",
    "\n",
    "\n",
    "- For T2, we ususally find supirous relationship since time is the confouder. For example, The autoregressive component of this model ensures that we cannot assume independence between the disturbance term and the explanatory variables. From causal infernece perspective, we should not do it \n",
    "\n",
    "- For T5, the true variance of the OLS estimator will be larger than when there is no serial correlation. "
   ]
  },
  {
   "cell_type": "markdown",
   "metadata": {},
   "source": [
    "It's fair to say that all the thing we do, stationary, arma are trying to add some part responding the volation of linear regression assumption so that eventually we can use something very similar to linear regression. It implicitely still have strong assumption about distribution and statisical propertitys. \n",
    "\n",
    "First, the assumption is hard to valida somthime, After all different treaing data, we eventually use linear model. second, there are many manuly test to find the idea p, or q, I don't see this better than paratmer tuning in machine learning. Third, time series model more often discussed in a context of a only series, many times when no extra exogenous variables. But now we can incorprate much more data into the model to make powerful prediciton. there are prove exmaple shows neural network have better prediction accuracy, even simplier machine learing. we can include time as a feature, since there are no statitical asumption related(actually from some of my test, add week as a feature to arima will increase the predication accuaracy as well). just run the machine learning model as ususal. However, the implicit assumption is that the data or at least the pattern or relationship will repeat itself. otherwise, there is no need to discuss any data-driven model.\n",
    "\n",
    "So about this highest level assumption. Actually all model we have discussed have this assumption. time series, machine learning, anything. Some pattern or relationship from the data. since they are all observational data. can we gain causal inference from observational data? \n",
    "\n"
   ]
  },
  {
   "cell_type": "markdown",
   "metadata": {},
   "source": [
    "## why do we care about stationary for time series\n",
    "\n",
    "\n",
    "We should be good for cross-sectional data, but for time serires data. \n",
    "\n",
    "A fundamental difference in the time-series setting is that we're observing multiple observations over time t rather than multiple draws from Ω.\n",
    "\n",
    "A fundamental issue in time series\n",
    "In Statistics 101, we're taught about a series of independent and identically distributed variables X1, X2, X3 etc... We observe multiple, identical experiments i=1,…,n where an ωi∈Ω is randomly chosen and this allows us to learn about random variable X. By the Law of Large Numbers, we have 1n∑ni=1Xi converging almost surely to E[X].\n",
    "\n",
    "A fundamental difference in the time-series setting is that we're observing multiple observations over time t rather than multiple draws from Ω.\n",
    "\n",
    "In the general case, 1T∑Tt=1Yt may not converge to anything at all!\n",
    "\n",
    "**For multiple observations over time to accomplish a similar task as multiple draws from the sample space, we need stationarity and ergodicity**.\n",
    "\n",
    "Then would have the existence of an unconditional mean E[Y] and by an ergodic theorem, the converge of observations over time 1T∑Tt=1Yt to expectations over outcomes E[Y].\n"
   ]
  },
  {
   "cell_type": "markdown",
   "metadata": {},
   "source": [
    "In mathematics and statistics, a stationary process (a.k.a. a strict(ly) stationary process or strong(ly) stationary process) is a stochastic process whose unconditional(i.e., with no reference to any particular starting value) joint probability distribution does not change when shifted in time. Consequently, parameters such as mean and variance, if they are present, also do not change over time."
   ]
  },
  {
   "cell_type": "markdown",
   "metadata": {},
   "source": [
    "Example: Imagine a girl moving randomly on a giant chess board. In this case, next position of the girl is only dependent on the last position.\n",
    "\n",
    "$X(t) = X(t-1) + Er(t)$\n",
    "\n",
    "$X(t) = X(0) + Sum(Er(1),Er(2),Er(3).....Er(t))$\n",
    "\n",
    "$E[X(t)] = E[X(0)] + Sum(E[Er(1)],E[Er(2)],E[Er(3)].....E[Er(t)])$\n",
    "\n",
    "$Var[X(t)] = Var[X(0)] + Sum(Var[Er(1)],Var[Er(2)],Var[Er(3)].....Var[Er(t)]) = t * Var(Error) = Time dependent.$"
   ]
  },
  {
   "cell_type": "markdown",
   "metadata": {},
   "source": [
    "Hence, we infer that the random walk is not a stationary process as it has a time variant variance. Also, if we check the covariance, we see that too is dependent on time.\n",
    "\n",
    "这里有了一个新的概念，就是平稳性，那么怎么来理解平稳性，它的一种表达是序列的统计性质不随时间的推移而发生变化。这也是可以理解的，我费了老大的功夫把函数拟合出来，结果时间变了我的函数就不对了，还怎么玩下去？可是那些不是平稳的序列要怎样预测呢，生活中大量的数据都不是平稳的，有趋势的不平稳，有周期的也不平稳，没有趋势没有周期序列本就少了很多，而且它们的也还不一定平稳呢。为了能够预测不平稳的序列，采用了一个方法叫做差分，就这样ARIMA模型出现了，参数d也可以现身了。\n",
    "\n",
    "一般来说，序列蕴含显著的线性趋势，1阶差分就可以实现序列平稳；序列如果是曲线趋势，2阶或3阶也差不多可以平稳了；如果序列有周期因素，那么进行步长为周期长度的差分运算，可以提取周期信息。"
   ]
  },
  {
   "cell_type": "markdown",
   "metadata": {},
   "source": [
    "### how to check stationary?\n",
    "\n",
    "Dickey Fuller Test of Stationarity\n",
    "What you just learnt in the last section is formally known as Dickey Fuller test. Here is a small tweak which is made for our equation to convert it to a Dickey Fuller test:\n",
    "\n",
    "$X(t) = Rho * X(t-1) + Er(t)$\n",
    "\n",
    "=>  $X(t) - X(t-1) = (Rho - 1) X(t - 1) + Er(t)$\n",
    "\n",
    "We have to test if Rho – 1 is significantly different than zero or not. If the null hypothesis gets rejected, we’ll get a stationary time series.\n",
    "\n",
    "Stationary testing and converting a series into a stationary series are the most critical processes in a time series modelling. You need to memorize each and every detail of this concept to move on to the next step of time series modelling.\n",
    "\n",
    "Let’s now consider an example to show you what a time series looks like."
   ]
  },
  {
   "cell_type": "markdown",
   "metadata": {},
   "source": [
    "### why stationary time series cannot use regression still?"
   ]
  },
  {
   "cell_type": "markdown",
   "metadata": {},
   "source": [
    "T2: In discussing the small-sample properties of OLS with time-series data, we identified TS2\n",
    "(strict exogeneity) and TS-5 (no serial correlation) as assumptions that were often violated\n",
    "in economic data. We then showed that we can relax TS-2 to the more data-friendly ATS-2\n",
    "(weak exogeneity) if our variables are stationary and ergodic and if our sample is large\n",
    "enough that asymptotic distributions are reasonably close approximations.\n",
    "    \n",
    "\n",
    "T5: We now consider the issue of TS-5 or ATS-5. In economic data, what happens at t is often\n",
    "related to what happened at t – 1. If that is true of the disturbance terms in our regression,\n",
    "then we have serial correlation. We know from our discussion above that the consistency\n",
    "of the OLS coefficient estimator requires only ATS-1 through ATS-3, so it does not\n",
    "depend on the absence of serial correlation in the disturbance. However, in the presence of\n",
    "serial correlation the variance of the OLS estimator will be larger than some other estimators,\n",
    "so it is not efficient, and the traditional OLS variance estimator will not estimate the\n",
    "true variance accurately so our OLS test statistics will not follow the same distribution that\n",
    "they would if ATS-5 were not violated."
   ]
  },
  {
   "cell_type": "markdown",
   "metadata": {},
   "source": [
    "## what model for time series model?"
   ]
  },
  {
   "cell_type": "markdown",
   "metadata": {},
   "source": [
    "Did you notice the difference between MA and AR model? In MA model, noise / shock quickly vanishes with time. The AR model has a much lasting effect of the shock."
   ]
  },
  {
   "cell_type": "markdown",
   "metadata": {},
   "source": [
    "![title](img/AR1.png)\n",
    "![title](img/MA1.png)"
   ]
  },
  {
   "cell_type": "markdown",
   "metadata": {},
   "source": [
    "Exploiting ACF and PACF plots\n",
    "Once we have got the stationary time series, we must answer two primary questions:\n",
    "\n",
    "Q1. Is it an AR or MA process?\n",
    "\n",
    "Q2. What order of AR or MA process do we need to use?\n",
    "\n",
    "The trick to solve these questions is available in the previous section. Didn’t you notice?\n",
    "\n",
    "The first question can be answered using Total Correlation Chart (also known as Auto – correlation Function / ACF). ACF is a plot of total correlation between different lag functions. For instance, in GDP problem, the GDP at time point t is x(t). We are interested in the correlation of x(t) with x(t-1) , x(t-2) and so on. Now let’s reflect on what we have learnt above.\n",
    "\n",
    "In a moving average series of lag n, we will not get any correlation between x(t) and x(t – n -1) . Hence, the total correlation chart cuts off at nth lag. So it becomes simple to find the lag for a MA series. For an AR series this correlation will gradually go down without any cut off value. So what do we do if it is an AR series?\n",
    "\n",
    "Here is the second trick. If we find out the partial correlation of each lag, it will cut off after the degree of AR series. For instance,if we have a AR(1) series,  if we exclude the effect of 1st lag (x (t-1) ), our 2nd lag (x (t-2) ) is independent of x(t). Hence, the partial correlation function (PACF) will drop sharply after the 1st lag. Following are the examples which will clarify any doubts you have on this concept :\n",
    "\n",
    "                            ACF                                                                      PACF\n",
    "\n",
    "Gradual declinecut off\n",
    "\n",
    " \n",
    "\n",
    "The blue line above shows significantly different values than zero. Clearly, the graph above has a cut off on PACF curve after 2nd lag which means this is mostly an AR(2) process.\n",
    "\n",
    "                                      ACF                                                                 PACF\n",
    "\n",
    "cut offGradual decline\n",
    "\n",
    "Clearly, the graph above has a cut off on ACF curve after 2nd lag which means this is mostly a MA(2) process.\n",
    "\n",
    "Till now, we have covered on how to identify the type of stationary series using ACF & PACF plots. Now, I’ll introduce you to a comprehensive framework to build a time series model.  In addition, we’ll also discuss about the practical applications of time series modelling.\n",
    "\n",
    "\n",
    "https://www.analyticsvidhya.com/blog/2015/12/complete-tutorial-time-series-modeling/"
   ]
  },
  {
   "cell_type": "markdown",
   "metadata": {},
   "source": [
    "AR(1) 模型\n",
    "AR(1) 模型指的是时间序列  $\\{x_{t}\\}_{t\\geq 0}$  在时间戳  t  时刻的取值  x_{t}  与时间戳  t - 1  时刻的取值 x_{t-1} 相关，其公式就是：\n",
    "\n",
    "$x_{t}=\\delta+\\phi_{1}x_{t-1}+w_{t}$ ,\n",
    "\n",
    "这个时间序列 $\\{x_{t}\\}_{t\\geq 0}$  满足如下条件：\n",
    "\n",
    "- $w_{t}\\sim N(0,\\sigma_{w}^{2})$ ，并且  w_{t}  满足 iid 条件。其中  N(0,\\sigma_{w}^{2})  表示 Gauss 正态分布，它的均值是 0 ，方差是  \\sigma_{w}^{2} 。\n",
    "- w_{t}  与  x_{t}  是相互独立的（independent）。 >> which p should we choose\n",
    "- $x_{0},x_{1},\\cdots$  是弱平稳的，i.e. 必须满足  $|\\phi_{1}|<1$.  >> stationary, "
   ]
  },
  {
   "cell_type": "markdown",
   "metadata": {},
   "source": [
    "也可以看作是参数受到限制的无穷阶AR模型。\n",
    "\n",
    "\n",
    "MA(q)模型是我在学习ARIMA时最难理解的地方。说白了，MA模型就是无穷阶AR模型的等价表示。为什么这么说？我们来看一个特殊的无穷阶的AR模型。\n",
    "\n",
    "$Yt=ϵt+βYt−1−β2Yt−2+β3Yt−3−β4Yt−4+... $     (1)\n",
    "\n",
    "将(1)中的t用t-1替代，得到(2)：\n",
    "\n",
    "$Yt−1=ϵt−1+βYt−2−β2Yt−3+β3Yt−4−β4Yt−5+...$      (2)\n",
    "\n",
    "将(2)的左右两边同乘$\\beta$:\n",
    "\n",
    "$βYt−1=βϵt−1+β2Yt−2−β3Yt−3+β4Yt−4−β5Yt−5+...$      (3)\n",
    "\n",
    "(2)，得到(4)：\n",
    "\n",
    "$Yt=ϵt+βϵt−1$      (4)\n",
    "\n",
    "式(4)就是MA(1)。对比式(1)和式(4)，我们可以得到MA(1)相当于一个无穷阶的AR模型。同样的，对于任意的q，MA(q)均可以找到一个AR模型与之对应。因此，我们可以得到，时间序列数据归根到底，是可以用统一用AR模型来表示的。\n",
    "\n",
    "那么，为什么还要MA模型呢？如果只有AR模型，那么一些时间序列必然会需要很高的阶数p来刻画。阶数p，就是待估参数的个数。待估参数越多，需要付出的参数估计代价就越大，所以我们当然希望参数个数越少越好。因此我们自然希望能够用低阶的MA模型来替换高阶的AR模型；反之亦然。\n",
    "\n",
    "这也可以从自相关系数和偏自相关系数来理解。MA模型的阶数看自相关系数，AR模型的阶数看偏自相关系数。如果自相关系数q阶以后都趋于0，说明是MA(q)模型；这时去看偏自相关系数，必然是无穷阶后都不收敛于0——因为MA模型对应无穷阶的AR模型。同样的，如果偏自相关系数p阶以后都趋于0，说明是AR(p)模型；这时去看自相关系数，必然是无穷阶后都不收敛于0——因为AR模型对应无穷阶的MA模型。\n",
    "\n",
    "最后，来说说ARMA模型。当自相关系数和偏自相关系数都没有收敛于0，说明这个时间序列不能纯用低阶的AR模型或者纯用低阶的MA模型来解释，需要低阶的AR和低阶的MA模型混合来解释。也可以换个角度来思考，前面提到，任何一个时间序列都可以用纯粹的AR模型来刻画。但是偏自相关系数无穷阶后都不收敛于0，说明只能用一个高阶的AR来解释。但这样的话，阶数太高，待估参数太多，我们就不开心了。所以我们对这个高阶AR模型做分解，分解出一个低阶的AR模型和另一个特殊的高阶AR模型，其中分解出来的高阶AR模型恰好等价于一个低阶的MA模型。于是我们就可以用低阶的AR模型和低阶的MA模型来描述这个时间序列了，这就是ARMA模型。"
   ]
  },
  {
   "cell_type": "markdown",
   "metadata": {},
   "source": [
    "![title](img/ARMA.jpg)"
   ]
  },
  {
   "cell_type": "markdown",
   "metadata": {},
   "source": [
    "Tails off（拖尾）：自回归系统逐步降为0\n",
    "\n",
    "Cuts off（截尾）：系数突然变为0，或快速接近。\n",
    "\n",
    "AR看PACF，MA看ACF。"
   ]
  },
  {
   "cell_type": "markdown",
   "metadata": {},
   "source": [
    "从纯时间序列的角度上来说的话，GARCH模型不错。金融时间序列方差是变化的（违背了同方差的假设）。GARCH模型允许方差随时间变化，效果一般比ARMA ARIMA AR之类的好。比较好用的模型是EGARCH。然后就时间序列来说，这些比较算中等的吧。比如你要考虑不同市场不同股票之间的联系（存在covariance），那你可以用multivariate GARCH类的模型，这类模型是矩阵回归，并且允许存在协方差。有兴趣的话去买本汉密尔顿的时间序列看吧，中文版100来块。\n"
   ]
  },
  {
   "cell_type": "markdown",
   "metadata": {},
   "source": [
    "### ARMA example "
   ]
  },
  {
   "cell_type": "code",
   "execution_count": 3,
   "metadata": {},
   "outputs": [
    {
     "data": {
      "text/html": [
       "'ts'"
      ],
      "text/latex": [
       "'ts'"
      ],
      "text/markdown": [
       "'ts'"
      ],
      "text/plain": [
       "[1] \"ts\""
      ]
     },
     "metadata": {},
     "output_type": "display_data"
    }
   ],
   "source": [
    "data(AirPassengers)\n",
    "class(AirPassengers)"
   ]
  },
  {
   "cell_type": "code",
   "execution_count": 6,
   "metadata": {},
   "outputs": [
    {
     "data": {
      "text/html": [
       "<ol class=list-inline>\n",
       "\t<li>112</li>\n",
       "\t<li>118</li>\n",
       "\t<li>132</li>\n",
       "\t<li>129</li>\n",
       "\t<li>121</li>\n",
       "\t<li>135</li>\n",
       "</ol>\n"
      ],
      "text/latex": [
       "\\begin{enumerate*}\n",
       "\\item 112\n",
       "\\item 118\n",
       "\\item 132\n",
       "\\item 129\n",
       "\\item 121\n",
       "\\item 135\n",
       "\\end{enumerate*}\n"
      ],
      "text/markdown": [
       "1. 112\n",
       "2. 118\n",
       "3. 132\n",
       "4. 129\n",
       "5. 121\n",
       "6. 135\n",
       "\n",
       "\n"
      ],
      "text/plain": [
       "[1] 112 118 132 129 121 135"
      ]
     },
     "metadata": {},
     "output_type": "display_data"
    }
   ],
   "source": [
    "head(AirPassengers)"
   ]
  },
  {
   "cell_type": "code",
   "execution_count": 4,
   "metadata": {},
   "outputs": [
    {
     "data": {
      "text/html": [
       "<ol class=list-inline>\n",
       "\t<li>1949</li>\n",
       "\t<li>1</li>\n",
       "</ol>\n"
      ],
      "text/latex": [
       "\\begin{enumerate*}\n",
       "\\item 1949\n",
       "\\item 1\n",
       "\\end{enumerate*}\n"
      ],
      "text/markdown": [
       "1. 1949\n",
       "2. 1\n",
       "\n",
       "\n"
      ],
      "text/plain": [
       "[1] 1949    1"
      ]
     },
     "metadata": {},
     "output_type": "display_data"
    },
    {
     "data": {
      "text/html": [
       "<ol class=list-inline>\n",
       "\t<li>1960</li>\n",
       "\t<li>12</li>\n",
       "</ol>\n"
      ],
      "text/latex": [
       "\\begin{enumerate*}\n",
       "\\item 1960\n",
       "\\item 12\n",
       "\\end{enumerate*}\n"
      ],
      "text/markdown": [
       "1. 1960\n",
       "2. 12\n",
       "\n",
       "\n"
      ],
      "text/plain": [
       "[1] 1960   12"
      ]
     },
     "metadata": {},
     "output_type": "display_data"
    },
    {
     "data": {
      "text/html": [
       "12"
      ],
      "text/latex": [
       "12"
      ],
      "text/markdown": [
       "12"
      ],
      "text/plain": [
       "[1] 12"
      ]
     },
     "metadata": {},
     "output_type": "display_data"
    },
    {
     "data": {
      "text/plain": [
       "   Min. 1st Qu.  Median    Mean 3rd Qu.    Max. \n",
       "  104.0   180.0   265.5   280.3   360.5   622.0 "
      ]
     },
     "metadata": {},
     "output_type": "display_data"
    }
   ],
   "source": [
    "start(AirPassengers)\n",
    "end(AirPassengers)\n",
    "frequency(AirPassengers)\n",
    "summary(AirPassengers)"
   ]
  },
  {
   "cell_type": "code",
   "execution_count": 5,
   "metadata": {},
   "outputs": [
    {
     "name": "stderr",
     "output_type": "stream",
     "text": [
      "Your code contains a unicode char which cannot be displayed in your\n",
      "current locale and R will silently convert it to an escaped form when the\n",
      "R kernel executes this code. This can lead to subtle errors if you use\n",
      "such chars to do comparisons. For more information, please see\n",
      "https://github.com/IRkernel/repr/wiki/Problems-with-unicode-on-windows"
     ]
    },
    {
     "data": {
      "image/png": "[encoded data removed]",
      "text/plain": [
       "plot without title"
      ]
     },
     "metadata": {},
     "output_type": "display_data"
    }
   ],
   "source": [
    "plot(AirPassengers)\n",
    "#绘制出时间序列\n",
    "abline(reg=lm(AirPassengers~time(AirPassengers)))\n",
    "# 拟合一条直线"
   ]
  },
  {
   "cell_type": "code",
   "execution_count": 7,
   "metadata": {},
   "outputs": [
    {
     "data": {
      "text/plain": [
       "     Jan Feb Mar Apr May Jun Jul Aug Sep Oct Nov Dec\n",
       "1949   1   2   3   4   5   6   7   8   9  10  11  12\n",
       "1950   1   2   3   4   5   6   7   8   9  10  11  12\n",
       "1951   1   2   3   4   5   6   7   8   9  10  11  12\n",
       "1952   1   2   3   4   5   6   7   8   9  10  11  12\n",
       "1953   1   2   3   4   5   6   7   8   9  10  11  12\n",
       "1954   1   2   3   4   5   6   7   8   9  10  11  12\n",
       "1955   1   2   3   4   5   6   7   8   9  10  11  12\n",
       "1956   1   2   3   4   5   6   7   8   9  10  11  12\n",
       "1957   1   2   3   4   5   6   7   8   9  10  11  12\n",
       "1958   1   2   3   4   5   6   7   8   9  10  11  12\n",
       "1959   1   2   3   4   5   6   7   8   9  10  11  12\n",
       "1960   1   2   3   4   5   6   7   8   9  10  11  12"
      ]
     },
     "metadata": {},
     "output_type": "display_data"
    }
   ],
   "source": [
    "cycle(AirPassengers)"
   ]
  },
  {
   "cell_type": "code",
   "execution_count": 8,
   "metadata": {
    "scrolled": true
   },
   "outputs": [
    {
     "name": "stderr",
     "output_type": "stream",
     "text": [
      "Your code contains a unicode char which cannot be displayed in your\n",
      "current locale and R will silently convert it to an escaped form when the\n",
      "R kernel executes this code. This can lead to subtle errors if you use\n",
      "such chars to do comparisons. For more information, please see\n",
      "https://github.com/IRkernel/repr/wiki/Problems-with-unicode-on-windows"
     ]
    },
    {
     "data": {
      "image/png": "[encoded data removed]",
      "text/plain": [
       "plot without title"
      ]
     },
     "metadata": {},
     "output_type": "display_data"
    },
    {
     "data": {
      "image/png": "[encoded data removed]",
      "text/plain": [
       "plot without title"
      ]
     },
     "metadata": {},
     "output_type": "display_data"
    }
   ],
   "source": [
    "plot(aggregate(AirPassengers,FUN=mean))\n",
    "#绘制\n",
    "boxplot(AirPassengers~cycle(AirPassengers))"
   ]
  },
  {
   "cell_type": "markdown",
   "metadata": {},
   "source": [
    "这里是我的观察： \n",
    "1. 乘客有着逐年增加的趋势。 \n",
    "2. 这看起来有季节性，每一个周期不超过12个月。 \n",
    "3. 数据的方差逐年增加。 \n",
    "在我们进行平稳性测试之前我们需要解决两个问题。第一，我们需要消除方差不齐。这里我们对这个序列做求对数。第二我们需要解决序列的趋势性。我们通过对时序序列做差分。现在，我们来检验最终序列的平稳性。"
   ]
  },
  {
   "cell_type": "code",
   "execution_count": 14,
   "metadata": {},
   "outputs": [
    {
     "name": "stderr",
     "output_type": "stream",
     "text": [
      "Warning message in adf.test(diff(log(AirPassengers)), alternative = \"stationary\", :\n",
      "\"p-value smaller than printed p-value\""
     ]
    },
    {
     "data": {
      "text/plain": [
       "\n",
       "\tAugmented Dickey-Fuller Test\n",
       "\n",
       "data:  diff(log(AirPassengers))\n",
       "Dickey-Fuller = -9.6003, Lag order = 0, p-value = 0.01\n",
       "alternative hypothesis: stationary\n"
      ]
     },
     "metadata": {},
     "output_type": "display_data"
    }
   ],
   "source": [
    "library(tseries)\n",
    "adf.test(diff(log(AirPassengers)), alternative=\"stationary\", k=0)"
   ]
  },
  {
   "cell_type": "code",
   "execution_count": 15,
   "metadata": {},
   "outputs": [
    {
     "data": {
      "image/png": "[encoded data removed]",
      "text/plain": [
       "Plot with title \"Series  diff(log(AirPassengers))\""
      ]
     },
     "metadata": {},
     "output_type": "display_data"
    }
   ],
   "source": [
    "acf(diff(log(AirPassengers)))"
   ]
  },
  {
   "cell_type": "code",
   "execution_count": 16,
   "metadata": {
    "scrolled": true
   },
   "outputs": [
    {
     "data": {
      "image/png": "[encoded data removed]",
      "text/plain": [
       "Plot with title \"Series  diff(log(AirPassengers))\""
      ]
     },
     "metadata": {},
     "output_type": "display_data"
    }
   ],
   "source": [
    "pacf(diff(log(AirPassengers)))"
   ]
  },
  {
   "cell_type": "markdown",
   "metadata": {},
   "source": [
    "Clearly, ACF plot cuts off after the first lag. Hence, we understood that value of p should be 0 as the ACF is the curve getting a cut off. While value of q should be 1 or 2. After a few iterations, we found that (0,1,1) as (p,d,q) comes out to be the combination with least AIC and BIC.\n",
    "\n",
    "Let’s fit an ARIMA model and predict the future 10 years. Also, we will try fitting in a seasonal component in the ARIMA formulation. Then, we will visualize the prediction along with the training data. You can use the following code to do the same :"
   ]
  },
  {
   "cell_type": "code",
   "execution_count": 17,
   "metadata": {
    "collapsed": true
   },
   "outputs": [],
   "source": [
    "fit <- arima(log(AirPassengers), c(0, 1, 1),seasonal = list(order = c(0, 1, 1), period = 12))"
   ]
  },
  {
   "cell_type": "code",
   "execution_count": 18,
   "metadata": {
    "collapsed": true
   },
   "outputs": [],
   "source": [
    "pred <- predict(fit, n.ahead = 10*12)"
   ]
  },
  {
   "cell_type": "code",
   "execution_count": 19,
   "metadata": {
    "scrolled": true
   },
   "outputs": [
    {
     "data": {
      "image/png": "[encoded data removed]",
      "text/plain": [
       "plot without title"
      ]
     },
     "metadata": {},
     "output_type": "display_data"
    }
   ],
   "source": [
    "ts.plot(AirPassengers,2.718^pred$pred, log = \"y\", lty = c(1,3))"
   ]
  },
  {
   "cell_type": "code",
   "execution_count": 46,
   "metadata": {},
   "outputs": [
    {
     "data": {
      "text/plain": [
       "\n",
       "Call:\n",
       "arima(x = log(AirPassengers), order = c(0, 1, 1), seasonal = list(order = c(0, \n",
       "    1, 1), period = 12))\n",
       "\n",
       "Coefficients:\n",
       "          ma1     sma1\n",
       "      -0.4018  -0.5569\n",
       "s.e.   0.0896   0.0731\n",
       "\n",
       "sigma^2 estimated as 0.001348:  log likelihood = 244.7,  aic = -483.4"
      ]
     },
     "metadata": {},
     "output_type": "display_data"
    }
   ],
   "source": [
    "fit"
   ]
  },
  {
   "cell_type": "markdown",
   "metadata": {},
   "source": [
    "### evaluate the model performance and iterate for better AIC"
   ]
  },
  {
   "cell_type": "code",
   "execution_count": 51,
   "metadata": {},
   "outputs": [
    {
     "ename": "ERROR",
     "evalue": "Error in library(ts): there is no package called 'ts'\n",
     "output_type": "error",
     "traceback": [
      "Error in library(ts): there is no package called 'ts'\nTraceback:\n",
      "1. library(ts)",
      "2. stop(txt, domain = NA)"
     ]
    }
   ],
   "source": [
    "library(ts)\n",
    "tsdisplay(residuals(fit), lag.max=45, main='(1,1,1) Model Residuals')"
   ]
  },
  {
   "cell_type": "code",
   "execution_count": 53,
   "metadata": {},
   "outputs": [
    {
     "data": {
      "text/plain": [
       "\n",
       "Call:\n",
       "arima(x = log(AirPassengers), order = c(0, 1, 1), seasonal = list(order = c(0, \n",
       "    1, 2), period = 12))\n",
       "\n",
       "Coefficients:\n",
       "          ma1     sma1    sma2\n",
       "      -0.4154  -0.5979  0.0685\n",
       "s.e.   0.0900   0.0946  0.0910\n",
       "\n",
       "sigma^2 estimated as 0.00134:  log likelihood = 244.98,  aic = -481.96"
      ]
     },
     "metadata": {},
     "output_type": "display_data"
    }
   ],
   "source": [
    "fit2 <- arima(log(AirPassengers), c(0, 1, 1),seasonal = list(order = c(0, 1, 2), period = 12))\n",
    "fit2"
   ]
  },
  {
   "cell_type": "markdown",
   "metadata": {},
   "source": [
    "## Lets try machine learning on time series data and comparison"
   ]
  },
  {
   "cell_type": "code",
   "execution_count": 216,
   "metadata": {},
   "outputs": [],
   "source": [
    "library(tidyverse)"
   ]
  },
  {
   "cell_type": "code",
   "execution_count": 250,
   "metadata": {},
   "outputs": [
    {
     "ename": "ERROR",
     "evalue": "Error in unloadNamespace(\"TTR\"): namespace 'TTR' is imported by 'quantmod' so cannot be unloaded\n",
     "output_type": "error",
     "traceback": [
      "Error in unloadNamespace(\"TTR\"): namespace 'TTR' is imported by 'quantmod' so cannot be unloaded\nTraceback:\n",
      "1. unloadNamespace(\"TTR\")",
      "2. stop(gettextf(\"namespace %s is imported by %s so cannot be unloaded\", \n .     sQuote(getNamespaceName(ns)), paste(sQuote(users), collapse = \", \")), \n .     domain = NA)"
     ]
    }
   ],
   "source": [
    "unloadNamespace(\"tidyquant\")\n",
    "unloadNamespace(\"TTR\")"
   ]
  },
  {
   "cell_type": "code",
   "execution_count": 248,
   "metadata": {},
   "outputs": [
    {
     "name": "stderr",
     "output_type": "stream",
     "text": [
      "Loading required package: quantmod\n",
      "Warning message in read.dcf(file.path(p, \"DESCRIPTION\"), c(\"Package\", \"Version\")):\n",
      "\"cannot open compressed file 'C:/Users/zihao.zhang/AppData/Local/Continuum/Anaconda3/Lib/site-packages/rpy2/TTR/DESCRIPTION', probable reason 'No such file or directory'\"Loading required package: TTR\n"
     ]
    },
    {
     "ename": "ERROR",
     "evalue": "Error in value[[3L]](cond): Package 'TTR' version 0.23.3 cannot be unloaded:\n Error in unloadNamespace(package) : namespace 'TTR' is imported by 'quantmod' so cannot be unloaded\n\n",
     "output_type": "error",
     "traceback": [
      "Error in value[[3L]](cond): Package 'TTR' version 0.23.3 cannot be unloaded:\n Error in unloadNamespace(package) : namespace 'TTR' is imported by 'quantmod' so cannot be unloaded\n\nTraceback:\n",
      "1. library(tidyquant)",
      "2. .getRequiredPackages2(pkgInfo, quietly = quietly)",
      "3. library(pkg, character.only = TRUE, logical.return = TRUE, lib.loc = lib.loc, \n .     quietly = quietly)",
      "4. .getRequiredPackages2(pkgInfo, quietly = quietly)",
      "5. library(pkg, character.only = TRUE, logical.return = TRUE, lib.loc = lib.loc, \n .     quietly = quietly)",
      "6. tryCatch(unloadNamespace(package), error = function(e) {\n .     P <- if (!is.null(cc <- conditionCall(e))) \n .         paste(\"Error in\", deparse(cc)[1L], \": \")\n .     else \"Error : \"\n .     stop(gettextf(\"Package %s version %s cannot be unloaded:\\n %s\", \n .         sQuote(package), oldversion, paste0(P, conditionMessage(e), \n .             \"\\n\")), domain = NA)\n . })",
      "7. tryCatchList(expr, classes, parentenv, handlers)",
      "8. tryCatchOne(expr, names, parentenv, handlers[[1L]])",
      "9. value[[3L]](cond)",
      "10. stop(gettextf(\"Package %s version %s cannot be unloaded:\\n %s\", \n  .     sQuote(package), oldversion, paste0(P, conditionMessage(e), \n  .         \"\\n\")), domain = NA)"
     ]
    }
   ],
   "source": [
    "# Load libraries\n",
    "library(sweep)      # Broom-style tidiers for the forecast package\n",
    "library(forecast)   # Forecasting models and predictions package\n",
    "library(tidyquant)  # Loads tidyverse, financial pkgs, used to get data\n",
    "library(timetk)     # Functions working with time series"
   ]
  },
  {
   "cell_type": "code",
   "execution_count": 202,
   "metadata": {},
   "outputs": [
    {
     "ename": "ERROR",
     "evalue": "Error in tq_get(\"S4248SM144NCEN\", get = \"economic.data\", from = \"2010-01-01\", : could not find function \"tq_get\"\n",
     "output_type": "error",
     "traceback": [
      "Error in tq_get(\"S4248SM144NCEN\", get = \"economic.data\", from = \"2010-01-01\", : could not find function \"tq_get\"\nTraceback:\n"
     ]
    }
   ],
   "source": [
    "# Beer, Wine, Distilled Alcoholic Beverages, in Millions USD\n",
    "beer_sales_tbl <- tq_get(\"S4248SM144NCEN\", get = \"economic.data\", from = \"2010-01-01\", to = \"2016-12-31\")\n",
    "\n",
    "beer_sales_tbl"
   ]
  },
  {
   "cell_type": "code",
   "execution_count": 126,
   "metadata": {},
   "outputs": [
    {
     "name": "stderr",
     "output_type": "stream",
     "text": [
      "Warning message:\n",
      "\"Computation failed in `stat_sma()`:\n",
      "\"runsum\" not available for .Fortran() for package \"TTR\"\""
     ]
    },
    {
     "data": {},
     "metadata": {},
     "output_type": "display_data"
    },
    {
     "data": {
      "image/png": "[encoded data removed]",
      "text/plain": [
       "plot without title"
      ]
     },
     "metadata": {},
     "output_type": "display_data"
    }
   ],
   "source": [
    "library(ggplot2)\n",
    "# Plot Beer Sales\n",
    "beer_sales_tbl %>%\n",
    "    ggplot(aes(date, price)) +\n",
    "    geom_line(col = palette_light()[1]) +\n",
    "    geom_point(col = palette_light()[1]) +\n",
    "    geom_ma(ma_fun = SMA, n = 12, size = 1) +\n",
    "    theme_tq() +\n",
    "    scale_x_date(date_breaks = \"1 year\", date_labels = \"%Y\") +\n",
    "    labs(title = \"Beer Sales: 2007 through 2016\")"
   ]
  },
  {
   "cell_type": "code",
   "execution_count": 127,
   "metadata": {},
   "outputs": [
    {
     "name": "stderr",
     "output_type": "stream",
     "text": [
      "Warning message in tk_xts_.data.frame(ret, select = select, silent = silent):\n",
      "\"Non-numeric columns being dropped: date\""
     ]
    },
    {
     "data": {
      "text/plain": [
       "       Jan   Feb   Mar   Apr   May   Jun   Jul   Aug   Sep   Oct   Nov   Dec\n",
       "2010  6558  7481  9475  9424  9351 10552  9077  9273  9420  9413  9866 11455\n",
       "2011  6901  8014  9833  9281  9967 11344  9106 10468 10085  9612 10328 11483\n",
       "2012  7486  8641  9709  9423 11342 11274  9845 11163  9532 10754 10953 11922\n",
       "2013  8395  8888 10109 10493 12217 11385 11186 11462 10494 11541 11139 12709\n",
       "2014  8559  9061 10058 10979 11794 11906 10966 10981 10827 11815 10466 13303\n",
       "2015  8398  9061 10720 11105 11505 12903 11866 11223 12023 11986 11510 14190\n",
       "2016  8540 10158 11879 11155 11916 13291 10540 12212 11786 11424 12482 13832"
      ]
     },
     "metadata": {},
     "output_type": "display_data"
    }
   ],
   "source": [
    "# Convert from tbl to ts\n",
    "beer_sales_ts <- tk_ts(beer_sales_tbl, start = 2010, freq = 12)\n",
    "\n",
    "beer_sales_ts"
   ]
  },
  {
   "cell_type": "code",
   "execution_count": 128,
   "metadata": {},
   "outputs": [
    {
     "data": {
      "text/html": [
       "TRUE"
      ],
      "text/latex": [
       "TRUE"
      ],
      "text/markdown": [
       "TRUE"
      ],
      "text/plain": [
       "[1] TRUE"
      ]
     },
     "metadata": {},
     "output_type": "display_data"
    }
   ],
   "source": [
    "has_timetk_idx(beer_sales_ts)"
   ]
  },
  {
   "cell_type": "code",
   "execution_count": 129,
   "metadata": {},
   "outputs": [
    {
     "data": {
      "text/plain": [
       "Series: beer_sales_ts \n",
       "ARIMA(3,0,0)(1,1,0)[12] with drift \n",
       "\n",
       "Coefficients:\n",
       "          ar1     ar2     ar3     sar1    drift\n",
       "      -0.2498  0.1079  0.6210  -0.2817  32.1157\n",
       "s.e.   0.0933  0.0982  0.0925   0.1333   5.8882\n",
       "\n",
       "sigma^2 estimated as 175282:  log likelihood=-535.49\n",
       "AIC=1082.97   AICc=1084.27   BIC=1096.63"
      ]
     },
     "metadata": {},
     "output_type": "display_data"
    }
   ],
   "source": [
    "# Model using auto.arima\n",
    "fit_arima <- auto.arima(beer_sales_ts)\n",
    "\n",
    "fit_arima"
   ]
  },
  {
   "cell_type": "code",
   "execution_count": 130,
   "metadata": {},
   "outputs": [
    {
     "data": {
      "text/html": [
       "<table>\n",
       "<thead><tr><th scope=col>term</th><th scope=col>estimate</th></tr></thead>\n",
       "<tbody>\n",
       "\t<tr><td>ar1       </td><td>-0.2497937</td></tr>\n",
       "\t<tr><td>ar2       </td><td> 0.1079269</td></tr>\n",
       "\t<tr><td>ar3       </td><td> 0.6210345</td></tr>\n",
       "\t<tr><td>sar1      </td><td>-0.2816876</td></tr>\n",
       "\t<tr><td>drift     </td><td>32.1157478</td></tr>\n",
       "</tbody>\n",
       "</table>\n"
      ],
      "text/latex": [
       "\\begin{tabular}{r|ll}\n",
       " term & estimate\\\\\n",
       "\\hline\n",
       "\t ar1        & -0.2497937\\\\\n",
       "\t ar2        &  0.1079269\\\\\n",
       "\t ar3        &  0.6210345\\\\\n",
       "\t sar1       & -0.2816876\\\\\n",
       "\t drift      & 32.1157478\\\\\n",
       "\\end{tabular}\n"
      ],
      "text/markdown": [
       "\n",
       "term | estimate | \n",
       "|---|---|---|---|---|\n",
       "| ar1        | -0.2497937 | \n",
       "| ar2        |  0.1079269 | \n",
       "| ar3        |  0.6210345 | \n",
       "| sar1       | -0.2816876 | \n",
       "| drift      | 32.1157478 | \n",
       "\n",
       "\n"
      ],
      "text/plain": [
       "  term  estimate  \n",
       "1 ar1   -0.2497937\n",
       "2 ar2    0.1079269\n",
       "3 ar3    0.6210345\n",
       "4 sar1  -0.2816876\n",
       "5 drift 32.1157478"
      ]
     },
     "metadata": {},
     "output_type": "display_data"
    }
   ],
   "source": [
    "# sw_tidy - Get model coefficients\n",
    "sw_tidy(fit_arima)"
   ]
  },
  {
   "cell_type": "code",
   "execution_count": 131,
   "metadata": {},
   "outputs": [
    {
     "name": "stdout",
     "output_type": "stream",
     "text": [
      "Observations: 1\n",
      "Variables: 12\n",
      "$ model.desc <chr> \"ARIMA(3,0,0)(1,1,0)[12] with drift\"\n",
      "$ sigma      <dbl> 418.6665\n",
      "$ logLik     <dbl> -535.4873\n",
      "$ AIC        <dbl> 1082.975\n",
      "$ BIC        <dbl> 1096.635\n",
      "$ ME         <dbl> 1.189875\n",
      "$ RMSE       <dbl> 373.9091\n",
      "$ MAE        <dbl> 271.7068\n",
      "$ MPE        <dbl> -0.06716239\n",
      "$ MAPE       <dbl> 2.526077\n",
      "$ MASE       <dbl> 0.4989005\n",
      "$ ACF1       <dbl> 0.02215405\n"
     ]
    }
   ],
   "source": [
    "# sw_glance - Get model description and training set accuracy measures\n",
    "library(dplyr)\n",
    "sw_glance(fit_arima) %>%\n",
    "    glimpse()"
   ]
  },
  {
   "cell_type": "code",
   "execution_count": 132,
   "metadata": {},
   "outputs": [
    {
     "data": {
      "text/html": [
       "<table>\n",
       "<thead><tr><th scope=col>index</th><th scope=col>.actual</th><th scope=col>.fitted</th><th scope=col>.resid</th></tr></thead>\n",
       "<tbody>\n",
       "\t<tr><td>2010-01-01 </td><td> 6558      </td><td> 6551.474  </td><td>   6.525878</td></tr>\n",
       "\t<tr><td>2010-02-01 </td><td> 7481      </td><td> 7473.583  </td><td>   7.416765</td></tr>\n",
       "\t<tr><td>2010-03-01 </td><td> 9475      </td><td> 9465.621  </td><td>   9.378648</td></tr>\n",
       "\t<tr><td>2010-04-01 </td><td> 9424      </td><td> 9414.704  </td><td>   9.295526</td></tr>\n",
       "\t<tr><td>2010-05-01 </td><td> 9351      </td><td> 9341.810  </td><td>   9.190414</td></tr>\n",
       "\t<tr><td>2010-06-01 </td><td>10552      </td><td>10541.641  </td><td>  10.359293</td></tr>\n",
       "\t<tr><td>2010-07-01 </td><td> 9077      </td><td> 9068.148  </td><td>   8.852178</td></tr>\n",
       "\t<tr><td>2010-08-01 </td><td> 9273      </td><td> 9263.984  </td><td>   9.016063</td></tr>\n",
       "\t<tr><td>2010-09-01 </td><td> 9420      </td><td> 9410.869  </td><td>   9.130943</td></tr>\n",
       "\t<tr><td>2010-10-01 </td><td> 9413      </td><td> 9403.908  </td><td>   9.091831</td></tr>\n",
       "\t<tr><td>2010-11-01 </td><td> 9866      </td><td> 9856.487  </td><td>   9.512714</td></tr>\n",
       "\t<tr><td>2010-12-01 </td><td>11455      </td><td>11443.930  </td><td>  11.069595</td></tr>\n",
       "\t<tr><td>2011-01-01 </td><td> 6901      </td><td> 6931.683  </td><td> -30.682894</td></tr>\n",
       "\t<tr><td>2011-02-01 </td><td> 8014      </td><td> 7911.651  </td><td> 102.349100</td></tr>\n",
       "\t<tr><td>2011-03-01 </td><td> 9833      </td><td> 9820.162  </td><td>  12.838048</td></tr>\n",
       "\t<tr><td>2011-04-01 </td><td> 9281      </td><td> 9787.608  </td><td>-506.608267</td></tr>\n",
       "\t<tr><td>2011-05-01 </td><td> 9967      </td><td> 9955.342  </td><td>  11.658173</td></tr>\n",
       "\t<tr><td>2011-06-01 </td><td>11344      </td><td>10820.932  </td><td> 523.068364</td></tr>\n",
       "\t<tr><td>2011-07-01 </td><td> 9106      </td><td> 9066.387  </td><td>  39.613000</td></tr>\n",
       "\t<tr><td>2011-08-01 </td><td>10468      </td><td> 9947.497  </td><td> 520.502810</td></tr>\n",
       "\t<tr><td>2011-09-01 </td><td>10085      </td><td> 9819.572  </td><td> 265.428067</td></tr>\n",
       "\t<tr><td>2011-10-01 </td><td> 9612      </td><td> 9604.804  </td><td>   7.196190</td></tr>\n",
       "\t<tr><td>2011-11-01 </td><td>10328      </td><td>10793.174  </td><td>-465.173954</td></tr>\n",
       "\t<tr><td>2011-12-01 </td><td>11483      </td><td>11950.810  </td><td>-467.810421</td></tr>\n",
       "\t<tr><td>2012-01-01 </td><td> 7486      </td><td> 7280.346  </td><td> 205.654146</td></tr>\n",
       "\t<tr><td>2012-02-01 </td><td> 8641      </td><td> 8338.782  </td><td> 302.217786</td></tr>\n",
       "\t<tr><td>2012-03-01 </td><td> 9709      </td><td> 9960.057  </td><td>-251.057277</td></tr>\n",
       "\t<tr><td>2012-04-01 </td><td> 9423      </td><td>10091.513  </td><td>-668.512808</td></tr>\n",
       "\t<tr><td>2012-05-01 </td><td>11342      </td><td>10505.467  </td><td> 836.532773</td></tr>\n",
       "\t<tr><td>2012-06-01 </td><td>11274      </td><td>10987.955  </td><td> 286.045175</td></tr>\n",
       "\t<tr><td>...</td><td>...</td><td>...</td><td>...</td></tr>\n",
       "\t<tr><td>2014-07-01 </td><td>10966      </td><td>11397.523  </td><td> -431.52271</td></tr>\n",
       "\t<tr><td>2014-08-01 </td><td>10981      </td><td>11545.614  </td><td> -564.61381</td></tr>\n",
       "\t<tr><td>2014-09-01 </td><td>10827      </td><td>10939.394  </td><td> -112.39444</td></tr>\n",
       "\t<tr><td>2014-10-01 </td><td>11815      </td><td>11480.846  </td><td>  334.15406</td></tr>\n",
       "\t<tr><td>2014-11-01 </td><td>10466      </td><td>11038.825  </td><td> -572.82542</td></tr>\n",
       "\t<tr><td>2014-12-01 </td><td>13303      </td><td>13328.192  </td><td>  -25.19218</td></tr>\n",
       "\t<tr><td>2015-01-01 </td><td> 8398      </td><td> 8807.173  </td><td> -409.17303</td></tr>\n",
       "\t<tr><td>2015-02-01 </td><td> 9061      </td><td> 9000.826  </td><td>   60.17371</td></tr>\n",
       "\t<tr><td>2015-03-01 </td><td>10720      </td><td>10811.637  </td><td>  -91.63746</td></tr>\n",
       "\t<tr><td>2015-04-01 </td><td>11105      </td><td>10871.552  </td><td>  233.44812</td></tr>\n",
       "\t<tr><td>2015-05-01 </td><td>11505      </td><td>12204.909  </td><td> -699.90864</td></tr>\n",
       "\t<tr><td>2015-06-01 </td><td>12903      </td><td>12549.036  </td><td>  353.96381</td></tr>\n",
       "\t<tr><td>2015-07-01 </td><td>11866      </td><td>11118.751  </td><td>  747.24904</td></tr>\n",
       "\t<tr><td>2015-08-01 </td><td>11223      </td><td>11034.386  </td><td>  188.61351</td></tr>\n",
       "\t<tr><td>2015-09-01 </td><td>12023      </td><td>11764.617  </td><td>  258.38307</td></tr>\n",
       "\t<tr><td>2015-10-01 </td><td>11986      </td><td>12204.837  </td><td> -218.83726</td></tr>\n",
       "\t<tr><td>2015-11-01 </td><td>11510      </td><td>11056.195  </td><td>  453.80475</td></tr>\n",
       "\t<tr><td>2015-12-01 </td><td>14190      </td><td>14007.309  </td><td>  182.69094</td></tr>\n",
       "\t<tr><td>2016-01-01 </td><td> 8540      </td><td> 8683.598  </td><td> -143.59806</td></tr>\n",
       "\t<tr><td>2016-02-01 </td><td>10158      </td><td> 9938.539  </td><td>  219.46125</td></tr>\n",
       "\t<tr><td>2016-03-01 </td><td>11879      </td><td>11181.965  </td><td>  697.03511</td></tr>\n",
       "\t<tr><td>2016-04-01 </td><td>11155      </td><td>11169.098  </td><td>  -14.09764</td></tr>\n",
       "\t<tr><td>2016-05-01 </td><td>11916      </td><td>12648.804  </td><td> -732.80446</td></tr>\n",
       "\t<tr><td>2016-06-01 </td><td>13291      </td><td>13641.906  </td><td> -350.90626</td></tr>\n",
       "\t<tr><td>2016-07-01 </td><td>10540      </td><td>11791.338  </td><td>-1251.33844</td></tr>\n",
       "\t<tr><td>2016-08-01 </td><td>12212      </td><td>11956.869  </td><td>  255.13094</td></tr>\n",
       "\t<tr><td>2016-09-01 </td><td>11786      </td><td>11978.917  </td><td> -192.91652</td></tr>\n",
       "\t<tr><td>2016-10-01 </td><td>11424      </td><td>11618.191  </td><td> -194.19081</td></tr>\n",
       "\t<tr><td>2016-11-01 </td><td>12482      </td><td>12268.854  </td><td>  213.14612</td></tr>\n",
       "\t<tr><td>2016-12-01 </td><td>13832      </td><td>13887.732  </td><td>  -55.73214</td></tr>\n",
       "</tbody>\n",
       "</table>\n"
      ],
      "text/latex": [
       "\\begin{tabular}{r|llll}\n",
       " index & .actual & .fitted & .resid\\\\\n",
       "\\hline\n",
       "\t 2010-01-01  &  6558       &  6551.474   &    6.525878\\\\\n",
       "\t 2010-02-01  &  7481       &  7473.583   &    7.416765\\\\\n",
       "\t 2010-03-01  &  9475       &  9465.621   &    9.378648\\\\\n",
       "\t 2010-04-01  &  9424       &  9414.704   &    9.295526\\\\\n",
       "\t 2010-05-01  &  9351       &  9341.810   &    9.190414\\\\\n",
       "\t 2010-06-01  & 10552       & 10541.641   &   10.359293\\\\\n",
       "\t 2010-07-01  &  9077       &  9068.148   &    8.852178\\\\\n",
       "\t 2010-08-01  &  9273       &  9263.984   &    9.016063\\\\\n",
       "\t 2010-09-01  &  9420       &  9410.869   &    9.130943\\\\\n",
       "\t 2010-10-01  &  9413       &  9403.908   &    9.091831\\\\\n",
       "\t 2010-11-01  &  9866       &  9856.487   &    9.512714\\\\\n",
       "\t 2010-12-01  & 11455       & 11443.930   &   11.069595\\\\\n",
       "\t 2011-01-01  &  6901       &  6931.683   &  -30.682894\\\\\n",
       "\t 2011-02-01  &  8014       &  7911.651   &  102.349100\\\\\n",
       "\t 2011-03-01  &  9833       &  9820.162   &   12.838048\\\\\n",
       "\t 2011-04-01  &  9281       &  9787.608   & -506.608267\\\\\n",
       "\t 2011-05-01  &  9967       &  9955.342   &   11.658173\\\\\n",
       "\t 2011-06-01  & 11344       & 10820.932   &  523.068364\\\\\n",
       "\t 2011-07-01  &  9106       &  9066.387   &   39.613000\\\\\n",
       "\t 2011-08-01  & 10468       &  9947.497   &  520.502810\\\\\n",
       "\t 2011-09-01  & 10085       &  9819.572   &  265.428067\\\\\n",
       "\t 2011-10-01  &  9612       &  9604.804   &    7.196190\\\\\n",
       "\t 2011-11-01  & 10328       & 10793.174   & -465.173954\\\\\n",
       "\t 2011-12-01  & 11483       & 11950.810   & -467.810421\\\\\n",
       "\t 2012-01-01  &  7486       &  7280.346   &  205.654146\\\\\n",
       "\t 2012-02-01  &  8641       &  8338.782   &  302.217786\\\\\n",
       "\t 2012-03-01  &  9709       &  9960.057   & -251.057277\\\\\n",
       "\t 2012-04-01  &  9423       & 10091.513   & -668.512808\\\\\n",
       "\t 2012-05-01  & 11342       & 10505.467   &  836.532773\\\\\n",
       "\t 2012-06-01  & 11274       & 10987.955   &  286.045175\\\\\n",
       "\t ... & ... & ... & ...\\\\\n",
       "\t 2014-07-01  & 10966       & 11397.523   &  -431.52271\\\\\n",
       "\t 2014-08-01  & 10981       & 11545.614   &  -564.61381\\\\\n",
       "\t 2014-09-01  & 10827       & 10939.394   &  -112.39444\\\\\n",
       "\t 2014-10-01  & 11815       & 11480.846   &   334.15406\\\\\n",
       "\t 2014-11-01  & 10466       & 11038.825   &  -572.82542\\\\\n",
       "\t 2014-12-01  & 13303       & 13328.192   &   -25.19218\\\\\n",
       "\t 2015-01-01  &  8398       &  8807.173   &  -409.17303\\\\\n",
       "\t 2015-02-01  &  9061       &  9000.826   &    60.17371\\\\\n",
       "\t 2015-03-01  & 10720       & 10811.637   &   -91.63746\\\\\n",
       "\t 2015-04-01  & 11105       & 10871.552   &   233.44812\\\\\n",
       "\t 2015-05-01  & 11505       & 12204.909   &  -699.90864\\\\\n",
       "\t 2015-06-01  & 12903       & 12549.036   &   353.96381\\\\\n",
       "\t 2015-07-01  & 11866       & 11118.751   &   747.24904\\\\\n",
       "\t 2015-08-01  & 11223       & 11034.386   &   188.61351\\\\\n",
       "\t 2015-09-01  & 12023       & 11764.617   &   258.38307\\\\\n",
       "\t 2015-10-01  & 11986       & 12204.837   &  -218.83726\\\\\n",
       "\t 2015-11-01  & 11510       & 11056.195   &   453.80475\\\\\n",
       "\t 2015-12-01  & 14190       & 14007.309   &   182.69094\\\\\n",
       "\t 2016-01-01  &  8540       &  8683.598   &  -143.59806\\\\\n",
       "\t 2016-02-01  & 10158       &  9938.539   &   219.46125\\\\\n",
       "\t 2016-03-01  & 11879       & 11181.965   &   697.03511\\\\\n",
       "\t 2016-04-01  & 11155       & 11169.098   &   -14.09764\\\\\n",
       "\t 2016-05-01  & 11916       & 12648.804   &  -732.80446\\\\\n",
       "\t 2016-06-01  & 13291       & 13641.906   &  -350.90626\\\\\n",
       "\t 2016-07-01  & 10540       & 11791.338   & -1251.33844\\\\\n",
       "\t 2016-08-01  & 12212       & 11956.869   &   255.13094\\\\\n",
       "\t 2016-09-01  & 11786       & 11978.917   &  -192.91652\\\\\n",
       "\t 2016-10-01  & 11424       & 11618.191   &  -194.19081\\\\\n",
       "\t 2016-11-01  & 12482       & 12268.854   &   213.14612\\\\\n",
       "\t 2016-12-01  & 13832       & 13887.732   &   -55.73214\\\\\n",
       "\\end{tabular}\n"
      ],
      "text/markdown": [
       "\n",
       "index | .actual | .fitted | .resid | \n",
       "|---|---|---|---|---|---|---|---|---|---|---|---|---|---|---|---|---|---|---|---|---|---|---|---|---|---|---|---|---|---|---|---|---|---|---|---|---|---|---|---|---|---|---|---|---|---|---|---|---|---|---|---|---|---|---|---|---|---|---|---|---|\n",
       "| 2010-01-01  |  6558       |  6551.474   |    6.525878 | \n",
       "| 2010-02-01  |  7481       |  7473.583   |    7.416765 | \n",
       "| 2010-03-01  |  9475       |  9465.621   |    9.378648 | \n",
       "| 2010-04-01  |  9424       |  9414.704   |    9.295526 | \n",
       "| 2010-05-01  |  9351       |  9341.810   |    9.190414 | \n",
       "| 2010-06-01  | 10552       | 10541.641   |   10.359293 | \n",
       "| 2010-07-01  |  9077       |  9068.148   |    8.852178 | \n",
       "| 2010-08-01  |  9273       |  9263.984   |    9.016063 | \n",
       "| 2010-09-01  |  9420       |  9410.869   |    9.130943 | \n",
       "| 2010-10-01  |  9413       |  9403.908   |    9.091831 | \n",
       "| 2010-11-01  |  9866       |  9856.487   |    9.512714 | \n",
       "| 2010-12-01  | 11455       | 11443.930   |   11.069595 | \n",
       "| 2011-01-01  |  6901       |  6931.683   |  -30.682894 | \n",
       "| 2011-02-01  |  8014       |  7911.651   |  102.349100 | \n",
       "| 2011-03-01  |  9833       |  9820.162   |   12.838048 | \n",
       "| 2011-04-01  |  9281       |  9787.608   | -506.608267 | \n",
       "| 2011-05-01  |  9967       |  9955.342   |   11.658173 | \n",
       "| 2011-06-01  | 11344       | 10820.932   |  523.068364 | \n",
       "| 2011-07-01  |  9106       |  9066.387   |   39.613000 | \n",
       "| 2011-08-01  | 10468       |  9947.497   |  520.502810 | \n",
       "| 2011-09-01  | 10085       |  9819.572   |  265.428067 | \n",
       "| 2011-10-01  |  9612       |  9604.804   |    7.196190 | \n",
       "| 2011-11-01  | 10328       | 10793.174   | -465.173954 | \n",
       "| 2011-12-01  | 11483       | 11950.810   | -467.810421 | \n",
       "| 2012-01-01  |  7486       |  7280.346   |  205.654146 | \n",
       "| 2012-02-01  |  8641       |  8338.782   |  302.217786 | \n",
       "| 2012-03-01  |  9709       |  9960.057   | -251.057277 | \n",
       "| 2012-04-01  |  9423       | 10091.513   | -668.512808 | \n",
       "| 2012-05-01  | 11342       | 10505.467   |  836.532773 | \n",
       "| 2012-06-01  | 11274       | 10987.955   |  286.045175 | \n",
       "| ... | ... | ... | ... | \n",
       "| 2014-07-01  | 10966       | 11397.523   |  -431.52271 | \n",
       "| 2014-08-01  | 10981       | 11545.614   |  -564.61381 | \n",
       "| 2014-09-01  | 10827       | 10939.394   |  -112.39444 | \n",
       "| 2014-10-01  | 11815       | 11480.846   |   334.15406 | \n",
       "| 2014-11-01  | 10466       | 11038.825   |  -572.82542 | \n",
       "| 2014-12-01  | 13303       | 13328.192   |   -25.19218 | \n",
       "| 2015-01-01  |  8398       |  8807.173   |  -409.17303 | \n",
       "| 2015-02-01  |  9061       |  9000.826   |    60.17371 | \n",
       "| 2015-03-01  | 10720       | 10811.637   |   -91.63746 | \n",
       "| 2015-04-01  | 11105       | 10871.552   |   233.44812 | \n",
       "| 2015-05-01  | 11505       | 12204.909   |  -699.90864 | \n",
       "| 2015-06-01  | 12903       | 12549.036   |   353.96381 | \n",
       "| 2015-07-01  | 11866       | 11118.751   |   747.24904 | \n",
       "| 2015-08-01  | 11223       | 11034.386   |   188.61351 | \n",
       "| 2015-09-01  | 12023       | 11764.617   |   258.38307 | \n",
       "| 2015-10-01  | 11986       | 12204.837   |  -218.83726 | \n",
       "| 2015-11-01  | 11510       | 11056.195   |   453.80475 | \n",
       "| 2015-12-01  | 14190       | 14007.309   |   182.69094 | \n",
       "| 2016-01-01  |  8540       |  8683.598   |  -143.59806 | \n",
       "| 2016-02-01  | 10158       |  9938.539   |   219.46125 | \n",
       "| 2016-03-01  | 11879       | 11181.965   |   697.03511 | \n",
       "| 2016-04-01  | 11155       | 11169.098   |   -14.09764 | \n",
       "| 2016-05-01  | 11916       | 12648.804   |  -732.80446 | \n",
       "| 2016-06-01  | 13291       | 13641.906   |  -350.90626 | \n",
       "| 2016-07-01  | 10540       | 11791.338   | -1251.33844 | \n",
       "| 2016-08-01  | 12212       | 11956.869   |   255.13094 | \n",
       "| 2016-09-01  | 11786       | 11978.917   |  -192.91652 | \n",
       "| 2016-10-01  | 11424       | 11618.191   |  -194.19081 | \n",
       "| 2016-11-01  | 12482       | 12268.854   |   213.14612 | \n",
       "| 2016-12-01  | 13832       | 13887.732   |   -55.73214 | \n",
       "\n",
       "\n"
      ],
      "text/plain": [
       "    index      .actual .fitted   .resid     \n",
       "1   2010-01-01  6558    6551.474    6.525878\n",
       "2   2010-02-01  7481    7473.583    7.416765\n",
       "3   2010-03-01  9475    9465.621    9.378648\n",
       "4   2010-04-01  9424    9414.704    9.295526\n",
       "5   2010-05-01  9351    9341.810    9.190414\n",
       "6   2010-06-01 10552   10541.641   10.359293\n",
       "7   2010-07-01  9077    9068.148    8.852178\n",
       "8   2010-08-01  9273    9263.984    9.016063\n",
       "9   2010-09-01  9420    9410.869    9.130943\n",
       "10  2010-10-01  9413    9403.908    9.091831\n",
       "11  2010-11-01  9866    9856.487    9.512714\n",
       "12  2010-12-01 11455   11443.930   11.069595\n",
       "13  2011-01-01  6901    6931.683  -30.682894\n",
       "14  2011-02-01  8014    7911.651  102.349100\n",
       "15  2011-03-01  9833    9820.162   12.838048\n",
       "16  2011-04-01  9281    9787.608 -506.608267\n",
       "17  2011-05-01  9967    9955.342   11.658173\n",
       "18  2011-06-01 11344   10820.932  523.068364\n",
       "19  2011-07-01  9106    9066.387   39.613000\n",
       "20  2011-08-01 10468    9947.497  520.502810\n",
       "21  2011-09-01 10085    9819.572  265.428067\n",
       "22  2011-10-01  9612    9604.804    7.196190\n",
       "23  2011-11-01 10328   10793.174 -465.173954\n",
       "24  2011-12-01 11483   11950.810 -467.810421\n",
       "25  2012-01-01  7486    7280.346  205.654146\n",
       "26  2012-02-01  8641    8338.782  302.217786\n",
       "27  2012-03-01  9709    9960.057 -251.057277\n",
       "28  2012-04-01  9423   10091.513 -668.512808\n",
       "29  2012-05-01 11342   10505.467  836.532773\n",
       "30  2012-06-01 11274   10987.955  286.045175\n",
       "... ...        ...     ...       ...        \n",
       "55  2014-07-01 10966   11397.523  -431.52271\n",
       "56  2014-08-01 10981   11545.614  -564.61381\n",
       "57  2014-09-01 10827   10939.394  -112.39444\n",
       "58  2014-10-01 11815   11480.846   334.15406\n",
       "59  2014-11-01 10466   11038.825  -572.82542\n",
       "60  2014-12-01 13303   13328.192   -25.19218\n",
       "61  2015-01-01  8398    8807.173  -409.17303\n",
       "62  2015-02-01  9061    9000.826    60.17371\n",
       "63  2015-03-01 10720   10811.637   -91.63746\n",
       "64  2015-04-01 11105   10871.552   233.44812\n",
       "65  2015-05-01 11505   12204.909  -699.90864\n",
       "66  2015-06-01 12903   12549.036   353.96381\n",
       "67  2015-07-01 11866   11118.751   747.24904\n",
       "68  2015-08-01 11223   11034.386   188.61351\n",
       "69  2015-09-01 12023   11764.617   258.38307\n",
       "70  2015-10-01 11986   12204.837  -218.83726\n",
       "71  2015-11-01 11510   11056.195   453.80475\n",
       "72  2015-12-01 14190   14007.309   182.69094\n",
       "73  2016-01-01  8540    8683.598  -143.59806\n",
       "74  2016-02-01 10158    9938.539   219.46125\n",
       "75  2016-03-01 11879   11181.965   697.03511\n",
       "76  2016-04-01 11155   11169.098   -14.09764\n",
       "77  2016-05-01 11916   12648.804  -732.80446\n",
       "78  2016-06-01 13291   13641.906  -350.90626\n",
       "79  2016-07-01 10540   11791.338 -1251.33844\n",
       "80  2016-08-01 12212   11956.869   255.13094\n",
       "81  2016-09-01 11786   11978.917  -192.91652\n",
       "82  2016-10-01 11424   11618.191  -194.19081\n",
       "83  2016-11-01 12482   12268.854   213.14612\n",
       "84  2016-12-01 13832   13887.732   -55.73214"
      ]
     },
     "metadata": {},
     "output_type": "display_data"
    }
   ],
   "source": [
    "# sw_augment - get model residuals\n",
    "sw_augment(fit_arima, timetk_idx = TRUE)"
   ]
  },
  {
   "cell_type": "code",
   "execution_count": 133,
   "metadata": {},
   "outputs": [
    {
     "data": {},
     "metadata": {},
     "output_type": "display_data"
    },
    {
     "data": {
      "image/png": "[encoded data removed]",
      "text/plain": [
       "plot without title"
      ]
     },
     "metadata": {},
     "output_type": "display_data"
    }
   ],
   "source": [
    "# Plotting residuals\n",
    "# We can visualize the residual diagnostics for the training data to make sure there is no pattern leftover.\n",
    "\n",
    "sw_augment(fit_arima, timetk_idx = TRUE) %>%\n",
    "    ggplot(aes(x = index, y = .resid)) +\n",
    "    geom_point() + \n",
    "    geom_hline(yintercept = 0, color = \"red\") + \n",
    "    labs(title = \"Residual diagnostic\") +\n",
    "    scale_x_date(date_breaks = \"1 year\", date_labels = \"%Y\") +\n",
    "    theme_tq()"
   ]
  },
  {
   "cell_type": "code",
   "execution_count": 134,
   "metadata": {},
   "outputs": [
    {
     "data": {
      "text/html": [
       "<table>\n",
       "<thead><tr><th scope=col>index</th><th scope=col>key</th><th scope=col>price</th><th scope=col>lo.80</th><th scope=col>lo.95</th><th scope=col>hi.80</th><th scope=col>hi.95</th></tr></thead>\n",
       "<tbody>\n",
       "\t<tr><td>2010-01-01</td><td>actual    </td><td> 6558     </td><td>NA        </td><td>NA        </td><td>NA        </td><td>NA        </td></tr>\n",
       "\t<tr><td>2010-02-01</td><td>actual    </td><td> 7481     </td><td>NA        </td><td>NA        </td><td>NA        </td><td>NA        </td></tr>\n",
       "\t<tr><td>2010-03-01</td><td>actual    </td><td> 9475     </td><td>NA        </td><td>NA        </td><td>NA        </td><td>NA        </td></tr>\n",
       "\t<tr><td>2010-04-01</td><td>actual    </td><td> 9424     </td><td>NA        </td><td>NA        </td><td>NA        </td><td>NA        </td></tr>\n",
       "\t<tr><td>2010-05-01</td><td>actual    </td><td> 9351     </td><td>NA        </td><td>NA        </td><td>NA        </td><td>NA        </td></tr>\n",
       "\t<tr><td>2010-06-01</td><td>actual    </td><td>10552     </td><td>NA        </td><td>NA        </td><td>NA        </td><td>NA        </td></tr>\n",
       "\t<tr><td>2010-07-01</td><td>actual    </td><td> 9077     </td><td>NA        </td><td>NA        </td><td>NA        </td><td>NA        </td></tr>\n",
       "\t<tr><td>2010-08-01</td><td>actual    </td><td> 9273     </td><td>NA        </td><td>NA        </td><td>NA        </td><td>NA        </td></tr>\n",
       "\t<tr><td>2010-09-01</td><td>actual    </td><td> 9420     </td><td>NA        </td><td>NA        </td><td>NA        </td><td>NA        </td></tr>\n",
       "\t<tr><td>2010-10-01</td><td>actual    </td><td> 9413     </td><td>NA        </td><td>NA        </td><td>NA        </td><td>NA        </td></tr>\n",
       "\t<tr><td>2010-11-01</td><td>actual    </td><td> 9866     </td><td>NA        </td><td>NA        </td><td>NA        </td><td>NA        </td></tr>\n",
       "\t<tr><td>2010-12-01</td><td>actual    </td><td>11455     </td><td>NA        </td><td>NA        </td><td>NA        </td><td>NA        </td></tr>\n",
       "\t<tr><td>2011-01-01</td><td>actual    </td><td> 6901     </td><td>NA        </td><td>NA        </td><td>NA        </td><td>NA        </td></tr>\n",
       "\t<tr><td>2011-02-01</td><td>actual    </td><td> 8014     </td><td>NA        </td><td>NA        </td><td>NA        </td><td>NA        </td></tr>\n",
       "\t<tr><td>2011-03-01</td><td>actual    </td><td> 9833     </td><td>NA        </td><td>NA        </td><td>NA        </td><td>NA        </td></tr>\n",
       "\t<tr><td>2011-04-01</td><td>actual    </td><td> 9281     </td><td>NA        </td><td>NA        </td><td>NA        </td><td>NA        </td></tr>\n",
       "\t<tr><td>2011-05-01</td><td>actual    </td><td> 9967     </td><td>NA        </td><td>NA        </td><td>NA        </td><td>NA        </td></tr>\n",
       "\t<tr><td>2011-06-01</td><td>actual    </td><td>11344     </td><td>NA        </td><td>NA        </td><td>NA        </td><td>NA        </td></tr>\n",
       "\t<tr><td>2011-07-01</td><td>actual    </td><td> 9106     </td><td>NA        </td><td>NA        </td><td>NA        </td><td>NA        </td></tr>\n",
       "\t<tr><td>2011-08-01</td><td>actual    </td><td>10468     </td><td>NA        </td><td>NA        </td><td>NA        </td><td>NA        </td></tr>\n",
       "\t<tr><td>2011-09-01</td><td>actual    </td><td>10085     </td><td>NA        </td><td>NA        </td><td>NA        </td><td>NA        </td></tr>\n",
       "\t<tr><td>2011-10-01</td><td>actual    </td><td> 9612     </td><td>NA        </td><td>NA        </td><td>NA        </td><td>NA        </td></tr>\n",
       "\t<tr><td>2011-11-01</td><td>actual    </td><td>10328     </td><td>NA        </td><td>NA        </td><td>NA        </td><td>NA        </td></tr>\n",
       "\t<tr><td>2011-12-01</td><td>actual    </td><td>11483     </td><td>NA        </td><td>NA        </td><td>NA        </td><td>NA        </td></tr>\n",
       "\t<tr><td>2012-01-01</td><td>actual    </td><td> 7486     </td><td>NA        </td><td>NA        </td><td>NA        </td><td>NA        </td></tr>\n",
       "\t<tr><td>2012-02-01</td><td>actual    </td><td> 8641     </td><td>NA        </td><td>NA        </td><td>NA        </td><td>NA        </td></tr>\n",
       "\t<tr><td>2012-03-01</td><td>actual    </td><td> 9709     </td><td>NA        </td><td>NA        </td><td>NA        </td><td>NA        </td></tr>\n",
       "\t<tr><td>2012-04-01</td><td>actual    </td><td> 9423     </td><td>NA        </td><td>NA        </td><td>NA        </td><td>NA        </td></tr>\n",
       "\t<tr><td>2012-05-01</td><td>actual    </td><td>11342     </td><td>NA        </td><td>NA        </td><td>NA        </td><td>NA        </td></tr>\n",
       "\t<tr><td>2012-06-01</td><td>actual    </td><td>11274     </td><td>NA        </td><td>NA        </td><td>NA        </td><td>NA        </td></tr>\n",
       "\t<tr><td>...</td><td>...</td><td>...</td><td>...</td><td>...</td><td>...</td><td>...</td></tr>\n",
       "\t<tr><td>2015-07-01</td><td>actual    </td><td>11866.000 </td><td>       NA </td><td>       NA </td><td>       NA </td><td>       NA </td></tr>\n",
       "\t<tr><td>2015-08-01</td><td>actual    </td><td>11223.000 </td><td>       NA </td><td>       NA </td><td>       NA </td><td>       NA </td></tr>\n",
       "\t<tr><td>2015-09-01</td><td>actual    </td><td>12023.000 </td><td>       NA </td><td>       NA </td><td>       NA </td><td>       NA </td></tr>\n",
       "\t<tr><td>2015-10-01</td><td>actual    </td><td>11986.000 </td><td>       NA </td><td>       NA </td><td>       NA </td><td>       NA </td></tr>\n",
       "\t<tr><td>2015-11-01</td><td>actual    </td><td>11510.000 </td><td>       NA </td><td>       NA </td><td>       NA </td><td>       NA </td></tr>\n",
       "\t<tr><td>2015-12-01</td><td>actual    </td><td>14190.000 </td><td>       NA </td><td>       NA </td><td>       NA </td><td>       NA </td></tr>\n",
       "\t<tr><td>2016-01-01</td><td>actual    </td><td> 8540.000 </td><td>       NA </td><td>       NA </td><td>       NA </td><td>       NA </td></tr>\n",
       "\t<tr><td>2016-02-01</td><td>actual    </td><td>10158.000 </td><td>       NA </td><td>       NA </td><td>       NA </td><td>       NA </td></tr>\n",
       "\t<tr><td>2016-03-01</td><td>actual    </td><td>11879.000 </td><td>       NA </td><td>       NA </td><td>       NA </td><td>       NA </td></tr>\n",
       "\t<tr><td>2016-04-01</td><td>actual    </td><td>11155.000 </td><td>       NA </td><td>       NA </td><td>       NA </td><td>       NA </td></tr>\n",
       "\t<tr><td>2016-05-01</td><td>actual    </td><td>11916.000 </td><td>       NA </td><td>       NA </td><td>       NA </td><td>       NA </td></tr>\n",
       "\t<tr><td>2016-06-01</td><td>actual    </td><td>13291.000 </td><td>       NA </td><td>       NA </td><td>       NA </td><td>       NA </td></tr>\n",
       "\t<tr><td>2016-07-01</td><td>actual    </td><td>10540.000 </td><td>       NA </td><td>       NA </td><td>       NA </td><td>       NA </td></tr>\n",
       "\t<tr><td>2016-08-01</td><td>actual    </td><td>12212.000 </td><td>       NA </td><td>       NA </td><td>       NA </td><td>       NA </td></tr>\n",
       "\t<tr><td>2016-09-01</td><td>actual    </td><td>11786.000 </td><td>       NA </td><td>       NA </td><td>       NA </td><td>       NA </td></tr>\n",
       "\t<tr><td>2016-10-01</td><td>actual    </td><td>11424.000 </td><td>       NA </td><td>       NA </td><td>       NA </td><td>       NA </td></tr>\n",
       "\t<tr><td>2016-11-01</td><td>actual    </td><td>12482.000 </td><td>       NA </td><td>       NA </td><td>       NA </td><td>       NA </td></tr>\n",
       "\t<tr><td>2016-12-01</td><td>actual    </td><td>13832.000 </td><td>       NA </td><td>       NA </td><td>       NA </td><td>       NA </td></tr>\n",
       "\t<tr><td>2017-01-01</td><td>forecast  </td><td> 8601.815 </td><td> 8065.273 </td><td> 7781.244 </td><td> 9138.358 </td><td> 9422.387 </td></tr>\n",
       "\t<tr><td>2017-02-01</td><td>forecast  </td><td>10855.429 </td><td>10302.400 </td><td>10009.645 </td><td>11408.458 </td><td>11701.214 </td></tr>\n",
       "\t<tr><td>2017-03-01</td><td>forecast  </td><td>11502.214 </td><td>10941.685 </td><td>10644.959 </td><td>12062.742 </td><td>12359.468 </td></tr>\n",
       "\t<tr><td>2017-04-01</td><td>forecast  </td><td>11582.600 </td><td>10948.754 </td><td>10613.216 </td><td>12216.445 </td><td>12551.983 </td></tr>\n",
       "\t<tr><td>2017-05-01</td><td>forecast  </td><td>12566.765 </td><td>11916.031 </td><td>11571.554 </td><td>13217.499 </td><td>13561.977 </td></tr>\n",
       "\t<tr><td>2017-06-01</td><td>forecast  </td><td>13263.918 </td><td>12601.196 </td><td>12250.372 </td><td>13926.640 </td><td>14277.464 </td></tr>\n",
       "\t<tr><td>2017-07-01</td><td>forecast  </td><td>11507.277 </td><td>10830.637 </td><td>10472.445 </td><td>12183.917 </td><td>12542.109 </td></tr>\n",
       "\t<tr><td>2017-08-01</td><td>forecast  </td><td>12527.278 </td><td>11841.425 </td><td>11478.357 </td><td>13213.131 </td><td>13576.199 </td></tr>\n",
       "\t<tr><td>2017-09-01</td><td>forecast  </td><td>12076.820 </td><td>11380.436 </td><td>11011.792 </td><td>12773.204 </td><td>13141.847 </td></tr>\n",
       "\t<tr><td>2017-10-01</td><td>forecast  </td><td>12216.443 </td><td>11518.760 </td><td>11149.428 </td><td>12914.127 </td><td>13283.458 </td></tr>\n",
       "\t<tr><td>2017-11-01</td><td>forecast  </td><td>12700.055 </td><td>11999.144 </td><td>11628.104 </td><td>13400.966 </td><td>13772.006 </td></tr>\n",
       "\t<tr><td>2017-12-01</td><td>forecast  </td><td>14274.835 </td><td>13567.339 </td><td>13192.813 </td><td>14982.331 </td><td>15356.857 </td></tr>\n",
       "</tbody>\n",
       "</table>\n"
      ],
      "text/latex": [
       "\\begin{tabular}{r|lllllll}\n",
       " index & key & price & lo.80 & lo.95 & hi.80 & hi.95\\\\\n",
       "\\hline\n",
       "\t 2010-01-01 & actual     &  6558      & NA         & NA         & NA         & NA        \\\\\n",
       "\t 2010-02-01 & actual     &  7481      & NA         & NA         & NA         & NA        \\\\\n",
       "\t 2010-03-01 & actual     &  9475      & NA         & NA         & NA         & NA        \\\\\n",
       "\t 2010-04-01 & actual     &  9424      & NA         & NA         & NA         & NA        \\\\\n",
       "\t 2010-05-01 & actual     &  9351      & NA         & NA         & NA         & NA        \\\\\n",
       "\t 2010-06-01 & actual     & 10552      & NA         & NA         & NA         & NA        \\\\\n",
       "\t 2010-07-01 & actual     &  9077      & NA         & NA         & NA         & NA        \\\\\n",
       "\t 2010-08-01 & actual     &  9273      & NA         & NA         & NA         & NA        \\\\\n",
       "\t 2010-09-01 & actual     &  9420      & NA         & NA         & NA         & NA        \\\\\n",
       "\t 2010-10-01 & actual     &  9413      & NA         & NA         & NA         & NA        \\\\\n",
       "\t 2010-11-01 & actual     &  9866      & NA         & NA         & NA         & NA        \\\\\n",
       "\t 2010-12-01 & actual     & 11455      & NA         & NA         & NA         & NA        \\\\\n",
       "\t 2011-01-01 & actual     &  6901      & NA         & NA         & NA         & NA        \\\\\n",
       "\t 2011-02-01 & actual     &  8014      & NA         & NA         & NA         & NA        \\\\\n",
       "\t 2011-03-01 & actual     &  9833      & NA         & NA         & NA         & NA        \\\\\n",
       "\t 2011-04-01 & actual     &  9281      & NA         & NA         & NA         & NA        \\\\\n",
       "\t 2011-05-01 & actual     &  9967      & NA         & NA         & NA         & NA        \\\\\n",
       "\t 2011-06-01 & actual     & 11344      & NA         & NA         & NA         & NA        \\\\\n",
       "\t 2011-07-01 & actual     &  9106      & NA         & NA         & NA         & NA        \\\\\n",
       "\t 2011-08-01 & actual     & 10468      & NA         & NA         & NA         & NA        \\\\\n",
       "\t 2011-09-01 & actual     & 10085      & NA         & NA         & NA         & NA        \\\\\n",
       "\t 2011-10-01 & actual     &  9612      & NA         & NA         & NA         & NA        \\\\\n",
       "\t 2011-11-01 & actual     & 10328      & NA         & NA         & NA         & NA        \\\\\n",
       "\t 2011-12-01 & actual     & 11483      & NA         & NA         & NA         & NA        \\\\\n",
       "\t 2012-01-01 & actual     &  7486      & NA         & NA         & NA         & NA        \\\\\n",
       "\t 2012-02-01 & actual     &  8641      & NA         & NA         & NA         & NA        \\\\\n",
       "\t 2012-03-01 & actual     &  9709      & NA         & NA         & NA         & NA        \\\\\n",
       "\t 2012-04-01 & actual     &  9423      & NA         & NA         & NA         & NA        \\\\\n",
       "\t 2012-05-01 & actual     & 11342      & NA         & NA         & NA         & NA        \\\\\n",
       "\t 2012-06-01 & actual     & 11274      & NA         & NA         & NA         & NA        \\\\\n",
       "\t ... & ... & ... & ... & ... & ... & ...\\\\\n",
       "\t 2015-07-01 & actual     & 11866.000  &        NA  &        NA  &        NA  &        NA \\\\\n",
       "\t 2015-08-01 & actual     & 11223.000  &        NA  &        NA  &        NA  &        NA \\\\\n",
       "\t 2015-09-01 & actual     & 12023.000  &        NA  &        NA  &        NA  &        NA \\\\\n",
       "\t 2015-10-01 & actual     & 11986.000  &        NA  &        NA  &        NA  &        NA \\\\\n",
       "\t 2015-11-01 & actual     & 11510.000  &        NA  &        NA  &        NA  &        NA \\\\\n",
       "\t 2015-12-01 & actual     & 14190.000  &        NA  &        NA  &        NA  &        NA \\\\\n",
       "\t 2016-01-01 & actual     &  8540.000  &        NA  &        NA  &        NA  &        NA \\\\\n",
       "\t 2016-02-01 & actual     & 10158.000  &        NA  &        NA  &        NA  &        NA \\\\\n",
       "\t 2016-03-01 & actual     & 11879.000  &        NA  &        NA  &        NA  &        NA \\\\\n",
       "\t 2016-04-01 & actual     & 11155.000  &        NA  &        NA  &        NA  &        NA \\\\\n",
       "\t 2016-05-01 & actual     & 11916.000  &        NA  &        NA  &        NA  &        NA \\\\\n",
       "\t 2016-06-01 & actual     & 13291.000  &        NA  &        NA  &        NA  &        NA \\\\\n",
       "\t 2016-07-01 & actual     & 10540.000  &        NA  &        NA  &        NA  &        NA \\\\\n",
       "\t 2016-08-01 & actual     & 12212.000  &        NA  &        NA  &        NA  &        NA \\\\\n",
       "\t 2016-09-01 & actual     & 11786.000  &        NA  &        NA  &        NA  &        NA \\\\\n",
       "\t 2016-10-01 & actual     & 11424.000  &        NA  &        NA  &        NA  &        NA \\\\\n",
       "\t 2016-11-01 & actual     & 12482.000  &        NA  &        NA  &        NA  &        NA \\\\\n",
       "\t 2016-12-01 & actual     & 13832.000  &        NA  &        NA  &        NA  &        NA \\\\\n",
       "\t 2017-01-01 & forecast   &  8601.815  &  8065.273  &  7781.244  &  9138.358  &  9422.387 \\\\\n",
       "\t 2017-02-01 & forecast   & 10855.429  & 10302.400  & 10009.645  & 11408.458  & 11701.214 \\\\\n",
       "\t 2017-03-01 & forecast   & 11502.214  & 10941.685  & 10644.959  & 12062.742  & 12359.468 \\\\\n",
       "\t 2017-04-01 & forecast   & 11582.600  & 10948.754  & 10613.216  & 12216.445  & 12551.983 \\\\\n",
       "\t 2017-05-01 & forecast   & 12566.765  & 11916.031  & 11571.554  & 13217.499  & 13561.977 \\\\\n",
       "\t 2017-06-01 & forecast   & 13263.918  & 12601.196  & 12250.372  & 13926.640  & 14277.464 \\\\\n",
       "\t 2017-07-01 & forecast   & 11507.277  & 10830.637  & 10472.445  & 12183.917  & 12542.109 \\\\\n",
       "\t 2017-08-01 & forecast   & 12527.278  & 11841.425  & 11478.357  & 13213.131  & 13576.199 \\\\\n",
       "\t 2017-09-01 & forecast   & 12076.820  & 11380.436  & 11011.792  & 12773.204  & 13141.847 \\\\\n",
       "\t 2017-10-01 & forecast   & 12216.443  & 11518.760  & 11149.428  & 12914.127  & 13283.458 \\\\\n",
       "\t 2017-11-01 & forecast   & 12700.055  & 11999.144  & 11628.104  & 13400.966  & 13772.006 \\\\\n",
       "\t 2017-12-01 & forecast   & 14274.835  & 13567.339  & 13192.813  & 14982.331  & 15356.857 \\\\\n",
       "\\end{tabular}\n"
      ],
      "text/markdown": [
       "\n",
       "index | key | price | lo.80 | lo.95 | hi.80 | hi.95 | \n",
       "|---|---|---|---|---|---|---|---|---|---|---|---|---|---|---|---|---|---|---|---|---|---|---|---|---|---|---|---|---|---|---|---|---|---|---|---|---|---|---|---|---|---|---|---|---|---|---|---|---|---|---|---|---|---|---|---|---|---|---|---|---|\n",
       "| 2010-01-01 | actual     |  6558      | NA         | NA         | NA         | NA         | \n",
       "| 2010-02-01 | actual     |  7481      | NA         | NA         | NA         | NA         | \n",
       "| 2010-03-01 | actual     |  9475      | NA         | NA         | NA         | NA         | \n",
       "| 2010-04-01 | actual     |  9424      | NA         | NA         | NA         | NA         | \n",
       "| 2010-05-01 | actual     |  9351      | NA         | NA         | NA         | NA         | \n",
       "| 2010-06-01 | actual     | 10552      | NA         | NA         | NA         | NA         | \n",
       "| 2010-07-01 | actual     |  9077      | NA         | NA         | NA         | NA         | \n",
       "| 2010-08-01 | actual     |  9273      | NA         | NA         | NA         | NA         | \n",
       "| 2010-09-01 | actual     |  9420      | NA         | NA         | NA         | NA         | \n",
       "| 2010-10-01 | actual     |  9413      | NA         | NA         | NA         | NA         | \n",
       "| 2010-11-01 | actual     |  9866      | NA         | NA         | NA         | NA         | \n",
       "| 2010-12-01 | actual     | 11455      | NA         | NA         | NA         | NA         | \n",
       "| 2011-01-01 | actual     |  6901      | NA         | NA         | NA         | NA         | \n",
       "| 2011-02-01 | actual     |  8014      | NA         | NA         | NA         | NA         | \n",
       "| 2011-03-01 | actual     |  9833      | NA         | NA         | NA         | NA         | \n",
       "| 2011-04-01 | actual     |  9281      | NA         | NA         | NA         | NA         | \n",
       "| 2011-05-01 | actual     |  9967      | NA         | NA         | NA         | NA         | \n",
       "| 2011-06-01 | actual     | 11344      | NA         | NA         | NA         | NA         | \n",
       "| 2011-07-01 | actual     |  9106      | NA         | NA         | NA         | NA         | \n",
       "| 2011-08-01 | actual     | 10468      | NA         | NA         | NA         | NA         | \n",
       "| 2011-09-01 | actual     | 10085      | NA         | NA         | NA         | NA         | \n",
       "| 2011-10-01 | actual     |  9612      | NA         | NA         | NA         | NA         | \n",
       "| 2011-11-01 | actual     | 10328      | NA         | NA         | NA         | NA         | \n",
       "| 2011-12-01 | actual     | 11483      | NA         | NA         | NA         | NA         | \n",
       "| 2012-01-01 | actual     |  7486      | NA         | NA         | NA         | NA         | \n",
       "| 2012-02-01 | actual     |  8641      | NA         | NA         | NA         | NA         | \n",
       "| 2012-03-01 | actual     |  9709      | NA         | NA         | NA         | NA         | \n",
       "| 2012-04-01 | actual     |  9423      | NA         | NA         | NA         | NA         | \n",
       "| 2012-05-01 | actual     | 11342      | NA         | NA         | NA         | NA         | \n",
       "| 2012-06-01 | actual     | 11274      | NA         | NA         | NA         | NA         | \n",
       "| ... | ... | ... | ... | ... | ... | ... | \n",
       "| 2015-07-01 | actual     | 11866.000  |        NA  |        NA  |        NA  |        NA  | \n",
       "| 2015-08-01 | actual     | 11223.000  |        NA  |        NA  |        NA  |        NA  | \n",
       "| 2015-09-01 | actual     | 12023.000  |        NA  |        NA  |        NA  |        NA  | \n",
       "| 2015-10-01 | actual     | 11986.000  |        NA  |        NA  |        NA  |        NA  | \n",
       "| 2015-11-01 | actual     | 11510.000  |        NA  |        NA  |        NA  |        NA  | \n",
       "| 2015-12-01 | actual     | 14190.000  |        NA  |        NA  |        NA  |        NA  | \n",
       "| 2016-01-01 | actual     |  8540.000  |        NA  |        NA  |        NA  |        NA  | \n",
       "| 2016-02-01 | actual     | 10158.000  |        NA  |        NA  |        NA  |        NA  | \n",
       "| 2016-03-01 | actual     | 11879.000  |        NA  |        NA  |        NA  |        NA  | \n",
       "| 2016-04-01 | actual     | 11155.000  |        NA  |        NA  |        NA  |        NA  | \n",
       "| 2016-05-01 | actual     | 11916.000  |        NA  |        NA  |        NA  |        NA  | \n",
       "| 2016-06-01 | actual     | 13291.000  |        NA  |        NA  |        NA  |        NA  | \n",
       "| 2016-07-01 | actual     | 10540.000  |        NA  |        NA  |        NA  |        NA  | \n",
       "| 2016-08-01 | actual     | 12212.000  |        NA  |        NA  |        NA  |        NA  | \n",
       "| 2016-09-01 | actual     | 11786.000  |        NA  |        NA  |        NA  |        NA  | \n",
       "| 2016-10-01 | actual     | 11424.000  |        NA  |        NA  |        NA  |        NA  | \n",
       "| 2016-11-01 | actual     | 12482.000  |        NA  |        NA  |        NA  |        NA  | \n",
       "| 2016-12-01 | actual     | 13832.000  |        NA  |        NA  |        NA  |        NA  | \n",
       "| 2017-01-01 | forecast   |  8601.815  |  8065.273  |  7781.244  |  9138.358  |  9422.387  | \n",
       "| 2017-02-01 | forecast   | 10855.429  | 10302.400  | 10009.645  | 11408.458  | 11701.214  | \n",
       "| 2017-03-01 | forecast   | 11502.214  | 10941.685  | 10644.959  | 12062.742  | 12359.468  | \n",
       "| 2017-04-01 | forecast   | 11582.600  | 10948.754  | 10613.216  | 12216.445  | 12551.983  | \n",
       "| 2017-05-01 | forecast   | 12566.765  | 11916.031  | 11571.554  | 13217.499  | 13561.977  | \n",
       "| 2017-06-01 | forecast   | 13263.918  | 12601.196  | 12250.372  | 13926.640  | 14277.464  | \n",
       "| 2017-07-01 | forecast   | 11507.277  | 10830.637  | 10472.445  | 12183.917  | 12542.109  | \n",
       "| 2017-08-01 | forecast   | 12527.278  | 11841.425  | 11478.357  | 13213.131  | 13576.199  | \n",
       "| 2017-09-01 | forecast   | 12076.820  | 11380.436  | 11011.792  | 12773.204  | 13141.847  | \n",
       "| 2017-10-01 | forecast   | 12216.443  | 11518.760  | 11149.428  | 12914.127  | 13283.458  | \n",
       "| 2017-11-01 | forecast   | 12700.055  | 11999.144  | 11628.104  | 13400.966  | 13772.006  | \n",
       "| 2017-12-01 | forecast   | 14274.835  | 13567.339  | 13192.813  | 14982.331  | 15356.857  | \n",
       "\n",
       "\n"
      ],
      "text/plain": [
       "    index      key      price     lo.80     lo.95     hi.80     hi.95    \n",
       "1   2010-01-01 actual    6558     NA        NA        NA        NA       \n",
       "2   2010-02-01 actual    7481     NA        NA        NA        NA       \n",
       "3   2010-03-01 actual    9475     NA        NA        NA        NA       \n",
       "4   2010-04-01 actual    9424     NA        NA        NA        NA       \n",
       "5   2010-05-01 actual    9351     NA        NA        NA        NA       \n",
       "6   2010-06-01 actual   10552     NA        NA        NA        NA       \n",
       "7   2010-07-01 actual    9077     NA        NA        NA        NA       \n",
       "8   2010-08-01 actual    9273     NA        NA        NA        NA       \n",
       "9   2010-09-01 actual    9420     NA        NA        NA        NA       \n",
       "10  2010-10-01 actual    9413     NA        NA        NA        NA       \n",
       "11  2010-11-01 actual    9866     NA        NA        NA        NA       \n",
       "12  2010-12-01 actual   11455     NA        NA        NA        NA       \n",
       "13  2011-01-01 actual    6901     NA        NA        NA        NA       \n",
       "14  2011-02-01 actual    8014     NA        NA        NA        NA       \n",
       "15  2011-03-01 actual    9833     NA        NA        NA        NA       \n",
       "16  2011-04-01 actual    9281     NA        NA        NA        NA       \n",
       "17  2011-05-01 actual    9967     NA        NA        NA        NA       \n",
       "18  2011-06-01 actual   11344     NA        NA        NA        NA       \n",
       "19  2011-07-01 actual    9106     NA        NA        NA        NA       \n",
       "20  2011-08-01 actual   10468     NA        NA        NA        NA       \n",
       "21  2011-09-01 actual   10085     NA        NA        NA        NA       \n",
       "22  2011-10-01 actual    9612     NA        NA        NA        NA       \n",
       "23  2011-11-01 actual   10328     NA        NA        NA        NA       \n",
       "24  2011-12-01 actual   11483     NA        NA        NA        NA       \n",
       "25  2012-01-01 actual    7486     NA        NA        NA        NA       \n",
       "26  2012-02-01 actual    8641     NA        NA        NA        NA       \n",
       "27  2012-03-01 actual    9709     NA        NA        NA        NA       \n",
       "28  2012-04-01 actual    9423     NA        NA        NA        NA       \n",
       "29  2012-05-01 actual   11342     NA        NA        NA        NA       \n",
       "30  2012-06-01 actual   11274     NA        NA        NA        NA       \n",
       "... ...        ...      ...       ...       ...       ...       ...      \n",
       "67  2015-07-01 actual   11866.000        NA        NA        NA        NA\n",
       "68  2015-08-01 actual   11223.000        NA        NA        NA        NA\n",
       "69  2015-09-01 actual   12023.000        NA        NA        NA        NA\n",
       "70  2015-10-01 actual   11986.000        NA        NA        NA        NA\n",
       "71  2015-11-01 actual   11510.000        NA        NA        NA        NA\n",
       "72  2015-12-01 actual   14190.000        NA        NA        NA        NA\n",
       "73  2016-01-01 actual    8540.000        NA        NA        NA        NA\n",
       "74  2016-02-01 actual   10158.000        NA        NA        NA        NA\n",
       "75  2016-03-01 actual   11879.000        NA        NA        NA        NA\n",
       "76  2016-04-01 actual   11155.000        NA        NA        NA        NA\n",
       "77  2016-05-01 actual   11916.000        NA        NA        NA        NA\n",
       "78  2016-06-01 actual   13291.000        NA        NA        NA        NA\n",
       "79  2016-07-01 actual   10540.000        NA        NA        NA        NA\n",
       "80  2016-08-01 actual   12212.000        NA        NA        NA        NA\n",
       "81  2016-09-01 actual   11786.000        NA        NA        NA        NA\n",
       "82  2016-10-01 actual   11424.000        NA        NA        NA        NA\n",
       "83  2016-11-01 actual   12482.000        NA        NA        NA        NA\n",
       "84  2016-12-01 actual   13832.000        NA        NA        NA        NA\n",
       "85  2017-01-01 forecast  8601.815  8065.273  7781.244  9138.358  9422.387\n",
       "86  2017-02-01 forecast 10855.429 10302.400 10009.645 11408.458 11701.214\n",
       "87  2017-03-01 forecast 11502.214 10941.685 10644.959 12062.742 12359.468\n",
       "88  2017-04-01 forecast 11582.600 10948.754 10613.216 12216.445 12551.983\n",
       "89  2017-05-01 forecast 12566.765 11916.031 11571.554 13217.499 13561.977\n",
       "90  2017-06-01 forecast 13263.918 12601.196 12250.372 13926.640 14277.464\n",
       "91  2017-07-01 forecast 11507.277 10830.637 10472.445 12183.917 12542.109\n",
       "92  2017-08-01 forecast 12527.278 11841.425 11478.357 13213.131 13576.199\n",
       "93  2017-09-01 forecast 12076.820 11380.436 11011.792 12773.204 13141.847\n",
       "94  2017-10-01 forecast 12216.443 11518.760 11149.428 12914.127 13283.458\n",
       "95  2017-11-01 forecast 12700.055 11999.144 11628.104 13400.966 13772.006\n",
       "96  2017-12-01 forecast 14274.835 13567.339 13192.813 14982.331 15356.857"
      ]
     },
     "metadata": {},
     "output_type": "display_data"
    }
   ],
   "source": [
    "# Forecast next 12 months\n",
    "fcast_arima <- forecast(fit_arima, h = 12)\n",
    "# sw_sweep - tidies forecast output\n",
    "fcast_tbl <- sw_sweep(fcast_arima, timetk_idx = TRUE)\n",
    "\n",
    "fcast_tbl"
   ]
  },
  {
   "cell_type": "code",
   "execution_count": 136,
   "metadata": {
    "collapsed": true
   },
   "outputs": [],
   "source": [
    "actuals_tbl <- tq_get(\"S4248SM144NCEN\", get = \"economic.data\", from = \"2017-01-01\", to = \"2017-12-31\")"
   ]
  },
  {
   "cell_type": "code",
   "execution_count": 137,
   "metadata": {},
   "outputs": [
    {
     "data": {},
     "metadata": {},
     "output_type": "display_data"
    },
    {
     "data": {
      "image/png": "[encoded data removed]",
      "text/plain": [
       "plot without title"
      ]
     },
     "metadata": {},
     "output_type": "display_data"
    }
   ],
   "source": [
    "# Visualize the forecast with ggplot\n",
    "fcast_tbl %>%\n",
    "    ggplot(aes(x = index, y = price, color = key)) +\n",
    "    # 95% CI\n",
    "    geom_ribbon(aes(ymin = lo.95, ymax = hi.95), \n",
    "                fill = \"#D5DBFF\", color = NA, size = 0) +\n",
    "    # 80% CI\n",
    "    geom_ribbon(aes(ymin = lo.80, ymax = hi.80, fill = key), \n",
    "                fill = \"#596DD5\", color = NA, size = 0, alpha = 0.8) +\n",
    "    # Prediction\n",
    "    geom_line() +\n",
    "    geom_point() +\n",
    "    # Actuals\n",
    "    geom_line(aes(x = date, y = price), color = palette_light()[[1]], data = actuals_tbl) +\n",
    "    geom_point(aes(x = date, y = price), color = palette_light()[[1]], data = actuals_tbl) +\n",
    "    # Aesthetics\n",
    "    labs(title = \"Beer Sales Forecast: ARIMA\", x = \"\", y = \"Thousands of Tons\",\n",
    "         subtitle = \"sw_sweep tidies the auto.arima() forecast output\") +\n",
    "    scale_x_date(date_breaks = \"1 year\", date_labels = \"%Y\") +\n",
    "    scale_color_tq() +\n",
    "    scale_fill_tq() +\n",
    "    theme_tq()"
   ]
  },
  {
   "cell_type": "code",
   "execution_count": 139,
   "metadata": {},
   "outputs": [
    {
     "data": {
      "text/html": [
       "<table>\n",
       "<thead><tr><th scope=col>date</th><th scope=col>actual</th><th scope=col>pred</th><th scope=col>error</th><th scope=col>error_pct</th></tr></thead>\n",
       "<tbody>\n",
       "\t<tr><td>2017-01-01   </td><td> 8664        </td><td> 8601.815    </td><td>  62.18469   </td><td> 0.0071773648</td></tr>\n",
       "\t<tr><td>2017-02-01   </td><td>10017        </td><td>10855.429    </td><td>-838.42909   </td><td>-0.0837006175</td></tr>\n",
       "\t<tr><td>2017-03-01   </td><td>11960        </td><td>11502.214    </td><td> 457.78622   </td><td> 0.0382764395</td></tr>\n",
       "\t<tr><td>2017-04-01   </td><td>11019        </td><td>11582.600    </td><td>-563.59962   </td><td>-0.0511479824</td></tr>\n",
       "\t<tr><td>2017-05-01   </td><td>12971        </td><td>12566.765    </td><td> 404.23490   </td><td> 0.0311645135</td></tr>\n",
       "\t<tr><td>2017-06-01   </td><td>14113        </td><td>13263.918    </td><td> 849.08191   </td><td> 0.0601631057</td></tr>\n",
       "\t<tr><td>2017-07-01   </td><td>10928        </td><td>11507.277    </td><td>-579.27693   </td><td>-0.0530085034</td></tr>\n",
       "\t<tr><td>2017-08-01   </td><td>12831        </td><td>12527.278    </td><td> 303.72219   </td><td> 0.0236709677</td></tr>\n",
       "\t<tr><td>2017-09-01   </td><td>11407        </td><td>12076.820    </td><td>-669.81963   </td><td>-0.0587200514</td></tr>\n",
       "\t<tr><td>2017-10-01   </td><td>12164        </td><td>12216.443    </td><td> -52.44308   </td><td>-0.0043113353</td></tr>\n",
       "\t<tr><td>2017-11-01   </td><td>12690        </td><td>12700.055    </td><td> -10.05489   </td><td>-0.0007923472</td></tr>\n",
       "\t<tr><td>2017-12-01   </td><td>13682        </td><td>14274.835    </td><td>-592.83502   </td><td>-0.0433295585</td></tr>\n",
       "</tbody>\n",
       "</table>\n"
      ],
      "text/latex": [
       "\\begin{tabular}{r|lllll}\n",
       " date & actual & pred & error & error\\_pct\\\\\n",
       "\\hline\n",
       "\t 2017-01-01    &  8664         &  8601.815     &   62.18469    &  0.0071773648\\\\\n",
       "\t 2017-02-01    & 10017         & 10855.429     & -838.42909    & -0.0837006175\\\\\n",
       "\t 2017-03-01    & 11960         & 11502.214     &  457.78622    &  0.0382764395\\\\\n",
       "\t 2017-04-01    & 11019         & 11582.600     & -563.59962    & -0.0511479824\\\\\n",
       "\t 2017-05-01    & 12971         & 12566.765     &  404.23490    &  0.0311645135\\\\\n",
       "\t 2017-06-01    & 14113         & 13263.918     &  849.08191    &  0.0601631057\\\\\n",
       "\t 2017-07-01    & 10928         & 11507.277     & -579.27693    & -0.0530085034\\\\\n",
       "\t 2017-08-01    & 12831         & 12527.278     &  303.72219    &  0.0236709677\\\\\n",
       "\t 2017-09-01    & 11407         & 12076.820     & -669.81963    & -0.0587200514\\\\\n",
       "\t 2017-10-01    & 12164         & 12216.443     &  -52.44308    & -0.0043113353\\\\\n",
       "\t 2017-11-01    & 12690         & 12700.055     &  -10.05489    & -0.0007923472\\\\\n",
       "\t 2017-12-01    & 13682         & 14274.835     & -592.83502    & -0.0433295585\\\\\n",
       "\\end{tabular}\n"
      ],
      "text/markdown": [
       "\n",
       "date | actual | pred | error | error_pct | \n",
       "|---|---|---|---|---|---|---|---|---|---|---|---|\n",
       "| 2017-01-01    |  8664         |  8601.815     |   62.18469    |  0.0071773648 | \n",
       "| 2017-02-01    | 10017         | 10855.429     | -838.42909    | -0.0837006175 | \n",
       "| 2017-03-01    | 11960         | 11502.214     |  457.78622    |  0.0382764395 | \n",
       "| 2017-04-01    | 11019         | 11582.600     | -563.59962    | -0.0511479824 | \n",
       "| 2017-05-01    | 12971         | 12566.765     |  404.23490    |  0.0311645135 | \n",
       "| 2017-06-01    | 14113         | 13263.918     |  849.08191    |  0.0601631057 | \n",
       "| 2017-07-01    | 10928         | 11507.277     | -579.27693    | -0.0530085034 | \n",
       "| 2017-08-01    | 12831         | 12527.278     |  303.72219    |  0.0236709677 | \n",
       "| 2017-09-01    | 11407         | 12076.820     | -669.81963    | -0.0587200514 | \n",
       "| 2017-10-01    | 12164         | 12216.443     |  -52.44308    | -0.0043113353 | \n",
       "| 2017-11-01    | 12690         | 12700.055     |  -10.05489    | -0.0007923472 | \n",
       "| 2017-12-01    | 13682         | 14274.835     | -592.83502    | -0.0433295585 | \n",
       "\n",
       "\n"
      ],
      "text/plain": [
       "   date       actual pred      error      error_pct    \n",
       "1  2017-01-01  8664   8601.815   62.18469  0.0071773648\n",
       "2  2017-02-01 10017  10855.429 -838.42909 -0.0837006175\n",
       "3  2017-03-01 11960  11502.214  457.78622  0.0382764395\n",
       "4  2017-04-01 11019  11582.600 -563.59962 -0.0511479824\n",
       "5  2017-05-01 12971  12566.765  404.23490  0.0311645135\n",
       "6  2017-06-01 14113  13263.918  849.08191  0.0601631057\n",
       "7  2017-07-01 10928  11507.277 -579.27693 -0.0530085034\n",
       "8  2017-08-01 12831  12527.278  303.72219  0.0236709677\n",
       "9  2017-09-01 11407  12076.820 -669.81963 -0.0587200514\n",
       "10 2017-10-01 12164  12216.443  -52.44308 -0.0043113353\n",
       "11 2017-11-01 12690  12700.055  -10.05489 -0.0007923472\n",
       "12 2017-12-01 13682  14274.835 -592.83502 -0.0433295585"
      ]
     },
     "metadata": {},
     "output_type": "display_data"
    }
   ],
   "source": [
    "# Investigate test error \n",
    "error_tbl_ts <- left_join(actuals_tbl, fcast_tbl, by = c(\"date\" = \"index\")) %>%\n",
    "    rename(actual = price.x, pred = price.y) %>%\n",
    "    select(date, actual, pred) %>%\n",
    "    mutate(\n",
    "        error     = actual - pred,\n",
    "        error_pct = error / actual\n",
    "        ) \n",
    "error_tbl_ts"
   ]
  },
  {
   "cell_type": "code",
   "execution_count": 203,
   "metadata": {},
   "outputs": [
    {
     "name": "stdout",
     "output_type": "stream",
     "text": [
      "[1] \"A shutdown has been triggered. \"\n"
     ]
    }
   ],
   "source": [
    "detachAllPackages <- function() {\n",
    "\n",
    "  basic.packages <- c(\"package:stats\",\"package:graphics\",\"package:grDevices\",\"package:utils\",\"package:datasets\",\"package:methods\",\"package:base\")\n",
    "\n",
    "  package.list <- search()[ifelse(unlist(gregexpr(\"package:\",search()))==1,TRUE,FALSE)]\n",
    "\n",
    "  package.list <- setdiff(package.list,basic.packages)\n",
    "\n",
    "  if (length(package.list)>0)  for (package in package.list) detach(package, character.only=TRUE)\n",
    "\n",
    "}\n",
    "\n",
    "detachAllPackages()"
   ]
  },
  {
   "cell_type": "code",
   "execution_count": 194,
   "metadata": {},
   "outputs": [],
   "source": [
    "library(tidyverse)"
   ]
  },
  {
   "cell_type": "code",
   "execution_count": 196,
   "metadata": {},
   "outputs": [
    {
     "name": "stderr",
     "output_type": "stream",
     "text": [
      "Loading required package: quantmod\n",
      "Warning message in read.dcf(file.path(p, \"DESCRIPTION\"), c(\"Package\", \"Version\")):\n",
      "\"cannot open compressed file 'C:/Users/zihao.zhang/AppData/Local/Continuum/Anaconda3/Lib/site-packages/rpy2/TTR/DESCRIPTION', probable reason 'No such file or directory'\"Loading required package: TTR\n"
     ]
    },
    {
     "ename": "ERROR",
     "evalue": "Error in value[[3L]](cond): Package 'TTR' version 0.23.3 cannot be unloaded:\n Error in unloadNamespace(package) : namespace 'TTR' is imported by 'quantmod', 'tidyquant' so cannot be unloaded\n\n",
     "output_type": "error",
     "traceback": [
      "Error in value[[3L]](cond): Package 'TTR' version 0.23.3 cannot be unloaded:\n Error in unloadNamespace(package) : namespace 'TTR' is imported by 'quantmod', 'tidyquant' so cannot be unloaded\n\nTraceback:\n",
      "1. library(tidyquant)",
      "2. .getRequiredPackages2(pkgInfo, quietly = quietly)",
      "3. library(pkg, character.only = TRUE, logical.return = TRUE, lib.loc = lib.loc, \n .     quietly = quietly)",
      "4. .getRequiredPackages2(pkgInfo, quietly = quietly)",
      "5. library(pkg, character.only = TRUE, logical.return = TRUE, lib.loc = lib.loc, \n .     quietly = quietly)",
      "6. tryCatch(unloadNamespace(package), error = function(e) {\n .     P <- if (!is.null(cc <- conditionCall(e))) \n .         paste(\"Error in\", deparse(cc)[1L], \": \")\n .     else \"Error : \"\n .     stop(gettextf(\"Package %s version %s cannot be unloaded:\\n %s\", \n .         sQuote(package), oldversion, paste0(P, conditionMessage(e), \n .             \"\\n\")), domain = NA)\n . })",
      "7. tryCatchList(expr, classes, parentenv, handlers)",
      "8. tryCatchOne(expr, names, parentenv, handlers[[1L]])",
      "9. value[[3L]](cond)",
      "10. stop(gettextf(\"Package %s version %s cannot be unloaded:\\n %s\", \n  .     sQuote(package), oldversion, paste0(P, conditionMessage(e), \n  .         \"\\n\")), domain = NA)"
     ]
    }
   ],
   "source": [
    "# Load libraries\n",
    "library(h2o)        # Awesome ML Library\n",
    "library(timetk)     # Toolkit for working with time series in R\n",
    "library(tidyquant)  # Loads tidyverse, financial pkgs, used to get data"
   ]
  },
  {
   "cell_type": "code",
   "execution_count": 198,
   "metadata": {
    "scrolled": true
   },
   "outputs": [
    {
     "ename": "ERROR",
     "evalue": "Error in tq_get(\"S4248SM144NCEN\", get = \"economic.data\", from = \"2010-01-01\", : could not find function \"tq_get\"\n",
     "output_type": "error",
     "traceback": [
      "Error in tq_get(\"S4248SM144NCEN\", get = \"economic.data\", from = \"2010-01-01\", : could not find function \"tq_get\"\nTraceback:\n"
     ]
    }
   ],
   "source": [
    "# Beer, Wine, Distilled Alcoholic Beverages, in Millions USD\n",
    "beer_sales_tbl <- tq_get(\"S4248SM144NCEN\", get = \"economic.data\", from = \"2010-01-01\", to = \"2017-10-27\")\n",
    "\n",
    "beer_sales_tbl"
   ]
  },
  {
   "cell_type": "code",
   "execution_count": 100,
   "metadata": {},
   "outputs": [
    {
     "name": "stderr",
     "output_type": "stream",
     "text": [
      "Warning message:\n",
      "\"Computation failed in `stat_sma()`:\n",
      "\"runsum\" not available for .Fortran() for package \"TTR\"\""
     ]
    },
    {
     "data": {},
     "metadata": {},
     "output_type": "display_data"
    },
    {
     "data": {
      "image/png": "[encoded data removed]",
      "text/plain": [
       "plot without title"
      ]
     },
     "metadata": {},
     "output_type": "display_data"
    }
   ],
   "source": [
    "# Plot Beer Sales with train, validation, and test sets shown\n",
    "beer_sales_tbl %>%\n",
    "    ggplot(aes(date, price)) +\n",
    "    # Train Region\n",
    "    annotate(\"text\", x = ymd(\"2012-01-01\"), y = 7000,\n",
    "             color = palette_light()[[1]], label = \"Train Region\") +\n",
    "    # Validation Region\n",
    "    geom_rect(xmin = as.numeric(ymd(\"2016-01-01\")), \n",
    "              xmax = as.numeric(ymd(\"2016-12-31\")),\n",
    "              ymin = 0, ymax = Inf, alpha = 0.02,\n",
    "              fill = palette_light()[[3]]) +\n",
    "    annotate(\"text\", x = ymd(\"2016-07-01\"), y = 7000,\n",
    "             color = palette_light()[[1]], label = \"Validation\\nRegion\") +\n",
    "    # Test Region\n",
    "    geom_rect(xmin = as.numeric(ymd(\"2017-01-01\")), \n",
    "              xmax = as.numeric(ymd(\"2017-08-31\")),\n",
    "              ymin = 0, ymax = Inf, alpha = 0.02,\n",
    "              fill = palette_light()[[4]]) +\n",
    "    annotate(\"text\", x = ymd(\"2017-05-01\"), y = 7000,\n",
    "             color = palette_light()[[1]], label = \"Test\\nRegion\") +\n",
    "    # Data\n",
    "    geom_line(col = palette_light()[1]) +\n",
    "    geom_point(col = palette_light()[1]) +\n",
    "    geom_ma(ma_fun = SMA, n = 12, size = 1) +\n",
    "    # Aesthetics\n",
    "    theme_tq() +\n",
    "    scale_x_date(date_breaks = \"1 year\", date_labels = \"%Y\") +\n",
    "    labs(title = \"Beer Sales: 2007 through 2017\",\n",
    "         subtitle = \"Train, Validation, and Test Sets Shown\") "
   ]
  },
  {
   "cell_type": "code",
   "execution_count": 101,
   "metadata": {
    "scrolled": true
   },
   "outputs": [
    {
     "name": "stdout",
     "output_type": "stream",
     "text": [
      "Observations: 94\n",
      "Variables: 30\n",
      "$ date      <date> 2010-01-01, 2010-02-01, 2010-03-01, 2010-04-01, 2010-05-...\n",
      "$ price     <int> 6558, 7481, 9475, 9424, 9351, 10552, 9077, 9273, 9420, 94...\n",
      "$ index.num <int> 1262304000, 1264982400, 1267401600, 1270080000, 127267200...\n",
      "$ diff      <int> NA, 2678400, 2419200, 2678400, 2592000, 2678400, 2592000,...\n",
      "$ year      <int> 2010, 2010, 2010, 2010, 2010, 2010, 2010, 2010, 2010, 201...\n",
      "$ year.iso  <int> 2009, 2010, 2010, 2010, 2010, 2010, 2010, 2010, 2010, 201...\n",
      "$ half      <int> 1, 1, 1, 1, 1, 1, 2, 2, 2, 2, 2, 2, 1, 1, 1, 1, 1, 1, 2, ...\n",
      "$ quarter   <int> 1, 1, 1, 2, 2, 2, 3, 3, 3, 4, 4, 4, 1, 1, 1, 2, 2, 2, 3, ...\n",
      "$ month     <int> 1, 2, 3, 4, 5, 6, 7, 8, 9, 10, 11, 12, 1, 2, 3, 4, 5, 6, ...\n",
      "$ month.xts <int> 0, 1, 2, 3, 4, 5, 6, 7, 8, 9, 10, 11, 0, 1, 2, 3, 4, 5, 6...\n",
      "$ month.lbl <ord> January, February, March, April, May, June, July, August,...\n",
      "$ day       <int> 1, 1, 1, 1, 1, 1, 1, 1, 1, 1, 1, 1, 1, 1, 1, 1, 1, 1, 1, ...\n",
      "$ hour      <int> 0, 0, 0, 0, 0, 0, 0, 0, 0, 0, 0, 0, 0, 0, 0, 0, 0, 0, 0, ...\n",
      "$ minute    <int> 0, 0, 0, 0, 0, 0, 0, 0, 0, 0, 0, 0, 0, 0, 0, 0, 0, 0, 0, ...\n",
      "$ second    <int> 0, 0, 0, 0, 0, 0, 0, 0, 0, 0, 0, 0, 0, 0, 0, 0, 0, 0, 0, ...\n",
      "$ hour12    <int> 0, 0, 0, 0, 0, 0, 0, 0, 0, 0, 0, 0, 0, 0, 0, 0, 0, 0, 0, ...\n",
      "$ am.pm     <int> 1, 1, 1, 1, 1, 1, 1, 1, 1, 1, 1, 1, 1, 1, 1, 1, 1, 1, 1, ...\n",
      "$ wday      <int> 6, 2, 2, 5, 7, 3, 5, 1, 4, 6, 2, 4, 7, 3, 3, 6, 1, 4, 6, ...\n",
      "$ wday.xts  <int> 5, 1, 1, 4, 6, 2, 4, 0, 3, 5, 1, 3, 6, 2, 2, 5, 0, 3, 5, ...\n",
      "$ wday.lbl  <ord> Friday, Monday, Monday, Thursday, Saturday, Tuesday, Thur...\n",
      "$ mday      <int> 1, 1, 1, 1, 1, 1, 1, 1, 1, 1, 1, 1, 1, 1, 1, 1, 1, 1, 1, ...\n",
      "$ qday      <int> 1, 32, 60, 1, 31, 62, 1, 32, 63, 1, 32, 62, 1, 32, 60, 1,...\n",
      "$ yday      <int> 1, 32, 60, 91, 121, 152, 182, 213, 244, 274, 305, 335, 1,...\n",
      "$ mweek     <int> 5, 6, 5, 5, 5, 6, 5, 5, 5, 5, 6, 5, 5, 6, 5, 5, 5, 5, 5, ...\n",
      "$ week      <int> 1, 5, 9, 13, 18, 22, 26, 31, 35, 40, 44, 48, 1, 5, 9, 13,...\n",
      "$ week.iso  <int> 53, 5, 9, 13, 17, 22, 26, 30, 35, 39, 44, 48, 52, 5, 9, 1...\n",
      "$ week2     <int> 1, 1, 1, 1, 0, 0, 0, 1, 1, 0, 0, 0, 1, 1, 1, 1, 0, 0, 0, ...\n",
      "$ week3     <int> 1, 2, 0, 1, 0, 1, 2, 1, 2, 1, 2, 0, 1, 2, 0, 1, 0, 1, 2, ...\n",
      "$ week4     <int> 1, 1, 1, 1, 2, 2, 2, 3, 3, 0, 0, 0, 1, 1, 1, 1, 2, 2, 2, ...\n",
      "$ mday7     <int> 1, 1, 1, 1, 1, 1, 1, 1, 1, 1, 1, 1, 1, 1, 1, 1, 1, 1, 1, ...\n"
     ]
    }
   ],
   "source": [
    "# Augment (adds data frame columns)\n",
    "beer_sales_tbl_aug <- beer_sales_tbl %>%\n",
    "    tk_augment_timeseries_signature()\n",
    "\n",
    "beer_sales_tbl_aug %>% glimpse()"
   ]
  },
  {
   "cell_type": "code",
   "execution_count": 102,
   "metadata": {
    "scrolled": true
   },
   "outputs": [
    {
     "name": "stdout",
     "output_type": "stream",
     "text": [
      "Observations: 94\n",
      "Variables: 28\n",
      "$ price     <int> 6558, 7481, 9475, 9424, 9351, 10552, 9077, 9273, 9420, 94...\n",
      "$ index.num <int> 1262304000, 1264982400, 1267401600, 1270080000, 127267200...\n",
      "$ year      <int> 2010, 2010, 2010, 2010, 2010, 2010, 2010, 2010, 2010, 201...\n",
      "$ year.iso  <int> 2009, 2010, 2010, 2010, 2010, 2010, 2010, 2010, 2010, 201...\n",
      "$ half      <int> 1, 1, 1, 1, 1, 1, 2, 2, 2, 2, 2, 2, 1, 1, 1, 1, 1, 1, 2, ...\n",
      "$ quarter   <int> 1, 1, 1, 2, 2, 2, 3, 3, 3, 4, 4, 4, 1, 1, 1, 2, 2, 2, 3, ...\n",
      "$ month     <int> 1, 2, 3, 4, 5, 6, 7, 8, 9, 10, 11, 12, 1, 2, 3, 4, 5, 6, ...\n",
      "$ month.xts <int> 0, 1, 2, 3, 4, 5, 6, 7, 8, 9, 10, 11, 0, 1, 2, 3, 4, 5, 6...\n",
      "$ month.lbl <fctr> January, February, March, April, May, June, July, August...\n",
      "$ day       <int> 1, 1, 1, 1, 1, 1, 1, 1, 1, 1, 1, 1, 1, 1, 1, 1, 1, 1, 1, ...\n",
      "$ hour      <int> 0, 0, 0, 0, 0, 0, 0, 0, 0, 0, 0, 0, 0, 0, 0, 0, 0, 0, 0, ...\n",
      "$ minute    <int> 0, 0, 0, 0, 0, 0, 0, 0, 0, 0, 0, 0, 0, 0, 0, 0, 0, 0, 0, ...\n",
      "$ second    <int> 0, 0, 0, 0, 0, 0, 0, 0, 0, 0, 0, 0, 0, 0, 0, 0, 0, 0, 0, ...\n",
      "$ hour12    <int> 0, 0, 0, 0, 0, 0, 0, 0, 0, 0, 0, 0, 0, 0, 0, 0, 0, 0, 0, ...\n",
      "$ am.pm     <int> 1, 1, 1, 1, 1, 1, 1, 1, 1, 1, 1, 1, 1, 1, 1, 1, 1, 1, 1, ...\n",
      "$ wday      <int> 6, 2, 2, 5, 7, 3, 5, 1, 4, 6, 2, 4, 7, 3, 3, 6, 1, 4, 6, ...\n",
      "$ wday.xts  <int> 5, 1, 1, 4, 6, 2, 4, 0, 3, 5, 1, 3, 6, 2, 2, 5, 0, 3, 5, ...\n",
      "$ wday.lbl  <fctr> Friday, Monday, Monday, Thursday, Saturday, Tuesday, Thu...\n",
      "$ mday      <int> 1, 1, 1, 1, 1, 1, 1, 1, 1, 1, 1, 1, 1, 1, 1, 1, 1, 1, 1, ...\n",
      "$ qday      <int> 1, 32, 60, 1, 31, 62, 1, 32, 63, 1, 32, 62, 1, 32, 60, 1,...\n",
      "$ yday      <int> 1, 32, 60, 91, 121, 152, 182, 213, 244, 274, 305, 335, 1,...\n",
      "$ mweek     <int> 5, 6, 5, 5, 5, 6, 5, 5, 5, 5, 6, 5, 5, 6, 5, 5, 5, 5, 5, ...\n",
      "$ week      <int> 1, 5, 9, 13, 18, 22, 26, 31, 35, 40, 44, 48, 1, 5, 9, 13,...\n",
      "$ week.iso  <int> 53, 5, 9, 13, 17, 22, 26, 30, 35, 39, 44, 48, 52, 5, 9, 1...\n",
      "$ week2     <int> 1, 1, 1, 1, 0, 0, 0, 1, 1, 0, 0, 0, 1, 1, 1, 1, 0, 0, 0, ...\n",
      "$ week3     <int> 1, 2, 0, 1, 0, 1, 2, 1, 2, 1, 2, 0, 1, 2, 0, 1, 0, 1, 2, ...\n",
      "$ week4     <int> 1, 1, 1, 1, 2, 2, 2, 3, 3, 0, 0, 0, 1, 1, 1, 1, 2, 2, 2, ...\n",
      "$ mday7     <int> 1, 1, 1, 1, 1, 1, 1, 1, 1, 1, 1, 1, 1, 1, 1, 1, 1, 1, 1, ...\n"
     ]
    }
   ],
   "source": [
    "beer_sales_tbl_clean <- beer_sales_tbl_aug %>%\n",
    "    select_if(~ !is.Date(.)) %>%\n",
    "    select_if(~ !any(is.na(.))) %>%\n",
    "    mutate_if(is.ordered, ~ as.character(.) %>% as.factor)\n",
    "\n",
    "beer_sales_tbl_clean %>% glimpse()"
   ]
  },
  {
   "cell_type": "code",
   "execution_count": 103,
   "metadata": {
    "collapsed": true
   },
   "outputs": [],
   "source": [
    "# Split into training, validation and test sets\n",
    "train_tbl <- beer_sales_tbl_clean %>% filter(year < 2016)\n",
    "valid_tbl <- beer_sales_tbl_clean %>% filter(year == 2016)\n",
    "test_tbl  <- beer_sales_tbl_clean %>% filter(year == 2017)"
   ]
  },
  {
   "cell_type": "code",
   "execution_count": 171,
   "metadata": {},
   "outputs": [
    {
     "name": "stdout",
     "output_type": "stream",
     "text": [
      "\n",
      "H2O is not running yet, starting it now...\n",
      "\n",
      "Note:  In case of errors look at the following log files:\n",
      "    C:\\Users\\ZIHAO~1.ZHA\\AppData\\Local\\Temp\\RtmpGmS99k/h2o_zihao_zhang_started_from_r.out\n",
      "    C:\\Users\\ZIHAO~1.ZHA\\AppData\\Local\\Temp\\RtmpGmS99k/h2o_zihao_zhang_started_from_r.err\n",
      "\n",
      "\n",
      "Starting H2O JVM and connecting: . Connection successful!\n",
      "\n",
      "R is connected to the H2O cluster: \n",
      "    H2O cluster uptime:         2 seconds 232 milliseconds \n",
      "    H2O cluster version:        3.16.0.2 \n",
      "    H2O cluster version age:    4 months and 4 days !!! \n",
      "    H2O cluster name:           H2O_started_from_R_zihao.zhang_pdb723 \n",
      "    H2O cluster total nodes:    1 \n",
      "    H2O cluster total memory:   3.55 GB \n",
      "    H2O cluster total cores:    8 \n",
      "    H2O cluster allowed cores:  8 \n",
      "    H2O cluster healthy:        TRUE \n",
      "    H2O Connection ip:          localhost \n",
      "    H2O Connection port:        54321 \n",
      "    H2O Connection proxy:       NA \n",
      "    H2O Internal Security:      FALSE \n",
      "    H2O API Extensions:         Algos, AutoML, Core V3, Core V4 \n",
      "    R Version:                  R version 3.4.3 (2017-11-30) \n"
     ]
    },
    {
     "name": "stderr",
     "output_type": "stream",
     "text": [
      "Warning message in h2o.clusterInfo():\n",
      "\"\n",
      "Your H2O cluster version is too old (4 months and 4 days)!\n",
      "Please download and install the latest version from http://h2o.ai/download/\""
     ]
    },
    {
     "name": "stdout",
     "output_type": "stream",
     "text": [
      "\n"
     ]
    }
   ],
   "source": [
    "h2o.init()        # Fire up h2o"
   ]
  },
  {
   "cell_type": "code",
   "execution_count": 172,
   "metadata": {},
   "outputs": [
    {
     "name": "stdout",
     "output_type": "stream",
     "text": [
      "  |======================================================================| 100%\n",
      "  |======================================================================| 100%\n",
      "  |======================================================================| 100%\n"
     ]
    }
   ],
   "source": [
    "# Convert to H2OFrame objects\n",
    "train_h2o <- as.h2o(train_tbl)\n",
    "valid_h2o <- as.h2o(valid_tbl)\n",
    "test_h2o  <- as.h2o(test_tbl)"
   ]
  },
  {
   "cell_type": "code",
   "execution_count": 173,
   "metadata": {
    "collapsed": true
   },
   "outputs": [],
   "source": [
    "# Set names for h2o\n",
    "y <- \"price\"\n",
    "x <- setdiff(names(train_h2o), y)"
   ]
  },
  {
   "cell_type": "code",
   "execution_count": 174,
   "metadata": {},
   "outputs": [
    {
     "name": "stdout",
     "output_type": "stream",
     "text": [
      "  |======================================================================| 100%\n",
      "  |======================================================================| 100%\n"
     ]
    }
   ],
   "source": [
    "# linear regression model used, but can use any model\n",
    "automl_models_h2o <- h2o.automl(\n",
    "    x = x, \n",
    "    y = y, \n",
    "    training_frame = train_h2o, \n",
    "    validation_frame = valid_h2o, \n",
    "    leaderboard_frame = test_h2o, \n",
    "    max_runtime_secs = 60, \n",
    "    stopping_metric = \"deviance\")"
   ]
  },
  {
   "cell_type": "code",
   "execution_count": 175,
   "metadata": {
    "collapsed": true
   },
   "outputs": [],
   "source": [
    "# Extract leader model\n",
    "automl_leader <- automl_models_h2o@leader"
   ]
  },
  {
   "cell_type": "code",
   "execution_count": 176,
   "metadata": {},
   "outputs": [
    {
     "name": "stdout",
     "output_type": "stream",
     "text": [
      "  |======================================================================| 100%\n"
     ]
    }
   ],
   "source": [
    "pred_h2o <- h2o.predict(automl_leader, newdata = test_h2o)"
   ]
  },
  {
   "cell_type": "code",
   "execution_count": 177,
   "metadata": {},
   "outputs": [
    {
     "data": {
      "text/plain": [
       "H2ORegressionMetrics: gbm\n",
       "\n",
       "MSE:  282587.1\n",
       "RMSE:  531.5892\n",
       "MAE:  405.5515\n",
       "RMSLE:  0.04334549\n",
       "Mean Residual Deviance :  282587.1\n"
      ]
     },
     "metadata": {},
     "output_type": "display_data"
    }
   ],
   "source": [
    "h2o.performance(automl_leader, newdata = test_h2o)"
   ]
  },
  {
   "cell_type": "code",
   "execution_count": 185,
   "metadata": {},
   "outputs": [],
   "source": [
    "pred = pred_h2o %>% tibble::as.tibble() %>% pull(predict)\n",
    "beer_sales_tbl2017 = beer_sales_tbl %>% \n",
    "    filter(lubridate::year(date) == 2017)"
   ]
  },
  {
   "cell_type": "code",
   "execution_count": 197,
   "metadata": {},
   "outputs": [
    {
     "data": {
      "text/html": [
       "<table>\n",
       "<thead><tr><th scope=col>date</th><th scope=col>price</th></tr></thead>\n",
       "<tbody>\n",
       "\t<tr><td>2010-01-01</td><td> 6558     </td></tr>\n",
       "\t<tr><td>2010-02-01</td><td> 7481     </td></tr>\n",
       "\t<tr><td>2010-03-01</td><td> 9475     </td></tr>\n",
       "\t<tr><td>2010-04-01</td><td> 9424     </td></tr>\n",
       "\t<tr><td>2010-05-01</td><td> 9351     </td></tr>\n",
       "\t<tr><td>2010-06-01</td><td>10552     </td></tr>\n",
       "\t<tr><td>2010-07-01</td><td> 9077     </td></tr>\n",
       "\t<tr><td>2010-08-01</td><td> 9273     </td></tr>\n",
       "\t<tr><td>2010-09-01</td><td> 9420     </td></tr>\n",
       "\t<tr><td>2010-10-01</td><td> 9413     </td></tr>\n",
       "\t<tr><td>2010-11-01</td><td> 9866     </td></tr>\n",
       "\t<tr><td>2010-12-01</td><td>11455     </td></tr>\n",
       "\t<tr><td>2011-01-01</td><td> 6901     </td></tr>\n",
       "\t<tr><td>2011-02-01</td><td> 8014     </td></tr>\n",
       "\t<tr><td>2011-03-01</td><td> 9833     </td></tr>\n",
       "\t<tr><td>2011-04-01</td><td> 9281     </td></tr>\n",
       "\t<tr><td>2011-05-01</td><td> 9967     </td></tr>\n",
       "\t<tr><td>2011-06-01</td><td>11344     </td></tr>\n",
       "\t<tr><td>2011-07-01</td><td> 9106     </td></tr>\n",
       "\t<tr><td>2011-08-01</td><td>10468     </td></tr>\n",
       "\t<tr><td>2011-09-01</td><td>10085     </td></tr>\n",
       "\t<tr><td>2011-10-01</td><td> 9612     </td></tr>\n",
       "\t<tr><td>2011-11-01</td><td>10328     </td></tr>\n",
       "\t<tr><td>2011-12-01</td><td>11483     </td></tr>\n",
       "\t<tr><td>2012-01-01</td><td> 7486     </td></tr>\n",
       "\t<tr><td>2012-02-01</td><td> 8641     </td></tr>\n",
       "\t<tr><td>2012-03-01</td><td> 9709     </td></tr>\n",
       "\t<tr><td>2012-04-01</td><td> 9423     </td></tr>\n",
       "\t<tr><td>2012-05-01</td><td>11342     </td></tr>\n",
       "\t<tr><td>2012-06-01</td><td>11274     </td></tr>\n",
       "\t<tr><td>...</td><td>...</td></tr>\n",
       "\t<tr><td>2014-07-01</td><td>10966     </td></tr>\n",
       "\t<tr><td>2014-08-01</td><td>10981     </td></tr>\n",
       "\t<tr><td>2014-09-01</td><td>10827     </td></tr>\n",
       "\t<tr><td>2014-10-01</td><td>11815     </td></tr>\n",
       "\t<tr><td>2014-11-01</td><td>10466     </td></tr>\n",
       "\t<tr><td>2014-12-01</td><td>13303     </td></tr>\n",
       "\t<tr><td>2015-01-01</td><td> 8398     </td></tr>\n",
       "\t<tr><td>2015-02-01</td><td> 9061     </td></tr>\n",
       "\t<tr><td>2015-03-01</td><td>10720     </td></tr>\n",
       "\t<tr><td>2015-04-01</td><td>11105     </td></tr>\n",
       "\t<tr><td>2015-05-01</td><td>11505     </td></tr>\n",
       "\t<tr><td>2015-06-01</td><td>12903     </td></tr>\n",
       "\t<tr><td>2015-07-01</td><td>11866     </td></tr>\n",
       "\t<tr><td>2015-08-01</td><td>11223     </td></tr>\n",
       "\t<tr><td>2015-09-01</td><td>12023     </td></tr>\n",
       "\t<tr><td>2015-10-01</td><td>11986     </td></tr>\n",
       "\t<tr><td>2015-11-01</td><td>11510     </td></tr>\n",
       "\t<tr><td>2015-12-01</td><td>14190     </td></tr>\n",
       "\t<tr><td>2016-01-01</td><td> 8540     </td></tr>\n",
       "\t<tr><td>2016-02-01</td><td>10158     </td></tr>\n",
       "\t<tr><td>2016-03-01</td><td>11879     </td></tr>\n",
       "\t<tr><td>2016-04-01</td><td>11155     </td></tr>\n",
       "\t<tr><td>2016-05-01</td><td>11916     </td></tr>\n",
       "\t<tr><td>2016-06-01</td><td>13291     </td></tr>\n",
       "\t<tr><td>2016-07-01</td><td>10540     </td></tr>\n",
       "\t<tr><td>2016-08-01</td><td>12212     </td></tr>\n",
       "\t<tr><td>2016-09-01</td><td>11786     </td></tr>\n",
       "\t<tr><td>2016-10-01</td><td>11424     </td></tr>\n",
       "\t<tr><td>2016-11-01</td><td>12482     </td></tr>\n",
       "\t<tr><td>2016-12-01</td><td>13832     </td></tr>\n",
       "</tbody>\n",
       "</table>\n"
      ],
      "text/latex": [
       "\\begin{tabular}{r|ll}\n",
       " date & price\\\\\n",
       "\\hline\n",
       "\t 2010-01-01 &  6558     \\\\\n",
       "\t 2010-02-01 &  7481     \\\\\n",
       "\t 2010-03-01 &  9475     \\\\\n",
       "\t 2010-04-01 &  9424     \\\\\n",
       "\t 2010-05-01 &  9351     \\\\\n",
       "\t 2010-06-01 & 10552     \\\\\n",
       "\t 2010-07-01 &  9077     \\\\\n",
       "\t 2010-08-01 &  9273     \\\\\n",
       "\t 2010-09-01 &  9420     \\\\\n",
       "\t 2010-10-01 &  9413     \\\\\n",
       "\t 2010-11-01 &  9866     \\\\\n",
       "\t 2010-12-01 & 11455     \\\\\n",
       "\t 2011-01-01 &  6901     \\\\\n",
       "\t 2011-02-01 &  8014     \\\\\n",
       "\t 2011-03-01 &  9833     \\\\\n",
       "\t 2011-04-01 &  9281     \\\\\n",
       "\t 2011-05-01 &  9967     \\\\\n",
       "\t 2011-06-01 & 11344     \\\\\n",
       "\t 2011-07-01 &  9106     \\\\\n",
       "\t 2011-08-01 & 10468     \\\\\n",
       "\t 2011-09-01 & 10085     \\\\\n",
       "\t 2011-10-01 &  9612     \\\\\n",
       "\t 2011-11-01 & 10328     \\\\\n",
       "\t 2011-12-01 & 11483     \\\\\n",
       "\t 2012-01-01 &  7486     \\\\\n",
       "\t 2012-02-01 &  8641     \\\\\n",
       "\t 2012-03-01 &  9709     \\\\\n",
       "\t 2012-04-01 &  9423     \\\\\n",
       "\t 2012-05-01 & 11342     \\\\\n",
       "\t 2012-06-01 & 11274     \\\\\n",
       "\t ... & ...\\\\\n",
       "\t 2014-07-01 & 10966     \\\\\n",
       "\t 2014-08-01 & 10981     \\\\\n",
       "\t 2014-09-01 & 10827     \\\\\n",
       "\t 2014-10-01 & 11815     \\\\\n",
       "\t 2014-11-01 & 10466     \\\\\n",
       "\t 2014-12-01 & 13303     \\\\\n",
       "\t 2015-01-01 &  8398     \\\\\n",
       "\t 2015-02-01 &  9061     \\\\\n",
       "\t 2015-03-01 & 10720     \\\\\n",
       "\t 2015-04-01 & 11105     \\\\\n",
       "\t 2015-05-01 & 11505     \\\\\n",
       "\t 2015-06-01 & 12903     \\\\\n",
       "\t 2015-07-01 & 11866     \\\\\n",
       "\t 2015-08-01 & 11223     \\\\\n",
       "\t 2015-09-01 & 12023     \\\\\n",
       "\t 2015-10-01 & 11986     \\\\\n",
       "\t 2015-11-01 & 11510     \\\\\n",
       "\t 2015-12-01 & 14190     \\\\\n",
       "\t 2016-01-01 &  8540     \\\\\n",
       "\t 2016-02-01 & 10158     \\\\\n",
       "\t 2016-03-01 & 11879     \\\\\n",
       "\t 2016-04-01 & 11155     \\\\\n",
       "\t 2016-05-01 & 11916     \\\\\n",
       "\t 2016-06-01 & 13291     \\\\\n",
       "\t 2016-07-01 & 10540     \\\\\n",
       "\t 2016-08-01 & 12212     \\\\\n",
       "\t 2016-09-01 & 11786     \\\\\n",
       "\t 2016-10-01 & 11424     \\\\\n",
       "\t 2016-11-01 & 12482     \\\\\n",
       "\t 2016-12-01 & 13832     \\\\\n",
       "\\end{tabular}\n"
      ],
      "text/markdown": [
       "\n",
       "date | price | \n",
       "|---|---|---|---|---|---|---|---|---|---|---|---|---|---|---|---|---|---|---|---|---|---|---|---|---|---|---|---|---|---|---|---|---|---|---|---|---|---|---|---|---|---|---|---|---|---|---|---|---|---|---|---|---|---|---|---|---|---|---|---|---|\n",
       "| 2010-01-01 |  6558      | \n",
       "| 2010-02-01 |  7481      | \n",
       "| 2010-03-01 |  9475      | \n",
       "| 2010-04-01 |  9424      | \n",
       "| 2010-05-01 |  9351      | \n",
       "| 2010-06-01 | 10552      | \n",
       "| 2010-07-01 |  9077      | \n",
       "| 2010-08-01 |  9273      | \n",
       "| 2010-09-01 |  9420      | \n",
       "| 2010-10-01 |  9413      | \n",
       "| 2010-11-01 |  9866      | \n",
       "| 2010-12-01 | 11455      | \n",
       "| 2011-01-01 |  6901      | \n",
       "| 2011-02-01 |  8014      | \n",
       "| 2011-03-01 |  9833      | \n",
       "| 2011-04-01 |  9281      | \n",
       "| 2011-05-01 |  9967      | \n",
       "| 2011-06-01 | 11344      | \n",
       "| 2011-07-01 |  9106      | \n",
       "| 2011-08-01 | 10468      | \n",
       "| 2011-09-01 | 10085      | \n",
       "| 2011-10-01 |  9612      | \n",
       "| 2011-11-01 | 10328      | \n",
       "| 2011-12-01 | 11483      | \n",
       "| 2012-01-01 |  7486      | \n",
       "| 2012-02-01 |  8641      | \n",
       "| 2012-03-01 |  9709      | \n",
       "| 2012-04-01 |  9423      | \n",
       "| 2012-05-01 | 11342      | \n",
       "| 2012-06-01 | 11274      | \n",
       "| ... | ... | \n",
       "| 2014-07-01 | 10966      | \n",
       "| 2014-08-01 | 10981      | \n",
       "| 2014-09-01 | 10827      | \n",
       "| 2014-10-01 | 11815      | \n",
       "| 2014-11-01 | 10466      | \n",
       "| 2014-12-01 | 13303      | \n",
       "| 2015-01-01 |  8398      | \n",
       "| 2015-02-01 |  9061      | \n",
       "| 2015-03-01 | 10720      | \n",
       "| 2015-04-01 | 11105      | \n",
       "| 2015-05-01 | 11505      | \n",
       "| 2015-06-01 | 12903      | \n",
       "| 2015-07-01 | 11866      | \n",
       "| 2015-08-01 | 11223      | \n",
       "| 2015-09-01 | 12023      | \n",
       "| 2015-10-01 | 11986      | \n",
       "| 2015-11-01 | 11510      | \n",
       "| 2015-12-01 | 14190      | \n",
       "| 2016-01-01 |  8540      | \n",
       "| 2016-02-01 | 10158      | \n",
       "| 2016-03-01 | 11879      | \n",
       "| 2016-04-01 | 11155      | \n",
       "| 2016-05-01 | 11916      | \n",
       "| 2016-06-01 | 13291      | \n",
       "| 2016-07-01 | 10540      | \n",
       "| 2016-08-01 | 12212      | \n",
       "| 2016-09-01 | 11786      | \n",
       "| 2016-10-01 | 11424      | \n",
       "| 2016-11-01 | 12482      | \n",
       "| 2016-12-01 | 13832      | \n",
       "\n",
       "\n"
      ],
      "text/plain": [
       "    date       price\n",
       "1   2010-01-01  6558\n",
       "2   2010-02-01  7481\n",
       "3   2010-03-01  9475\n",
       "4   2010-04-01  9424\n",
       "5   2010-05-01  9351\n",
       "6   2010-06-01 10552\n",
       "7   2010-07-01  9077\n",
       "8   2010-08-01  9273\n",
       "9   2010-09-01  9420\n",
       "10  2010-10-01  9413\n",
       "11  2010-11-01  9866\n",
       "12  2010-12-01 11455\n",
       "13  2011-01-01  6901\n",
       "14  2011-02-01  8014\n",
       "15  2011-03-01  9833\n",
       "16  2011-04-01  9281\n",
       "17  2011-05-01  9967\n",
       "18  2011-06-01 11344\n",
       "19  2011-07-01  9106\n",
       "20  2011-08-01 10468\n",
       "21  2011-09-01 10085\n",
       "22  2011-10-01  9612\n",
       "23  2011-11-01 10328\n",
       "24  2011-12-01 11483\n",
       "25  2012-01-01  7486\n",
       "26  2012-02-01  8641\n",
       "27  2012-03-01  9709\n",
       "28  2012-04-01  9423\n",
       "29  2012-05-01 11342\n",
       "30  2012-06-01 11274\n",
       "... ...        ...  \n",
       "55  2014-07-01 10966\n",
       "56  2014-08-01 10981\n",
       "57  2014-09-01 10827\n",
       "58  2014-10-01 11815\n",
       "59  2014-11-01 10466\n",
       "60  2014-12-01 13303\n",
       "61  2015-01-01  8398\n",
       "62  2015-02-01  9061\n",
       "63  2015-03-01 10720\n",
       "64  2015-04-01 11105\n",
       "65  2015-05-01 11505\n",
       "66  2015-06-01 12903\n",
       "67  2015-07-01 11866\n",
       "68  2015-08-01 11223\n",
       "69  2015-09-01 12023\n",
       "70  2015-10-01 11986\n",
       "71  2015-11-01 11510\n",
       "72  2015-12-01 14190\n",
       "73  2016-01-01  8540\n",
       "74  2016-02-01 10158\n",
       "75  2016-03-01 11879\n",
       "76  2016-04-01 11155\n",
       "77  2016-05-01 11916\n",
       "78  2016-06-01 13291\n",
       "79  2016-07-01 10540\n",
       "80  2016-08-01 12212\n",
       "81  2016-09-01 11786\n",
       "82  2016-10-01 11424\n",
       "83  2016-11-01 12482\n",
       "84  2016-12-01 13832"
      ]
     },
     "metadata": {},
     "output_type": "display_data"
    }
   ],
   "source": [
    "beer_sales_tbl"
   ]
  },
  {
   "cell_type": "code",
   "execution_count": 186,
   "metadata": {},
   "outputs": [
    {
     "ename": "ERROR",
     "evalue": "Error in data.frame(beer_sales_tbl2017, pred): arguments imply differing number of rows: 0, 10\n",
     "output_type": "error",
     "traceback": [
      "Error in data.frame(beer_sales_tbl2017, pred): arguments imply differing number of rows: 0, 10\nTraceback:\n",
      "1. data.frame(beer_sales_tbl2017, pred) %>% rename(actual = price) %>% \n .     mutate(error = actual - pred, error_pct = error/actual)",
      "2. eval(lhs, parent, parent)",
      "3. eval(lhs, parent, parent)",
      "4. data.frame(beer_sales_tbl2017, pred)",
      "5. stop(gettextf(\"arguments imply differing number of rows: %s\", \n .     paste(unique(nrows), collapse = \", \")), domain = NA)"
     ]
    }
   ],
   "source": [
    "library(dplyr)\n",
    "# Investigate test error\n",
    "error_tbl <-  data.frame(beer_sales_tbl2017, pred)%>%\n",
    "    rename(actual = price) %>%\n",
    "    mutate(\n",
    "        error     = actual - pred,\n",
    "        error_pct = error / actual\n",
    "        ) \n",
    "error_tbl"
   ]
  },
  {
   "cell_type": "code",
   "execution_count": 119,
   "metadata": {},
   "outputs": [
    {
     "name": "stdout",
     "output_type": "stream",
     "text": [
      "Observations: 1\n",
      "Variables: 5\n",
      "$ me   <dbl> -102.454\n",
      "$ rmse <dbl> 528.2961\n",
      "$ mae  <dbl> 448.6223\n",
      "$ mape <dbl> 0.03795523\n",
      "$ mpe  <dbl> -0.01121317\n"
     ]
    }
   ],
   "source": [
    "error_tbl %>%\n",
    "    summarise(\n",
    "        me   = mean(error),\n",
    "        rmse = mean(error^2)^0.5,\n",
    "        mae  = mean(abs(error)),\n",
    "        mape = mean(abs(error_pct)),\n",
    "        mpe  = mean(error_pct)\n",
    "    ) %>%\n",
    "    glimpse()"
   ]
  },
  {
   "cell_type": "code",
   "execution_count": 122,
   "metadata": {},
   "outputs": [
    {
     "data": {
      "text/html": [
       "<table>\n",
       "<thead><tr><th scope=col>date</th><th scope=col>actual</th><th scope=col>pred</th><th scope=col>error</th><th scope=col>error_pct</th></tr></thead>\n",
       "<tbody>\n",
       "\t<tr><td>2017-01-01   </td><td> 8664        </td><td> 8601.815    </td><td>  62.18469   </td><td> 0.0071773648</td></tr>\n",
       "\t<tr><td>2017-02-01   </td><td>10017        </td><td>10855.429    </td><td>-838.42909   </td><td>-0.0837006175</td></tr>\n",
       "\t<tr><td>2017-03-01   </td><td>11960        </td><td>11502.214    </td><td> 457.78622   </td><td> 0.0382764395</td></tr>\n",
       "\t<tr><td>2017-04-01   </td><td>11019        </td><td>11582.600    </td><td>-563.59962   </td><td>-0.0511479824</td></tr>\n",
       "\t<tr><td>2017-05-01   </td><td>12971        </td><td>12566.765    </td><td> 404.23490   </td><td> 0.0311645135</td></tr>\n",
       "\t<tr><td>2017-06-01   </td><td>14113        </td><td>13263.918    </td><td> 849.08191   </td><td> 0.0601631057</td></tr>\n",
       "\t<tr><td>2017-07-01   </td><td>10928        </td><td>11507.277    </td><td>-579.27693   </td><td>-0.0530085034</td></tr>\n",
       "\t<tr><td>2017-08-01   </td><td>12831        </td><td>12527.278    </td><td> 303.72219   </td><td> 0.0236709677</td></tr>\n",
       "\t<tr><td>2017-09-01   </td><td>11407        </td><td>12076.820    </td><td>-669.81963   </td><td>-0.0587200514</td></tr>\n",
       "\t<tr><td>2017-10-01   </td><td>12164        </td><td>12216.443    </td><td> -52.44308   </td><td>-0.0043113353</td></tr>\n",
       "\t<tr><td>2017-11-01   </td><td>12690        </td><td>12700.055    </td><td> -10.05489   </td><td>-0.0007923472</td></tr>\n",
       "\t<tr><td>2017-12-01   </td><td>13682        </td><td>14274.835    </td><td>-592.83502   </td><td>-0.0433295585</td></tr>\n",
       "</tbody>\n",
       "</table>\n"
      ],
      "text/latex": [
       "\\begin{tabular}{r|lllll}\n",
       " date & actual & pred & error & error\\_pct\\\\\n",
       "\\hline\n",
       "\t 2017-01-01    &  8664         &  8601.815     &   62.18469    &  0.0071773648\\\\\n",
       "\t 2017-02-01    & 10017         & 10855.429     & -838.42909    & -0.0837006175\\\\\n",
       "\t 2017-03-01    & 11960         & 11502.214     &  457.78622    &  0.0382764395\\\\\n",
       "\t 2017-04-01    & 11019         & 11582.600     & -563.59962    & -0.0511479824\\\\\n",
       "\t 2017-05-01    & 12971         & 12566.765     &  404.23490    &  0.0311645135\\\\\n",
       "\t 2017-06-01    & 14113         & 13263.918     &  849.08191    &  0.0601631057\\\\\n",
       "\t 2017-07-01    & 10928         & 11507.277     & -579.27693    & -0.0530085034\\\\\n",
       "\t 2017-08-01    & 12831         & 12527.278     &  303.72219    &  0.0236709677\\\\\n",
       "\t 2017-09-01    & 11407         & 12076.820     & -669.81963    & -0.0587200514\\\\\n",
       "\t 2017-10-01    & 12164         & 12216.443     &  -52.44308    & -0.0043113353\\\\\n",
       "\t 2017-11-01    & 12690         & 12700.055     &  -10.05489    & -0.0007923472\\\\\n",
       "\t 2017-12-01    & 13682         & 14274.835     & -592.83502    & -0.0433295585\\\\\n",
       "\\end{tabular}\n"
      ],
      "text/markdown": [
       "\n",
       "date | actual | pred | error | error_pct | \n",
       "|---|---|---|---|---|---|---|---|---|---|---|---|\n",
       "| 2017-01-01    |  8664         |  8601.815     |   62.18469    |  0.0071773648 | \n",
       "| 2017-02-01    | 10017         | 10855.429     | -838.42909    | -0.0837006175 | \n",
       "| 2017-03-01    | 11960         | 11502.214     |  457.78622    |  0.0382764395 | \n",
       "| 2017-04-01    | 11019         | 11582.600     | -563.59962    | -0.0511479824 | \n",
       "| 2017-05-01    | 12971         | 12566.765     |  404.23490    |  0.0311645135 | \n",
       "| 2017-06-01    | 14113         | 13263.918     |  849.08191    |  0.0601631057 | \n",
       "| 2017-07-01    | 10928         | 11507.277     | -579.27693    | -0.0530085034 | \n",
       "| 2017-08-01    | 12831         | 12527.278     |  303.72219    |  0.0236709677 | \n",
       "| 2017-09-01    | 11407         | 12076.820     | -669.81963    | -0.0587200514 | \n",
       "| 2017-10-01    | 12164         | 12216.443     |  -52.44308    | -0.0043113353 | \n",
       "| 2017-11-01    | 12690         | 12700.055     |  -10.05489    | -0.0007923472 | \n",
       "| 2017-12-01    | 13682         | 14274.835     | -592.83502    | -0.0433295585 | \n",
       "\n",
       "\n"
      ],
      "text/plain": [
       "   date       actual pred      error      error_pct    \n",
       "1  2017-01-01  8664   8601.815   62.18469  0.0071773648\n",
       "2  2017-02-01 10017  10855.429 -838.42909 -0.0837006175\n",
       "3  2017-03-01 11960  11502.214  457.78622  0.0382764395\n",
       "4  2017-04-01 11019  11582.600 -563.59962 -0.0511479824\n",
       "5  2017-05-01 12971  12566.765  404.23490  0.0311645135\n",
       "6  2017-06-01 14113  13263.918  849.08191  0.0601631057\n",
       "7  2017-07-01 10928  11507.277 -579.27693 -0.0530085034\n",
       "8  2017-08-01 12831  12527.278  303.72219  0.0236709677\n",
       "9  2017-09-01 11407  12076.820 -669.81963 -0.0587200514\n",
       "10 2017-10-01 12164  12216.443  -52.44308 -0.0043113353\n",
       "11 2017-11-01 12690  12700.055  -10.05489 -0.0007923472\n",
       "12 2017-12-01 13682  14274.835 -592.83502 -0.0433295585"
      ]
     },
     "metadata": {},
     "output_type": "display_data"
    }
   ],
   "source": [
    "error_tbl "
   ]
  },
  {
   "cell_type": "code",
   "execution_count": 120,
   "metadata": {},
   "outputs": [
    {
     "data": {
      "text/html": [
       "<table>\n",
       "<thead><tr><th scope=col>date</th><th scope=col>actual</th><th scope=col>pred</th><th scope=col>error</th><th scope=col>error_pct</th></tr></thead>\n",
       "<tbody>\n",
       "\t<tr><td>2017-01-01   </td><td> 8664        </td><td> 8601.815    </td><td>  62.18469   </td><td> 0.0071773648</td></tr>\n",
       "\t<tr><td>2017-02-01   </td><td>10017        </td><td>10855.429    </td><td>-838.42909   </td><td>-0.0837006175</td></tr>\n",
       "\t<tr><td>2017-03-01   </td><td>11960        </td><td>11502.214    </td><td> 457.78622   </td><td> 0.0382764395</td></tr>\n",
       "\t<tr><td>2017-04-01   </td><td>11019        </td><td>11582.600    </td><td>-563.59962   </td><td>-0.0511479824</td></tr>\n",
       "\t<tr><td>2017-05-01   </td><td>12971        </td><td>12566.765    </td><td> 404.23490   </td><td> 0.0311645135</td></tr>\n",
       "\t<tr><td>2017-06-01   </td><td>14113        </td><td>13263.918    </td><td> 849.08191   </td><td> 0.0601631057</td></tr>\n",
       "\t<tr><td>2017-07-01   </td><td>10928        </td><td>11507.277    </td><td>-579.27693   </td><td>-0.0530085034</td></tr>\n",
       "\t<tr><td>2017-08-01   </td><td>12831        </td><td>12527.278    </td><td> 303.72219   </td><td> 0.0236709677</td></tr>\n",
       "\t<tr><td>2017-09-01   </td><td>11407        </td><td>12076.820    </td><td>-669.81963   </td><td>-0.0587200514</td></tr>\n",
       "\t<tr><td>2017-10-01   </td><td>12164        </td><td>12216.443    </td><td> -52.44308   </td><td>-0.0043113353</td></tr>\n",
       "\t<tr><td>2017-11-01   </td><td>12690        </td><td>12700.055    </td><td> -10.05489   </td><td>-0.0007923472</td></tr>\n",
       "\t<tr><td>2017-12-01   </td><td>13682        </td><td>14274.835    </td><td>-592.83502   </td><td>-0.0433295585</td></tr>\n",
       "</tbody>\n",
       "</table>\n"
      ],
      "text/latex": [
       "\\begin{tabular}{r|lllll}\n",
       " date & actual & pred & error & error\\_pct\\\\\n",
       "\\hline\n",
       "\t 2017-01-01    &  8664         &  8601.815     &   62.18469    &  0.0071773648\\\\\n",
       "\t 2017-02-01    & 10017         & 10855.429     & -838.42909    & -0.0837006175\\\\\n",
       "\t 2017-03-01    & 11960         & 11502.214     &  457.78622    &  0.0382764395\\\\\n",
       "\t 2017-04-01    & 11019         & 11582.600     & -563.59962    & -0.0511479824\\\\\n",
       "\t 2017-05-01    & 12971         & 12566.765     &  404.23490    &  0.0311645135\\\\\n",
       "\t 2017-06-01    & 14113         & 13263.918     &  849.08191    &  0.0601631057\\\\\n",
       "\t 2017-07-01    & 10928         & 11507.277     & -579.27693    & -0.0530085034\\\\\n",
       "\t 2017-08-01    & 12831         & 12527.278     &  303.72219    &  0.0236709677\\\\\n",
       "\t 2017-09-01    & 11407         & 12076.820     & -669.81963    & -0.0587200514\\\\\n",
       "\t 2017-10-01    & 12164         & 12216.443     &  -52.44308    & -0.0043113353\\\\\n",
       "\t 2017-11-01    & 12690         & 12700.055     &  -10.05489    & -0.0007923472\\\\\n",
       "\t 2017-12-01    & 13682         & 14274.835     & -592.83502    & -0.0433295585\\\\\n",
       "\\end{tabular}\n"
      ],
      "text/markdown": [
       "\n",
       "date | actual | pred | error | error_pct | \n",
       "|---|---|---|---|---|---|---|---|---|---|---|---|\n",
       "| 2017-01-01    |  8664         |  8601.815     |   62.18469    |  0.0071773648 | \n",
       "| 2017-02-01    | 10017         | 10855.429     | -838.42909    | -0.0837006175 | \n",
       "| 2017-03-01    | 11960         | 11502.214     |  457.78622    |  0.0382764395 | \n",
       "| 2017-04-01    | 11019         | 11582.600     | -563.59962    | -0.0511479824 | \n",
       "| 2017-05-01    | 12971         | 12566.765     |  404.23490    |  0.0311645135 | \n",
       "| 2017-06-01    | 14113         | 13263.918     |  849.08191    |  0.0601631057 | \n",
       "| 2017-07-01    | 10928         | 11507.277     | -579.27693    | -0.0530085034 | \n",
       "| 2017-08-01    | 12831         | 12527.278     |  303.72219    |  0.0236709677 | \n",
       "| 2017-09-01    | 11407         | 12076.820     | -669.81963    | -0.0587200514 | \n",
       "| 2017-10-01    | 12164         | 12216.443     |  -52.44308    | -0.0043113353 | \n",
       "| 2017-11-01    | 12690         | 12700.055     |  -10.05489    | -0.0007923472 | \n",
       "| 2017-12-01    | 13682         | 14274.835     | -592.83502    | -0.0433295585 | \n",
       "\n",
       "\n"
      ],
      "text/plain": [
       "   date       actual pred      error      error_pct    \n",
       "1  2017-01-01  8664   8601.815   62.18469  0.0071773648\n",
       "2  2017-02-01 10017  10855.429 -838.42909 -0.0837006175\n",
       "3  2017-03-01 11960  11502.214  457.78622  0.0382764395\n",
       "4  2017-04-01 11019  11582.600 -563.59962 -0.0511479824\n",
       "5  2017-05-01 12971  12566.765  404.23490  0.0311645135\n",
       "6  2017-06-01 14113  13263.918  849.08191  0.0601631057\n",
       "7  2017-07-01 10928  11507.277 -579.27693 -0.0530085034\n",
       "8  2017-08-01 12831  12527.278  303.72219  0.0236709677\n",
       "9  2017-09-01 11407  12076.820 -669.81963 -0.0587200514\n",
       "10 2017-10-01 12164  12216.443  -52.44308 -0.0043113353\n",
       "11 2017-11-01 12690  12700.055  -10.05489 -0.0007923472\n",
       "12 2017-12-01 13682  14274.835 -592.83502 -0.0433295585"
      ]
     },
     "metadata": {},
     "output_type": "display_data"
    }
   ],
   "source": [
    "error_tbl1 "
   ]
  },
  {
   "cell_type": "code",
   "execution_count": 121,
   "metadata": {},
   "outputs": [
    {
     "name": "stdout",
     "output_type": "stream",
     "text": [
      "Observations: 1\n",
      "Variables: 5\n",
      "$ me   <dbl> -102.454\n",
      "$ rmse <dbl> 528.2961\n",
      "$ mae  <dbl> 448.6223\n",
      "$ mape <dbl> 0.03795523\n",
      "$ mpe  <dbl> -0.01121317\n"
     ]
    }
   ],
   "source": [
    "error_tbl_ts %>%\n",
    "    summarise(\n",
    "        me   = mean(error),\n",
    "        rmse = mean(error^2)^0.5,\n",
    "        mae  = mean(abs(error)),\n",
    "        mape = mean(abs(error_pct)),\n",
    "        mpe  = mean(error_pct)\n",
    "    ) %>%\n",
    "    glimpse()"
   ]
  },
  {
   "cell_type": "markdown",
   "metadata": {},
   "source": [
    "The MAPE for the combination of h2o + timetk is superior to the two prior demos:\n",
    "\n",
    "timetk + h2o: MAPE = 3.9% (This demo)\n",
    "timetk + linear regression: MAPE = 4.3% (timetk demo)\n",
    "sweep + ARIMA: MAPE = 4.3%, (sweep demo)"
   ]
  },
  {
   "cell_type": "code",
   "execution_count": 252,
   "metadata": {},
   "outputs": [
    {
     "name": "stderr",
     "output_type": "stream",
     "text": [
      "Registering fonts with R\n"
     ]
    }
   ],
   "source": [
    "# Libraries needed for bonus material\n",
    "library(extrafont) # More fonts!! We'll use Chiller"
   ]
  },
  {
   "cell_type": "code",
   "execution_count": 253,
   "metadata": {
    "collapsed": true
   },
   "outputs": [],
   "source": [
    "# Create spooky dark theme:\n",
    "theme_spooky = function(base_size = 10, base_family = \"Chiller\") {\n",
    "    \n",
    "    theme_grey(base_size = base_size, base_family = base_family) %+replace%\n",
    "        \n",
    "        theme(\n",
    "            # Specify axis options\n",
    "            axis.line = element_blank(),  \n",
    "            axis.text.x = element_text(size = base_size*0.8, color = \"white\", lineheight = 0.9),  \n",
    "            axis.text.y = element_text(size = base_size*0.8, color = \"white\", lineheight = 0.9),  \n",
    "            axis.ticks = element_line(color = \"white\", size  =  0.2),  \n",
    "            axis.title.x = element_text(size = base_size, color = \"white\", margin = margin(0, 10, 0, 0)),  \n",
    "            axis.title.y = element_text(size = base_size, color = \"white\", angle = 90, margin = margin(0, 10, 0, 0)),  \n",
    "            axis.ticks.length = unit(0.3, \"lines\"),   \n",
    "            # Specify legend options\n",
    "            legend.background = element_rect(color = NA, fill = \" gray10\"),  \n",
    "            legend.key = element_rect(color = \"white\",  fill = \" gray10\"),  \n",
    "            legend.key.size = unit(1.2, \"lines\"),  \n",
    "            legend.key.height = NULL,  \n",
    "            legend.key.width = NULL,      \n",
    "            legend.text = element_text(size = base_size*0.8, color = \"white\"),  \n",
    "            legend.title = element_text(size = base_size*0.8, face = \"bold\", hjust = 0, color = \"white\"),  \n",
    "            legend.position = \"none\",  \n",
    "            legend.text.align = NULL,  \n",
    "            legend.title.align = NULL,  \n",
    "            legend.direction = \"vertical\",  \n",
    "            legend.box = NULL, \n",
    "            # Specify panel options\n",
    "            panel.background = element_rect(fill = \" gray10\", color  =  NA),  \n",
    "            #panel.border = element_rect(fill = NA, color = \"white\"),  \n",
    "            panel.border = element_blank(),\n",
    "            panel.grid.major = element_line(color = \"grey35\"),  \n",
    "            panel.grid.minor = element_line(color = \"grey20\"),  \n",
    "            panel.spacing = unit(0.5, \"lines\"),   \n",
    "            # Specify facetting options\n",
    "            strip.background = element_rect(fill = \"grey30\", color = \"grey10\"),  \n",
    "            strip.text.x = element_text(size = base_size*0.8, color = \"white\"),  \n",
    "            strip.text.y = element_text(size = base_size*0.8, color = \"white\",angle = -90),  \n",
    "            # Specify plot options\n",
    "            plot.background = element_rect(color = \" gray10\", fill = \" gray10\"),  \n",
    "            plot.title = element_text(size = base_size*1.2, color = \"white\",hjust=0,lineheight=1.25,\n",
    "                                      margin=margin(2,2,2,2)),  \n",
    "            plot.subtitle = element_text(size = base_size*1, color = \"white\",hjust=0,  margin=margin(2,2,2,2)),  \n",
    "            plot.caption = element_text(size = base_size*0.8, color = \"white\",hjust=0),  \n",
    "            plot.margin = unit(rep(1, 4), \"lines\")\n",
    "            \n",
    "        )\n",
    "    \n",
    "}"
   ]
  },
  {
   "cell_type": "code",
   "execution_count": 255,
   "metadata": {},
   "outputs": [
    {
     "ename": "ERROR",
     "evalue": "Error in geom_ma(n = 12, color = \"white\"): could not find function \"geom_ma\"\n",
     "output_type": "error",
     "traceback": [
      "Error in geom_ma(n = 12, color = \"white\"): could not find function \"geom_ma\"\nTraceback:\n"
     ]
    }
   ],
   "source": [
    "library(ggplot2)\n",
    "beer_sales_tbl %>%\n",
    "    ggplot(aes(x = date, y = price)) +\n",
    "    # Data - Spooky Orange\n",
    "    geom_point(size = 2, color = \"gray\", alpha = 0.5, shape = 21, fill = \"orange\") +\n",
    "    geom_line(color = \"orange\", size = 0.5) +\n",
    "    geom_ma(n = 12, color = \"white\") +\n",
    "    # Predictions - Spooky Purple\n",
    "    geom_point(aes(y = pred), size = 2, color = \"gray\", alpha = 1, shape = 21, fill = \"purple\", data = error_tbl) +\n",
    "    geom_line(aes(y = pred), color = \"purple\", size = 0.5, data = error_tbl) +\n",
    "    # Aesthetics\n",
    "    theme_spooky(base_size = 20) +\n",
    "    labs(\n",
    "        title = \"Beer Sales Forecast: h2o + timetk\",\n",
    "        subtitle = \"H2O had highest accuracy, MAPE = 3.9%\",\n",
    "        caption = \"Thanks to @lenkiefer for theme_spooky!\"\n",
    "    )"
   ]
  }
 ],
 "metadata": {
  "kernelspec": {
   "display_name": "R",
   "language": "R",
   "name": "ir"
  },
  "language_info": {
   "codemirror_mode": "r",
   "file_extension": ".r",
   "mimetype": "text/x-r-source",
   "name": "R",
   "pygments_lexer": "r",
   "version": "3.4.3"
  }
 },
 "nbformat": 4,
 "nbformat_minor": 2
}
