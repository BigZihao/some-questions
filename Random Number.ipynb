{
 "cells": [
  {
   "cell_type": "markdown",
   "metadata": {},
   "source": [
    "linear congruential generators (LCG’s)\n",
    "\n",
    "xn+1 ≡ a + bxn (mod m)"
   ]
  },
  {
   "cell_type": "code",
   "execution_count": 8,
   "metadata": {
    "collapsed": true
   },
   "outputs": [],
   "source": [
    "def lcg(n, seed):\n",
    "    b = 1140671485\n",
    "    a = 128201163\n",
    "    m = 2**24\n",
    "    rand = [seed]\n",
    "    i=1\n",
    "    while i<n:\n",
    "        rand.append((a + b*rand[-1]) % m)\n",
    "        i+=1\n",
    "    return [ra/m for ra in rand]"
   ]
  },
  {
   "cell_type": "markdown",
   "metadata": {},
   "source": [
    " This random number generator can be shown to have period 2^24"
   ]
  },
  {
   "cell_type": "code",
   "execution_count": 9,
   "metadata": {},
   "outputs": [],
   "source": [
    "import numpy as np\n",
    "import pandas as pd\n",
    "import matplotlib\n",
    "%matplotlib inline"
   ]
  },
  {
   "cell_type": "code",
   "execution_count": 10,
   "metadata": {},
   "outputs": [],
   "source": [
    "randomnumber = np.array(lcg(100, 226))"
   ]
  },
  {
   "cell_type": "code",
   "execution_count": 11,
   "metadata": {},
   "outputs": [
    {
     "data": {
      "text/plain": [
       "100"
      ]
     },
     "execution_count": 11,
     "metadata": {},
     "output_type": "execute_result"
    }
   ],
   "source": [
    "len(randomnumber)"
   ]
  },
  {
   "cell_type": "code",
   "execution_count": 12,
   "metadata": {},
   "outputs": [
    {
     "data": {
      "text/plain": [
       "<matplotlib.axes._subplots.AxesSubplot at 0x106fff9b0>"
      ]
     },
     "execution_count": 12,
     "metadata": {},
     "output_type": "execute_result"
    },
    {
     "data": {
      "image/png": "[encoded data removed]",
      "text/plain": [
       "<matplotlib.figure.Figure at 0x106fff080>"
      ]
     },
     "metadata": {},
     "output_type": "display_data"
    }
   ],
   "source": [
    "pd.DataFrame(randomnumber).plot.hist(alpha=0.5)"
   ]
  },
  {
   "cell_type": "markdown",
   "metadata": {},
   "source": [
    "Yeah, it looks like uniform distribution, but how do you know for sure that it is unformaly distributed.\n",
    "First based on law of large numbers"
   ]
  },
  {
   "cell_type": "code",
   "execution_count": 13,
   "metadata": {},
   "outputs": [
    {
     "data": {
      "text/plain": [
       "0.007005952596664422"
      ]
     },
     "execution_count": 13,
     "metadata": {},
     "output_type": "execute_result"
    }
   ],
   "source": [
    "0.5 - 1/100*sum(randomnumber)"
   ]
  },
  {
   "cell_type": "code",
   "execution_count": 14,
   "metadata": {},
   "outputs": [
    {
     "data": {
      "text/plain": [
       "0.028867513459481287"
      ]
     },
     "execution_count": 14,
     "metadata": {},
     "output_type": "execute_result"
    }
   ],
   "source": [
    "import math\n",
    "math.sqrt(1/12/100)"
   ]
  },
  {
   "cell_type": "code",
   "execution_count": 15,
   "metadata": {},
   "outputs": [
    {
     "data": {
      "text/plain": [
       "0.24269331705683772"
      ]
     },
     "execution_count": 15,
     "metadata": {},
     "output_type": "execute_result"
    }
   ],
   "source": [
    "(0.5 - 1/100*sum(randomnumber))/math.sqrt(1/12/100)"
   ]
  },
  {
   "cell_type": "markdown",
   "metadata": {},
   "source": [
    "cannot reject the null hypothesis that it is iid random numbers"
   ]
  },
  {
   "cell_type": "markdown",
   "metadata": {},
   "source": [
    "– All MCG’s and LCG’s exhibit some positive autocorrelation. For example, in an\n",
    "MCG, an extremely small value is always followed by another fairly small value.\n",
    "For example in the MCG given above (b = 16807, m = 231 − 1), the frequency of\n",
    "values less than 10000 is 104/2\n",
    "31 ≈ 4.7×10−6\n",
    ", but such a value is always followed\n",
    "by a value less than 104 × 16807/2\n",
    "31 ≈ 0.08 (on the (0, 1) scale)"
   ]
  },
  {
   "cell_type": "markdown",
   "metadata": {},
   "source": [
    "Reservoir sampling is a family of randomized algorithms for randomly choosing a sample of k items from a list S containing n items, where n is either a very large or unknown number. Typically n is large enough that the list doesn't fit into main memory.\n"
   ]
  },
  {
   "cell_type": "code",
   "execution_count": null,
   "metadata": {
    "collapsed": true
   },
   "outputs": [],
   "source": [
    "def reservoirsampling(K, N):\n",
    "    data = \n",
    "    "
   ]
  },
  {
   "cell_type": "markdown",
   "metadata": {},
   "source": [
    "From (0, 1) uniform distribution to all other distribution"
   ]
  },
  {
   "cell_type": "code",
   "execution_count": 16,
   "metadata": {
    "collapsed": true
   },
   "outputs": [],
   "source": [
    "import math"
   ]
  },
  {
   "cell_type": "code",
   "execution_count": 17,
   "metadata": {},
   "outputs": [],
   "source": [
    "#exponential:\n",
    "#F−1(U) = −1/λ log(1 − U).\n",
    "\n",
    "randomexp = pd.DataFrame([-10*math.log(ra) for ra in randomnumber])"
   ]
  },
  {
   "cell_type": "code",
   "execution_count": 18,
   "metadata": {},
   "outputs": [
    {
     "data": {
      "text/plain": [
       "<matplotlib.axes._subplots.AxesSubplot at 0x1070f2a58>"
      ]
     },
     "execution_count": 18,
     "metadata": {},
     "output_type": "execute_result"
    },
    {
     "data": {
      "image/png": "[encoded data removed]",
      "text/plain": [
       "<matplotlib.figure.Figure at 0x1070f9908>"
      ]
     },
     "metadata": {},
     "output_type": "display_data"
    }
   ],
   "source": [
    "randomexp.plot.hist(alpha=0.5)"
   ]
  },
  {
   "cell_type": "code",
   "execution_count": 19,
   "metadata": {},
   "outputs": [
    {
     "data": {
      "text/plain": [
       "0.18991393493393144"
      ]
     },
     "execution_count": 19,
     "metadata": {},
     "output_type": "execute_result"
    }
   ],
   "source": [
    "np.random.exponential(scale=1, size=None)"
   ]
  },
  {
   "cell_type": "code",
   "execution_count": 20,
   "metadata": {},
   "outputs": [],
   "source": [
    "randomexpcompare = pd.DataFrame(np.random.exponential(scale=1, size=100))"
   ]
  },
  {
   "cell_type": "code",
   "execution_count": 21,
   "metadata": {},
   "outputs": [
    {
     "data": {
      "text/plain": [
       "<matplotlib.axes._subplots.AxesSubplot at 0x10717cda0>"
      ]
     },
     "execution_count": 21,
     "metadata": {},
     "output_type": "execute_result"
    },
    {
     "data": {
      "image/png": "[encoded data removed]",
      "text/plain": [
       "<matplotlib.figure.Figure at 0x10735c160>"
      ]
     },
     "metadata": {},
     "output_type": "display_data"
    }
   ],
   "source": [
    "randomexpcompare.plot.hist(alpha=0.5)"
   ]
  },
  {
   "cell_type": "code",
   "execution_count": 22,
   "metadata": {
    "collapsed": true
   },
   "outputs": [],
   "source": [
    "randomlogit = pd.DataFrame([math.log(ra/(1-ra)) for ra in randomnumber])"
   ]
  },
  {
   "cell_type": "code",
   "execution_count": 23,
   "metadata": {},
   "outputs": [
    {
     "data": {
      "text/plain": [
       "<matplotlib.axes._subplots.AxesSubplot at 0x10737c7b8>"
      ]
     },
     "execution_count": 23,
     "metadata": {},
     "output_type": "execute_result"
    },
    {
     "data": {
      "image/png": "[encoded data removed]",
      "text/plain": [
       "<matplotlib.figure.Figure at 0x10743fc88>"
      ]
     },
     "metadata": {},
     "output_type": "display_data"
    }
   ],
   "source": [
    "randomlogit.plot.hist(alpha=0.5)"
   ]
  },
  {
   "cell_type": "code",
   "execution_count": 24,
   "metadata": {},
   "outputs": [
    {
     "data": {
      "text/plain": [
       "3.0517578125e-05"
      ]
     },
     "execution_count": 24,
     "metadata": {},
     "output_type": "execute_result"
    }
   ],
   "source": [
    "## rejection sampling, sometimes it is hard to find the inversed CDF\n",
    "float(1/8**5)"
   ]
  },
  {
   "cell_type": "markdown",
   "metadata": {},
   "source": [
    "上来就让你自己写weighted sampling, 不能用existing function。 给两个vector, 一个是要选的数，另一个是相应的weight。 \n",
    "我说根据相应的weight来replicate选择的数，再用一个uniform distribution来随即选index。\n",
    "白人哥哥但是这样会有个问题，我说是阿，如果weight是小数的话就有问题，可以试着把weight vector整体乘一个很大的数，变成整数之类的。。。。\n",
    "\n",
    "第一题可以用rejection sampling的方法\n",
    "假设 samples = [1,2,3,4,5]\n",
    "weights = [0.1,0.1,0.2,0.2,0.4]\n",
    "可以generate一个随机i of vector index (i = 1 to 5 in this case), \n",
    "再generate一个uniform [0,1]之间的随机数 prob，\n",
    "if prob <= weights[i] then output samples[i], else break, jump to next iteration. 1"
   ]
  },
  {
   "cell_type": "code",
   "execution_count": 25,
   "metadata": {},
   "outputs": [
    {
     "name": "stdout",
     "output_type": "stream",
     "text": [
      "-1, 0, 0, 1, 2, 2, 3, 4, 6, 6, -1, -1, "
     ]
    }
   ],
   "source": [
    "def find_interval(x, partition):\n",
    "    for i in range(len(partition)):\n",
    "        if x < partition[i]:\n",
    "            return i-1\n",
    "    return -1\n",
    " \n",
    "Interval = [0, 3, 5, 7.8, 9, 12, 13.8, 16]\n",
    "for x in [-1.3, 0, 0.1, 3.2, 5, 6.2, 7.9, 10.8, 13.9, 15, 16, 16.5]:\n",
    "    print(find_interval(x, Interval), end=\", \")"
   ]
  },
  {
   "cell_type": "code",
   "execution_count": 26,
   "metadata": {},
   "outputs": [
    {
     "data": {
      "text/plain": [
       "[6, 1, 5, 4, 5]"
      ]
     },
     "execution_count": 26,
     "metadata": {},
     "output_type": "execute_result"
    }
   ],
   "source": [
    "def weighted_sample(samples, weights, N):\n",
    "    res=[]\n",
    "    seeds=226\n",
    "    k=2\n",
    "    while len(res)<N:\n",
    "        index = np.array(lcg(k, seeds))[-1]*len(samples)\n",
    "        for i in range(len(samples)):\n",
    "            if index<i+1:\n",
    "                select = samples[i]\n",
    "                break     \n",
    "        k+=1\n",
    "        prob = np.array(lcg(k, seeds*2))[-1]\n",
    "        ## reject sampling\n",
    "        if prob<=weights[i]:\n",
    "            res.append(samples[i])\n",
    "        k+=1\n",
    "    return res\n",
    "\n",
    "samples = [1,2,3,4,5,6]\n",
    "weights = [0.1,0.1,0.2,0.2,0.2,0.2]\n",
    "N=5\n",
    "weighted_sample(samples, weights, N)"
   ]
  },
  {
   "cell_type": "markdown",
   "metadata": {},
   "source": [
    "Another rejection sampling\n",
    "Rejection sampling is typically used to generate draws from complicated distributions that\n",
    "arise in specialized problems (these distributions are too particular to have names). Among\n",
    "the classical distributions, most can be simulated using a deterministic operation on a uniform\n",
    "draw. The gamma distribution is more challenging, and cannot be handled in this way.\n",
    "Therefore draws from the gamma distribution are usually generated via rejection sampling."
   ]
  },
  {
   "cell_type": "code",
   "execution_count": 30,
   "metadata": {},
   "outputs": [
    {
     "ename": "SyntaxError",
     "evalue": "unexpected EOF while parsing (<ipython-input-30-8129411d89ee>, line 7)",
     "output_type": "error",
     "traceback": [
      "\u001b[0;36m  File \u001b[0;32m\"<ipython-input-30-8129411d89ee>\"\u001b[0;36m, line \u001b[0;32m7\u001b[0m\n\u001b[0;31m    while True:\u001b[0m\n\u001b[0m               ^\u001b[0m\n\u001b[0;31mSyntaxError\u001b[0m\u001b[0;31m:\u001b[0m unexpected EOF while parsing\n"
     ]
    }
   ],
   "source": [
    "alpha = 3\n",
    "beta = 1\n",
    "L = math.sqrt(2*alpha - 1)\n",
    "n = 0\n",
    "N = 1000\n",
    "seed= 226\n",
    "for i in range(len(N)):\n",
    "    while True:\n",
    "        n+=1\n",
    "        u = np.array(lcg(n, seeds))[-1]\n",
    "        ## the key is to know that the following X has density proportional of f(x)\n",
    "        x = alpha*(u/(1-u))**(1/L)\n",
    "        g = -x + (alpha-1)*math.log(x) - math.lgamma(alpha)\n",
    "        f = log(4) -alpha + (L+alpha)*log(alpha) + (L-1)*log(x) - math.lgamma(alpha) - 2*log(alpha^L + x^L)\n",
    "        np.array(lcg(n, seeds))[-1]\n",
    "        if (log(rand(1,1)) < g-f)\n",
    "G(i) = x;\n",
    "break\n",
    "        "
   ]
  },
  {
   "cell_type": "markdown",
   "metadata": {},
   "source": [
    "给你所有trip的起点和终点，如何将uber的trip从地理上分成不同的group，\n",
    "从而group之间的trips尽量少，如果你只能sample其中20%的数据点你会怎么sample，\n",
    "不同sample method的区别，如何保证你的模型两年后不做任何改变也还能用？"
   ]
  },
  {
   "cell_type": "code",
   "execution_count": 27,
   "metadata": {
    "collapsed": true
   },
   "outputs": [],
   "source": [
    "import random\n",
    "def random_subset(iterator, K ):\n",
    "    result = []\n",
    "    N = 0\n",
    "\n",
    "    for item in iterator:\n",
    "        N += 1\n",
    "        if len( result ) < K:\n",
    "            result.append( item )\n",
    "        else:\n",
    "            s = int(random.random() * N)\n",
    "            if s < K:\n",
    "                result[ s ] = item\n",
    "\n",
    "    return result"
   ]
  },
  {
   "cell_type": "code",
   "execution_count": 28,
   "metadata": {},
   "outputs": [
    {
     "data": {
      "text/plain": [
       "[1, 5]"
      ]
     },
     "execution_count": 28,
     "metadata": {},
     "output_type": "execute_result"
    }
   ],
   "source": [
    "random_subset(samples, 2)"
   ]
  },
  {
   "cell_type": "markdown",
   "metadata": {
    "collapsed": true
   },
   "source": [
    "在高维空间采样的时候，接受拒绝算法基本上是不可用的，见高维灾难。\n",
    "简而言之就是，用简单的接受/拒绝算法，采样所需的样本量（或者说接受的概率）随空间维数增加而指数增长。\n",
    "Metropolis-Hasting 主要解决的就是这个问题，使用一个会收敛到目标分布的马尔科夫链来进行采样。\n",
    "你在题目里说的没有错，接受-拒绝算法可以视作一个每一步都独立取样的 Metropolis，\n",
    "但是这也就是高维灾难的根源：在高维空间里，分布密度往往是稀疏的，意味着每一步独立取样的话，\n",
    "绝大多数样本将被拒绝；假如使用马尔科夫链的话，则因为“跳跃分布”（也就是你所说的g(y|x)）通常是以当前态为中心，\n",
    "得到相同数量的接受样本需要的采样量要低得多。当然，如果是多变量的联合分布（也可以视为分布复杂的超高维度取样），\n",
    "即使用 Metropolis 也会显得不够（因为超高维情况下跳跃分布很难选取，而且很多时候联合分布用解析表示非常困难，只能用一大堆条件分布来表达），\n",
    "这时候就应该选用 Gibbs Sampling，简而言之就是把 Metropolis-Hasting 中的一大步分解为 N 小步\n",
    "（其中N可以是维度数，也可以是多变量中的变量数），\n",
    "每一小步只根据上一大步的状态和这一大步已经选取了的维度/变量，使用维度/变量间的条件概率采样一个新变量/维度。"
   ]
  },
  {
   "cell_type": "markdown",
   "metadata": {},
   "source": [
    "在Metropolis-Hastings里面提到，遇到多元分布的时候，选取初始值非常困难，\n",
    "在每一个维度上都必须恰到好处。而Gibbs Sampling则是专门解决此类问题的算法，它对每一维进行同时的单独算法迭代。"
   ]
  },
  {
   "cell_type": "code",
   "execution_count": null,
   "metadata": {
    "collapsed": true
   },
   "outputs": [],
   "source": []
  }
 ],
 "metadata": {
  "kernelspec": {
   "display_name": "Python 3",
   "language": "python",
   "name": "python3"
  },
  "language_info": {
   "codemirror_mode": {
    "name": "ipython",
    "version": 3
   },
   "file_extension": ".py",
   "mimetype": "text/x-python",
   "name": "python",
   "nbconvert_exporter": "python",
   "pygments_lexer": "ipython3",
   "version": "3.6.1"
  }
 },
 "nbformat": 4,
 "nbformat_minor": 1
}
