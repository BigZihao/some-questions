{
 "cells": [
  {
   "cell_type": "markdown",
   "metadata": {},
   "source": [
    "linear congruential generators (LCG’s)\n",
    "\n",
    "$$x_{n+1} ≡ (a + bx_n )mod m$$"
   ]
  },
  {
   "cell_type": "code",
   "execution_count": 35,
   "metadata": {
    "collapsed": true
   },
   "outputs": [],
   "source": [
    "def lcg(n, seed):\n",
    "    b = 1140671485\n",
    "    a = 128201163\n",
    "    m = 2**24\n",
    "    rand = [seed]\n",
    "    i=1\n",
    "    while i<n:\n",
    "        rand.append((a + b*rand[-1]) % m)\n",
    "        i+=1\n",
    "    return [ra/m for ra in rand] ## to return [0,1] uniform distribution"
   ]
  },
  {
   "cell_type": "markdown",
   "metadata": {},
   "source": [
    " This random number generator can be shown to have period 2^24"
   ]
  },
  {
   "cell_type": "code",
   "execution_count": 36,
   "metadata": {
    "collapsed": true
   },
   "outputs": [],
   "source": [
    "import numpy as np\n",
    "import pandas as pd\n",
    "import matplotlib\n",
    "%matplotlib inline"
   ]
  },
  {
   "cell_type": "code",
   "execution_count": 37,
   "metadata": {
    "collapsed": true
   },
   "outputs": [],
   "source": [
    "randomnumber = np.array(lcg(100, 226))"
   ]
  },
  {
   "cell_type": "code",
   "execution_count": 11,
   "metadata": {},
   "outputs": [
    {
     "data": {
      "text/plain": [
       "100"
      ]
     },
     "execution_count": 11,
     "metadata": {},
     "output_type": "execute_result"
    }
   ],
   "source": [
    "len(randomnumber)"
   ]
  },
  {
   "cell_type": "code",
   "execution_count": 12,
   "metadata": {},
   "outputs": [
    {
     "data": {
      "text/plain": [
       "<matplotlib.axes._subplots.AxesSubplot at 0x106fff9b0>"
      ]
     },
     "execution_count": 12,
     "metadata": {},
     "output_type": "execute_result"
    },
    {
     "data": {
      "image/png": "[encoded data removed]",
      "text/plain": [
       "<matplotlib.figure.Figure at 0x106fff080>"
      ]
     },
     "metadata": {},
     "output_type": "display_data"
    }
   ],
   "source": [
    "pd.DataFrame(randomnumber).plot.hist(alpha=0.5)"
   ]
  },
  {
   "cell_type": "markdown",
   "metadata": {},
   "source": [
    "Yeah, it looks like uniform distribution, but how do you know for sure that it is unformaly distributed.\n",
    "First based on law of large numbers"
   ]
  },
  {
   "cell_type": "code",
   "execution_count": 13,
   "metadata": {},
   "outputs": [
    {
     "data": {
      "text/plain": [
       "0.007005952596664422"
      ]
     },
     "execution_count": 13,
     "metadata": {},
     "output_type": "execute_result"
    }
   ],
   "source": [
    "0.5 - 1/100*sum(randomnumber)"
   ]
  },
  {
   "cell_type": "code",
   "execution_count": 14,
   "metadata": {},
   "outputs": [
    {
     "data": {
      "text/plain": [
       "0.028867513459481287"
      ]
     },
     "execution_count": 14,
     "metadata": {},
     "output_type": "execute_result"
    }
   ],
   "source": [
    "import math\n",
    "math.sqrt(1/12/100)"
   ]
  },
  {
   "cell_type": "code",
   "execution_count": 15,
   "metadata": {},
   "outputs": [
    {
     "data": {
      "text/plain": [
       "0.24269331705683772"
      ]
     },
     "execution_count": 15,
     "metadata": {},
     "output_type": "execute_result"
    }
   ],
   "source": [
    "(0.5 - 1/100*sum(randomnumber))/math.sqrt(1/12/100)"
   ]
  },
  {
   "cell_type": "markdown",
   "metadata": {},
   "source": [
    "cannot reject the null hypothesis that it is iid random numbers"
   ]
  },
  {
   "cell_type": "markdown",
   "metadata": {},
   "source": [
    "– All MCG’s and LCG’s exhibit some positive autocorrelation. For example, in an\n",
    "MCG, an extremely small value is always followed by another fairly small value.\n",
    "For example in the MCG given above (b = 16807, m = 231 − 1), the frequency of\n",
    "values less than 10000 is 104/2\n",
    "31 ≈ 4.7×10−6\n",
    ", but such a value is always followed\n",
    "by a value less than 104 × 16807/2\n",
    "31 ≈ 0.08 (on the (0, 1) scale)"
   ]
  },
  {
   "cell_type": "markdown",
   "metadata": {},
   "source": [
    "Reservoir sampling is a family of randomized algorithms for randomly choosing a sample of k items from a list S containing n items, where n is either a very large or unknown number. Typically n is large enough that the list doesn't fit into main memory.\n"
   ]
  },
  {
   "cell_type": "code",
   "execution_count": null,
   "metadata": {
    "collapsed": true
   },
   "outputs": [],
   "source": [
    "def reservoirsampling(K, N):\n",
    "    data = \n",
    "    "
   ]
  },
  {
   "cell_type": "markdown",
   "metadata": {},
   "source": [
    "From (0, 1) uniform distribution to all other distribution"
   ]
  },
  {
   "cell_type": "code",
   "execution_count": 16,
   "metadata": {
    "collapsed": true
   },
   "outputs": [],
   "source": [
    "import math"
   ]
  },
  {
   "cell_type": "code",
   "execution_count": 17,
   "metadata": {
    "collapsed": true
   },
   "outputs": [],
   "source": [
    "#exponential:\n",
    "#F−1(U) = −1/λ log(1 − U).\n",
    "\n",
    "randomexp = pd.DataFrame([-10*math.log(ra) for ra in randomnumber])"
   ]
  },
  {
   "cell_type": "code",
   "execution_count": 18,
   "metadata": {},
   "outputs": [
    {
     "data": {
      "text/plain": [
       "<matplotlib.axes._subplots.AxesSubplot at 0x1070f2a58>"
      ]
     },
     "execution_count": 18,
     "metadata": {},
     "output_type": "execute_result"
    },
    {
     "data": {
      "image/png": "[encoded data removed]",
      "text/plain": [
       "<matplotlib.figure.Figure at 0x1070f9908>"
      ]
     },
     "metadata": {},
     "output_type": "display_data"
    }
   ],
   "source": [
    "randomexp.plot.hist(alpha=0.5)"
   ]
  },
  {
   "cell_type": "code",
   "execution_count": 19,
   "metadata": {},
   "outputs": [
    {
     "data": {
      "text/plain": [
       "0.18991393493393144"
      ]
     },
     "execution_count": 19,
     "metadata": {},
     "output_type": "execute_result"
    }
   ],
   "source": [
    "np.random.exponential(scale=1, size=None)"
   ]
  },
  {
   "cell_type": "code",
   "execution_count": 20,
   "metadata": {
    "collapsed": true
   },
   "outputs": [],
   "source": [
    "randomexpcompare = pd.DataFrame(np.random.exponential(scale=1, size=100))"
   ]
  },
  {
   "cell_type": "code",
   "execution_count": 21,
   "metadata": {},
   "outputs": [
    {
     "data": {
      "text/plain": [
       "<matplotlib.axes._subplots.AxesSubplot at 0x10717cda0>"
      ]
     },
     "execution_count": 21,
     "metadata": {},
     "output_type": "execute_result"
    },
    {
     "data": {
      "image/png": "[encoded data removed]",
      "text/plain": [
       "<matplotlib.figure.Figure at 0x10735c160>"
      ]
     },
     "metadata": {},
     "output_type": "display_data"
    }
   ],
   "source": [
    "randomexpcompare.plot.hist(alpha=0.5)"
   ]
  },
  {
   "cell_type": "code",
   "execution_count": 22,
   "metadata": {
    "collapsed": true
   },
   "outputs": [],
   "source": [
    "randomlogit = pd.DataFrame([math.log(ra/(1-ra)) for ra in randomnumber])"
   ]
  },
  {
   "cell_type": "code",
   "execution_count": 23,
   "metadata": {},
   "outputs": [
    {
     "data": {
      "text/plain": [
       "<matplotlib.axes._subplots.AxesSubplot at 0x10737c7b8>"
      ]
     },
     "execution_count": 23,
     "metadata": {},
     "output_type": "execute_result"
    },
    {
     "data": {
      "image/png": "[encoded data removed]",
      "text/plain": [
       "<matplotlib.figure.Figure at 0x10743fc88>"
      ]
     },
     "metadata": {},
     "output_type": "display_data"
    }
   ],
   "source": [
    "randomlogit.plot.hist(alpha=0.5)"
   ]
  },
  {
   "cell_type": "code",
   "execution_count": 24,
   "metadata": {},
   "outputs": [
    {
     "data": {
      "text/plain": [
       "3.0517578125e-05"
      ]
     },
     "execution_count": 24,
     "metadata": {},
     "output_type": "execute_result"
    }
   ],
   "source": [
    "## rejection sampling, sometimes it is hard to find the inversed CDF\n",
    "float(1/8**5)"
   ]
  },
  {
   "cell_type": "markdown",
   "metadata": {},
   "source": [
    "上来就让你自己写weighted sampling, 不能用existing function。 给两个vector, 一个是要选的数，另一个是相应的weight。 \n",
    "我说根据相应的weight来replicate选择的数，再用一个uniform distribution来随即选index。\n",
    "白人哥哥但是这样会有个问题，我说是阿，如果weight是小数的话就有问题，可以试着把weight vector整体乘一个很大的数，变成整数之类的。。。。\n",
    "\n",
    "第一题可以用rejection sampling的方法\n",
    "假设 samples = [1,2,3,4,5]\n",
    "weights = [0.1,0.1,0.2,0.2,0.4]\n",
    "可以generate一个随机i of vector index (i = 1 to 5 in this case), \n",
    "再generate一个uniform [0,1]之间的随机数 prob，\n",
    "if prob <= weights[i] then output samples[i], else break, jump to next iteration. 1\n",
    "\n",
    "The important things is to bound the whole distribution, which means actually most of you samplea are actually being wasted"
   ]
  },
  {
   "cell_type": "code",
   "execution_count": 25,
   "metadata": {},
   "outputs": [
    {
     "name": "stdout",
     "output_type": "stream",
     "text": [
      "-1, 0, 0, 1, 2, 2, 3, 4, 6, 6, -1, -1, "
     ]
    }
   ],
   "source": [
    "def find_interval(x, partition):\n",
    "    for i in range(len(partition)):\n",
    "        if x < partition[i]:\n",
    "            return i-1\n",
    "    return -1\n",
    " \n",
    "Interval = [0, 3, 5, 7.8, 9, 12, 13.8, 16]\n",
    "for x in [-1.3, 0, 0.1, 3.2, 5, 6.2, 7.9, 10.8, 13.9, 15, 16, 16.5]:\n",
    "    print(find_interval(x, Interval), end=\", \")"
   ]
  },
  {
   "cell_type": "code",
   "execution_count": 85,
   "metadata": {},
   "outputs": [
    {
     "name": "stdout",
     "output_type": "stream",
     "text": [
      "--- 0.4208383560180664 seconds ---\n",
      "--- 0.003000497817993164 seconds ---\n",
      "OrderedDict([(1, 0.04), (2, 0.1), (3, 0.08), (4, 0.22), (5, 0.17), (6, 0.39)])\n",
      "OrderedDict([(1, 0.04), (2, 0.1), (3, 0.12), (4, 0.1), (5, 0.27), (6, 0.37)])\n"
     ]
    }
   ],
   "source": [
    "import time\n",
    "\n",
    "## rejection sampling\n",
    "def weighted_sample(samples, weights, N):\n",
    "    start_time = time.time()\n",
    "    res=[]\n",
    "    seeds=226\n",
    "    k=2\n",
    "    while len(res)<N:\n",
    "        index = np.array(lcg(k, seeds))[-1]*len(samples)\n",
    "        for i in range(len(samples)):\n",
    "            if index<i+1:\n",
    "                select = samples[i]\n",
    "                break     \n",
    "        k+=1\n",
    "        prob = np.array(lcg(k, seeds*2))[-1]\n",
    "        ## reject sampling\n",
    "        if prob<=weights[i]:\n",
    "            res.append(samples[i])\n",
    "        k+=1\n",
    "    print(\"--- %s seconds ---\" % (time.time() - start_time))\n",
    "    return res\n",
    "\n",
    "## the inversion F method\n",
    "def weighted_sample2(samples, weights, N):\n",
    "    start_time = time.time()\n",
    "    res = []\n",
    "    k=2\n",
    "    seeds=226\n",
    "    weightcum = np.cumsum(weights)\n",
    "    while len(res)<N:\n",
    "        k+=1\n",
    "        uniform_sample = np.array(lcg(k, seeds))[-1]\n",
    "        for i in range(len(weights)):\n",
    "            if uniform_sample<weightcum[i]:\n",
    "                res.append(samples[i])\n",
    "                break\n",
    "    print(\"--- %s seconds ---\" % (time.time() - start_time))\n",
    "    return res\n",
    "\n",
    "samples = [1,2,3,4,5,6]\n",
    "weights = [0.05,0.1,0.1,0.15,0.2,0.4]\n",
    "\n",
    "import collections\n",
    "def countfrequency(samples):\n",
    "    N = len(samples)\n",
    "    dic = {}\n",
    "    for i in range(N):\n",
    "        dic[samples[i]] = dic.get(samples[i],0) + 1\n",
    "    for k, v in dic.items():\n",
    "        dic[k] = round(dic[k]/N,2)\n",
    "    return collections.OrderedDict(sorted(dic.items()))\n",
    "\n",
    "\n",
    "N=100\n",
    "method1 = weighted_sample(samples, weights, N)\n",
    "method2 = weighted_sample2(samples, weights, N)\n",
    "## the F-1 is much faster than the rejection method\n",
    "\n",
    "\n",
    "print(countfrequency(method1))\n",
    "print(countfrequency(method2))"
   ]
  },
  {
   "cell_type": "markdown",
   "metadata": {},
   "source": [
    "Another rejection sampling\n",
    "Rejection sampling is typically used to generate draws from complicated distributions that\n",
    "arise in specialized problems (these distributions are too particular to have names). Among\n",
    "the classical distributions, most can be simulated using a deterministic operation on a uniform\n",
    "draw. The gamma distribution is more challenging, and cannot be handled in this way.\n",
    "Therefore draws from the gamma distribution are usually generated via rejection sampling."
   ]
  },
  {
   "cell_type": "code",
   "execution_count": 83,
   "metadata": {},
   "outputs": [
    {
     "ename": "SyntaxError",
     "evalue": "invalid syntax (<ipython-input-83-3c655fa7591e>, line 16)",
     "output_type": "error",
     "traceback": [
      "\u001b[1;36m  File \u001b[1;32m\"<ipython-input-83-3c655fa7591e>\"\u001b[1;36m, line \u001b[1;32m16\u001b[0m\n\u001b[1;33m    if (log(rand(1,1)) < g-f)\u001b[0m\n\u001b[1;37m                             ^\u001b[0m\n\u001b[1;31mSyntaxError\u001b[0m\u001b[1;31m:\u001b[0m invalid syntax\n"
     ]
    }
   ],
   "source": [
    "alpha = 3\n",
    "beta = 1\n",
    "L = math.sqrt(2*alpha - 1)\n",
    "n = 0\n",
    "N = 1000\n",
    "seed= 226\n",
    "for i in range(len(N)):\n",
    "    while True:\n",
    "        n+=1\n",
    "        u = np.array(lcg(n, seeds))[-1]\n",
    "        ## the key is to know that the following X has density proportional of f(x)\n",
    "        x = alpha*(u/(1-u))**(1/L)\n",
    "        g = -x + (alpha-1)*math.log(x) - math.lgamma(alpha)\n",
    "        f = log(4) -alpha + (L+alpha)*log(alpha) + (L-1)*log(x) - math.lgamma(alpha) - 2*log(alpha^L + x^L)\n",
    "        np.array(lcg(n, seeds))[-1]\n",
    "        if (log(rand(1,1)) < g-f)\n",
    "G(i) = x;\n",
    "break\n",
    "        "
   ]
  },
  {
   "cell_type": "markdown",
   "metadata": {},
   "source": [
    "Since Rejection sampling is so slow, throwing x away seems wasteful. then what about write the integral **as an expectation under** Q\n",
    "\n",
    "$$ \\int f(x)P(x) dx = \\int f(x)\\dfrac{P(x)}{Q(x) }dx = (1/S)*\\sum(f(x)*\\dfrac{P(x)}{Q(x)}),  x \\subset Q(x)$$\n",
    "\n",
    "here, $p(x)/Q(x)$ is the importance of the sample, it's like softly rejecting, with some importance calculated as weights. This works when we don't care about the samples itself but focus on the expectation\n",
    "\n",
    "the choice of Q(X) should covers the range of the P(X), "
   ]
  },
  {
   "cell_type": "markdown",
   "metadata": {},
   "source": [
    "给你所有trip的起点和终点，如何将uber的trip从地理上分成不同的group，\n",
    "从而group之间的trips尽量少，如果你只能sample其中20%的数据点你会怎么sample，\n",
    "不同sample method的区别，如何保证你的模型两年后不做任何改变也还能用？"
   ]
  },
  {
   "cell_type": "code",
   "execution_count": 27,
   "metadata": {
    "collapsed": true
   },
   "outputs": [],
   "source": [
    "import random\n",
    "def random_subset(iterator, K ):\n",
    "    result = []\n",
    "    N = 0\n",
    "\n",
    "    for item in iterator:\n",
    "        N += 1\n",
    "        if len( result ) < K:\n",
    "            result.append( item )\n",
    "        else:\n",
    "            s = int(random.random() * N)\n",
    "            if s < K:\n",
    "                result[ s ] = item\n",
    "\n",
    "    return result"
   ]
  },
  {
   "cell_type": "code",
   "execution_count": 28,
   "metadata": {},
   "outputs": [
    {
     "data": {
      "text/plain": [
       "[1, 5]"
      ]
     },
     "execution_count": 28,
     "metadata": {},
     "output_type": "execute_result"
    }
   ],
   "source": [
    "random_subset(samples, 2)"
   ]
  },
  {
   "cell_type": "markdown",
   "metadata": {},
   "source": [
    "why need sampling\n",
    "\n",
    "applied to bayesian any expection, new quantity\n",
    "more exaple E-step statistics in EM, boltzman machine \n"
   ]
  },
  {
   "cell_type": "markdown",
   "metadata": {},
   "source": [
    "Monto Carlo\n",
    "\n",
    "estimator is unbiased\n",
    "varaince shrinks with 1/sqrt(s)"
   ]
  },
  {
   "cell_type": "markdown",
   "metadata": {
    "collapsed": true
   },
   "source": [
    "### rejection > importance sampling > Metropolis-Hastings > gibbs sampling\n",
    "\n",
    "\n",
    "在高维空间采样的时候，接受拒绝算法基本上是不可用的，见高维灾难。\n",
    "简而言之就是，用简单的接受/拒绝算法，采样所需的样本量（或者说接受的概率）随空间维数增加而指数增长。\n",
    "Metropolis-Hasting 主要解决的就是这个问题，使用一个会收敛到目标分布的马尔科夫链来进行采样。\n",
    "你在题目里说的没有错，接受-拒绝算法可以视作一个每一步都独立取样的 Metropolis，\n",
    "但是这也就是高维灾难的根源：在高维空间里，分布密度往往是稀疏的，意味着每一步独立取样的话，\n",
    "绝大多数样本将被拒绝；假如使用马尔科夫链的话，则因为“跳跃分布”（也就是你所说的g(y|x)）通常是以当前态为中心，\n",
    "得到相同数量的接受样本需要的采样量要低得多。当然，如果是多变量的联合分布（也可以视为分布复杂的超高维度取样），\n",
    "即使用 Metropolis 也会显得不够（因为超高维情况下跳跃分布很难选取，而且很多时候联合分布用解析表示非常困难，只能用一大堆条件分布来表达），\n",
    "这时候就应该选用 Gibbs Sampling，简而言之就是把 Metropolis-Hasting 中的一大步分解为 N 小步\n",
    "（其中N可以是维度数，也可以是多变量中的变量数），\n",
    "每一小步只根据上一大步的状态和这一大步已经选取了的维度/变量，使用维度/变量间的条件概率采样一个新变量/维度。"
   ]
  },
  {
   "cell_type": "markdown",
   "metadata": {},
   "source": [
    "\n",
    "\n",
    "Metropolis-Hastings algorithm is another sampling algorithm to sample from high dimensional, difficult to sample directly (due to intractable integrals) distributions or functions.\n",
    "\n",
    "It’s an MCMC algorithm, just like Gibbs Sampling. It’s MC (Markov Chain) because to get the next sample, one only need to consider the current sample. It’s MC (Monte Carlo) because it generates random sample which we could use to compute integrals or numerical results, for example in the probability distribution setting, the integrals we may want to compute are the expected value, mode, median, etc.\n",
    "\n",
    "在Metropolis-Hastings里面提到，遇到多元分布的时候，选取初始值非常困难，\n",
    "在每一个维度上都必须恰到好处。而Gibbs Sampling则是专门解决此类问题的算法，它对每一维进行同时的单独算法迭代。\n",
    "\n",
    "This is because Gibbs Sampling is derived from Metropolis-Hastings, with special case, i.e. the acceptance probability of Gibbs Sampling is 1, so it will always accept the sample drawn from the conditional distributions."
   ]
  },
  {
   "cell_type": "markdown",
   "metadata": {},
   "source": [
    "##let's do a metropolis-hasting sampling\n",
    "\n",
    "it construct a **biased random walk** that explores target dist P(x)\n",
    "MCMC gives apporximately correlated samples from P(X), there will be some buring steps since the initial points are random. It's still unbiased estimator though samples are correlated\n",
    "\n",
    "MCMC has something to do with the eigenvector as well\n",
    "\n",
    "P is an **invariance distribution** of T because the trasiction distribution of P(TP=P) has P as eigen vector of T with eigen value of 1. for any vector a = (0,0,1), $T^{100}*a=P$. This is a transiction matrix that allow me to sample from P\n",
    "\n",
    "then each step $x_j = T(x_{j+1})$, keep track of all the x_j, then we will have a chain of samples. \n",
    "\n",
    "There are requirement for T: ergodictive requries:\n",
    "$T^K(x^{'}<-x)>0$ for all $x^{'}$, $P(x^{'})>0$ for some K"
   ]
  },
  {
   "cell_type": "markdown",
   "metadata": {},
   "source": [
    "So the key right now is that we have a vector space, we want to construct a distribution that has this eigen vector. How to get this distribution?\n",
    "\n",
    "**Detailed Balance** can help since it implies the invariant condition\n",
    "\n",
    "Transition Operator\n",
    "1. propose a move from the current state $Q(x^{'};x)$, e.g $N(x, \\sigma^2)$, **this proposal depend on x from current state**\n",
    "2. Accept with probability $min(1, \\dfrac{P(x^{'})Q(x;x^{'})}{P(x)Q(x^{'};x)})$\n",
    "3. Otherwise next state in chain is a copy of current state"
   ]
  },
  {
   "cell_type": "code",
   "execution_count": 33,
   "metadata": {
    "collapsed": true
   },
   "outputs": [],
   "source": [
    "import numpy as np\n",
    "import seaborn as sns\n",
    "\n",
    "def p_x_given_y(y, mus, sigmas):\n",
    "    mu = mus[0] + sigmas[1,0]/sigmas[0,0]*(y - mus[1])\n",
    "    sigma = sigmas[0,0] - sigmas[1,0]/sigmas[1,1]*sigmas[1,0]\n",
    "    return np.random.normal(mu, sigma)\n",
    "\n",
    "def p_y_given_x(x, mus, sigmas):\n",
    "    mu = mus[1] + sigmas[0,1]/sigmas[1,1]*(x - mus[0])"
   ]
  },
  {
   "cell_type": "markdown",
   "metadata": {
    "collapsed": true
   },
   "source": [
    "Reservior Sampling\n",
    "\n",
    "for streaming data, not knowing size or cannot fit into memory. \n",
    "For linked list\n"
   ]
  },
  {
   "cell_type": "code",
   "execution_count": 19,
   "metadata": {},
   "outputs": [],
   "source": [
    "import random\n",
    "def reservoir_sampling(items, k):\n",
    "    \"\"\"\n",
    "    Reservoir sampling for large sample space or unknow end list\n",
    "    \"\"\"\n",
    "    sample = items[0:k]\n",
    "    for i in range(k,len(items)):\n",
    "        j = random.randrange(1, i+1)\n",
    "        if j <= k:\n",
    "            sample[j-1] = items[i]\n",
    "    return sample"
   ]
  },
  {
   "cell_type": "code",
   "execution_count": 20,
   "metadata": {},
   "outputs": [],
   "source": [
    "a = [i for i in range(20)]"
   ]
  },
  {
   "cell_type": "code",
   "execution_count": 29,
   "metadata": {},
   "outputs": [
    {
     "data": {
      "text/plain": [
       "[0, 1, 9, 3, 13]"
      ]
     },
     "execution_count": 29,
     "metadata": {},
     "output_type": "execute_result"
    }
   ],
   "source": [
    "reservoir_sampling(a,5)"
   ]
  },
  {
   "cell_type": "markdown",
   "metadata": {},
   "source": [
    "MCMC"
   ]
  },
  {
   "cell_type": "code",
   "execution_count": 30,
   "metadata": {
    "collapsed": true
   },
   "outputs": [],
   "source": [
    "%matplotlib inline\n",
    "\n",
    "import numpy as np\n",
    "import scipy as sp\n",
    "import pandas as pd\n",
    "import matplotlib.pyplot as plt\n",
    "import seaborn as sns\n",
    "\n",
    "from scipy.stats import norm\n",
    "\n",
    "sns.set_style('white')\n",
    "sns.set_context('talk')\n",
    "\n",
    "np.random.seed(123)"
   ]
  },
  {
   "cell_type": "code",
   "execution_count": 31,
   "metadata": {
    "scrolled": true
   },
   "outputs": [
    {
     "data": {
      "image/png": "[encoded data removed]",
      "text/plain": [
       "<matplotlib.figure.Figure at 0x3a7b898>"
      ]
     },
     "metadata": {},
     "output_type": "display_data"
    }
   ],
   "source": [
    "data = np.random.randn(20)\n",
    "ax = plt.subplot()\n",
    "sns.distplot(data, kde=False, ax=ax)\n",
    "_ = ax.set(title='Histogram of observed data', xlabel='x', ylabel='# observations');"
   ]
  },
  {
   "cell_type": "code",
   "execution_count": 32,
   "metadata": {},
   "outputs": [
    {
     "data": {
      "image/png": "[encoded data removed]",
      "text/plain": [
       "<matplotlib.figure.Figure at 0x3a7b358>"
      ]
     },
     "metadata": {},
     "output_type": "display_data"
    }
   ],
   "source": [
    "def calc_posterior_analytical(data, x, mu_0, sigma_0):\n",
    "    sigma = 1.\n",
    "    n = len(data)\n",
    "    mu_post = (mu_0 / sigma_0**2 + data.sum() / sigma**2) / (1. / sigma_0**2 + n / sigma**2)\n",
    "    sigma_post = (1. / sigma_0**2 + n / sigma**2)**-1\n",
    "    return norm(mu_post, np.sqrt(sigma_post)).pdf(x)\n",
    "\n",
    "ax = plt.subplot()\n",
    "x = np.linspace(-1, 1, 500)\n",
    "posterior_analytical = calc_posterior_analytical(data, x, 0., 1.)\n",
    "ax.plot(x, posterior_analytical)\n",
    "ax.set(xlabel='mu', ylabel='belief', title='Analytical posterior');\n",
    "sns.despine()"
   ]
  },
  {
   "cell_type": "markdown",
   "metadata": {},
   "source": [
    "### Gibbs sampling"
   ]
  },
  {
   "cell_type": "code",
   "execution_count": null,
   "metadata": {
    "collapsed": true
   },
   "outputs": [],
   "source": [
    "\n"
   ]
  }
 ],
 "metadata": {
  "kernelspec": {
   "display_name": "Python 3",
   "language": "python",
   "name": "python3"
  },
  "language_info": {
   "codemirror_mode": {
    "name": "ipython",
    "version": 3
   },
   "file_extension": ".py",
   "mimetype": "text/x-python",
   "name": "python",
   "nbconvert_exporter": "python",
   "pygments_lexer": "ipython3",
   "version": "3.6.1"
  }
 },
 "nbformat": 4,
 "nbformat_minor": 1
}
