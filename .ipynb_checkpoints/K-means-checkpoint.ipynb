{
 "cells": [
  {
   "cell_type": "markdown",
   "metadata": {},
   "source": [
    "The problem is computationally difficult(NP-hard); however, there are heuristic algorithm that are commonly employed and converge quickly to a local optimum.\n",
    "\n",
    "These are usually similar to the expectation-maximization algorithm for mixtures of Gaussian distributions via an iterative refinement approach employed by both k-means and Gaussian Mixture Modeling. Additionally, they both use cluster centers to model the data; however, k-means clustering tends to find clusters of comparable spatial extent, while the expectation-maximization mechanism allows clusters to have different shapes.\n"
   ]
  },
  {
   "cell_type": "markdown",
   "metadata": {},
   "source": [
    "Given a set of observations (x1, x2, …, xn), where each observation is a d-dimensional real vector, k-means clustering aims to partition the n observations into k (≤ n) sets S = {S1, S2, …, Sk} so as to minimize the within-cluster sum of squares (WCSS) (i.e. variance). Formally, the objective is to find:\n",
    "\n",
    "\\begin{equation*}\n",
    "argmin \\sum_{i=1}^{k}\\sum_{x in S_i}\\norm [2]{x - u_i}^2\n",
    "\\end{equation*}\n",
    "\n",
    "\n"
   ]
  },
  {
   "cell_type": "markdown",
   "metadata": {},
   "source": [
    "As it is a heuristic algorithm, there is no guarantee that it will converge to the global optimum, and the result may depend on the initial clusters. As the algorithm is usually very fast, it is common to run it multiple times with different starting conditions. However, in the worst case, k-means can be very slow to converge: in particular it has been shown that there exist certain point sets, even in 2 dimensions, on which k-means takes exponential time, that is 2Ω(n), to converge.[12] These point sets do not seem to arise in practice: this is corroborated by the fact that the smoothed running time of k-means is polynomial.[13]\n",
    "\n",
    "The \"assignment\" step is also referred to as expectation step, the \"update step\" as maximization step, making this algorithm a variant of the generalized expectation-maximization algorithm."
   ]
  },
  {
   "cell_type": "markdown",
   "metadata": {},
   "source": [
    "If k and d (the dimension) are fixed, the problem can be exactly solved in time $${\\displaystyle O(n^{dk+1})}$$, where n is the number of entities to be clustered[19]\n",
    "Thus, a variety of heuristic algorithms such as Lloyd's algorithm given above are generally used.\n",
    "\n",
    "The running time of Lloyd's algorithm (and most variants) is O(nkdi),[20][21] where n is the number of d-dimensional vectors, k the number of clusters and i the number of iterations needed until convergence. \n",
    "\n",
    "Lloyd's algorithm is the standard approach for this problem, However, it spends a lot of processing time computing the distances between each of the k cluster centers and the n data points. Since points usually stay in the same clusters after a few iterations, much of this work is unnecessary, making the naive implementation very inefficient. Some implementations use caching and the triangle inequality in order to create bounds and accelerate Lloyd's algorithm."
   ]
  },
  {
   "cell_type": "markdown",
   "metadata": {},
   "source": [
    "Three key features of k-means which make it efficient are often regarded as its biggest drawbacks:\n",
    "\n",
    "1. Euclidean distance is used as a metric and variance is used as a measure of cluster scatter. So it tends to create equal size clusters. while The Gaussian models used by the Expectation-maximization algorithm (which can be seen as a generalization of k-means) are more flexible here by having both variances and covariances. The EM result is thus able to accommodate clusters of variable size much better than k-means as well as correlated clusters (not in this example).and since it depends on euclidean distance, **it dosen't apply to non-numerical data**. Since it depends on euclidean distance, it's not a good metric in high dimensions\n",
    "\n",
    "\n",
    "[O]ur intuitions, which come from a three-dimensional world, often do not apply in high-dimensional ones. In high dimensions, most of the mass of a multivariate Gaussian distribution is not near the mean, but in an increasingly distant “shell” around it; and most of the volume of a high-dimensional orange is in the skin, not the pulp. If a constant number of examples is distributed uniformly in a high-dimensional hypercube, beyond some dimensionality most examples are closer to a face of the hypercube than to their nearest neighbor. And if we approximate a hypersphere by inscribing it in a hypercube,\n",
    ". It is the same situation happened in Nearest Neighbor. How to solve it?\n",
    "\n",
    "first, check the effective dimensions, do a PCA and see how the eigenvalue drops. \n",
    "second, Thus, for a given problem with a fixed (high) value for the dimensionality d, it may be preferable to use lower values of k. This means that the L1 distance metric (Manhattan distance metric) is the most preferable for high dimensional applications, followed by the Euclidean metric (L2). ...\n",
    "\n",
    "It's like the kNN balls are too sparse to be helpful at probing a smooth hyperplane. With higher dimensions they feel increasingly more lonely.\n",
    "\n",
    "On the other hand, methods like SVM have a global view and do much better.\n",
    "\n",
    "2. euclidean distance defined similairy has assumption that clusters **are spatially grouped or spherical, iid guassian with same variance. it has similar variance at all dimensions, and it tends to cluster that all clusters have similar number of points**\n",
    "\n",
    "3. number of clusters k is an input, cross validation to check reasonable right k is important.\n",
    "\n",
    "4. convergence to a local minimum may produce counterintuitive results\n",
    "\n",
    "5. no prior informatoin, bad for unbalanced data\n",
    "\n",
    "6. it is also sensetive to scale, unit measurement. Sometimes, non-linear scaling or transformation might also need to be applied. \n",
    "\n",
    "\n",
    "\n"
   ]
  },
  {
   "cell_type": "markdown",
   "metadata": {},
   "source": [
    "K-means other application"
   ]
  },
  {
   "cell_type": "markdown",
   "metadata": {},
   "source": [
    "Relationship with other ML algorithm\n",
    "\n",
    "1. Gaussian mixture model and EM algorithm\n",
    "\n",
    "the inherint assumption of Kmeans is that cluster is a sperical distributed. in reality, gaussian distribution is more common.\n",
    "\n",
    "In kmeans, the prior distribution assumption is that all cluster has the similar number of samples\n",
    "\n",
    "Kmeans use euclidean distance to measure the similarity, but in GMM, it is measured using posterior probability, covariance matrix can allow us to give priority to different dimension\n",
    "\n",
    "\n",
    "Mixture of Gaussians\n",
    "在\"Dempster, A. P., N. M. Laird, and D. B. Rubin. \"Maximum Likelihood from Incomplete Data via the EM Algorithm.\" 1977\"，作者提出了著名的EM算法（Expectation-Maximization）。在EM的应用部分，作者介绍了利用EM算法来求解混合高斯模型（GMM，Gaussian Mixture Model）的参数。 \n",
    "\n",
    "\n",
    "在GMM中，GMM 的概率密度函数由 K 个 Gaussian 分布线性组成，如下。因此，利用ＧＭＭ来聚类，本质就是对数据集用ＧＭＭ拟合，并估计参数。求出的K个Gaussian就对应着K个类别。\n",
    "\n",
    "\n",
    "以下简要介绍利用ＥＭ算法估计GMM参数的过程：\n",
    "1.对于N个数据点，K个Gaussian分布，其联合概率密度可以表示为 \n",
    "\n",
    "\n",
    "2.对于数据x_{i}，它属于第k个类别的概率为\n",
    "\n",
    "\n",
    "3.利用最大似然估计，可以得到每个Gaussian的参数为。其中N_{k}=\\sum_{i=1}^{N}{\\gamma (i,k)} ，并且\\pi _{k}=N_{k}/N\n",
    "\n",
    "4.重复步骤2~3，直到似然函数的值收敛为止\n",
    "\n",
    "\n",
    "M是我一直想深入学习的算法之一，第一次听说是在NLP课中的HMM那一节，为了解决HMM的参数估计问题，使用了EM算法。在之后的MT中的词对齐中也用到了。在Mitchell的书中也提到EM可以用于贝叶斯网络中。\n",
    "\n",
    "http://www.cnblogs.com/jerrylead/archive/2011/04/06/2006936.html\n",
    "\n",
    "\n",
    "2. PCA\n",
    "\n",
    "with high dimension, the point are becoming very far away form each other, so use PCA first then do k-means\n",
    "\n",
    "\n"
   ]
  },
  {
   "cell_type": "code",
   "execution_count": 1,
   "metadata": {},
   "outputs": [
    {
     "data": {
      "image/png": "[encoded data removed]",
      "text/plain": [
       "<matplotlib.figure.Figure at 0x9cecb00>"
      ]
     },
     "metadata": {},
     "output_type": "display_data"
    }
   ],
   "source": [
    "import numpy as np\n",
    "import pandas as pd\n",
    "import numpy as np\n",
    "import matplotlib.pyplot as plt\n",
    "\n",
    "\n",
    "\n",
    "class KMeansClassifier():\n",
    "\t\"this is a k-means classifier\"\n",
    "\tdef __init__(self, k = 3, initCent = 'random', max_iter = 500):\n",
    "\t\tself._k = k\n",
    "\t\tself._initCent = initCent\n",
    "\t\tself._max_iter = max_iter\n",
    "\t\tself._clusterAssment = None\n",
    "\t\tself._labels = None\n",
    "\t\tself._sse = None\n",
    "\n",
    "\tdef _calEDist(self, arrA, arrB):\n",
    "\t\treturn np.math.sqrt(sum(np.power(arrA - arrB, 2)))\n",
    "\n",
    "\tdef _calMDist(self, arrA, arrB):\n",
    "\t\treturn sum(np.abs(arrA - arrB))\n",
    "\n",
    "\tdef _randCent(self, data_X, k):\n",
    "\t\t\"\"\"\n",
    "\t\toutput: k*m matrix of random centroid\n",
    "\t\t\"\"\"\n",
    "\t\tm = data_X.shape[1]\n",
    "\t\tcentroids = np.empty((k, m))\n",
    "\t\tfor j in range(m):\n",
    "\t\t\tminJ = min(data_X[:,j])\n",
    "\t\t\trangeJ = float(max(data_X[:, j] - minJ))\n",
    "\t\t\tcentroids[:, j] = (minJ + rangeJ*np.random.rand(k, 1)).flatten()\n",
    "\t\treturn centroids\n",
    "\n",
    "\tdef loadDataset(self, infile):\n",
    "\t\tdf = []\n",
    "\t\tfileIn = open(infile)  \n",
    "\t\tfor line in fileIn.readlines():  \n",
    "\t\t\tlineArr = line.strip().split()  \n",
    "\t\t\tdf.append([float(lineArr[0]), float(lineArr[1])])\n",
    "\t\tdf = pd.DataFrame(df)\n",
    "\t\treturn np.array(df).astype(np.float)\n",
    "\n",
    "\tdef fit(self, data_X):\n",
    "\t\t\"\"\"\n",
    "\t\tinput n*m matrix\n",
    "\t\t\"\"\"\n",
    "\t\tif not isinstance(data_X, np.ndarray) or isinstance(data_X, np.matrixlib.defmatrix.matrix):\n",
    "\t\t\ttry:\n",
    "\t\t\t\tdata_X = np.asarray(data_X)\n",
    "\t\t\texcept:\n",
    "\t\t\t\traise TypeError(\"numpy.ndarray resuired for data_X\")\n",
    "\n",
    "\t\tn = data_X.shape[0]\n",
    "\t\tself._clusterAssment = np.zeros((n, 2))\n",
    "\t\tif self._initCent == 'random':\n",
    "\t\t\tself._centroids = self._randCent(data_X, self._k)\n",
    "\n",
    "\t\tclusterChanged = True\n",
    "\t\tfor _ in range(self._max_iter):\n",
    "\t\t\tclusterChanged = False\n",
    "\t\t\t# loop over each data point\n",
    "\t\t\tfor i in range(n):\n",
    "\t\t\t\tminDist = np.inf\n",
    "\t\t\t\tminIndex = -1\n",
    "\t\t\t\tfor j in range(self._k):\n",
    "\t\t\t\t\t# loop over each centroid\n",
    "\t\t\t\t\tarrA = self._centroids[j,:]\n",
    "\t\t\t\t\tarrB = data_X[i,:]\n",
    "\t\t\t\t\tdistJI = self._calEDist(arrA, arrB)\n",
    "\t\t\t\t\tif distJI < minDist:\n",
    "\t\t\t\t\t\tminDist = distJI\n",
    "\t\t\t\t\t\tminIndex = j\n",
    "\t\t\t\tif self._clusterAssment[i, 0] != minIndex or self._clusterAssment[i, 1] > minDist**2:\n",
    "\t\t\t\t\tclusterChanged = True\n",
    "\t\t\t\t\tself._clusterAssment[i, :] = minIndex, minDist**2\n",
    "\t\t\tif not clusterChanged:\n",
    "\t\t\t\tbreak\n",
    "\t\t\tfor i in range(self._k):\n",
    "\t\t\t\tindex_all = self._clusterAssment[:, 0]\n",
    "\t\t\t\tvalue = np.nonzero(index_all == i)\n",
    "\t\t\t\tptsInClust = data_X[value[0]]\n",
    "\t\t\t\tself._centroids[i,:] = np.mean(ptsInClust, axis = 0)\n",
    "\n",
    "\t\tself._labels = self._clusterAssment[: , 0]\n",
    "\t\tself._sse = sum(self._clusterAssment[:, 1])\n",
    "\n",
    "\tdef predict(self, X):\n",
    "\t\tif not isinstance(X, np.ndarray):\n",
    "\t\t\ttry:\n",
    "\t\t\t\tX = np.asarray(X)\n",
    "\t\t\texcept:\n",
    "\t\t\t\traise TypeError(\"numpy.ndarray required for X\")\n",
    "\n",
    "\t\tn = X.shape[0]\n",
    "\t\tpreds = np.zeros((n,))\n",
    "\t\tfor i in range(n):\n",
    "\t\t\tminDist = np.inf\n",
    "\t\t\tfor j in range(self._k):\n",
    "\t\t\t\tdistJI = self._calEDist(X[i,:], self._centroids[j,])\n",
    "\t\t\t\tif distJI < minDist:\n",
    "\t\t\t\t\tminDist = distJI\n",
    "\t\t\t\t\tpreds[i] = j\n",
    "\t\treturn preds\n",
    "\n",
    "\n",
    "\n",
    "\n",
    "\n",
    "if __name__==\"__main__\":\n",
    "\tk = 4\n",
    "\tclf = KMeansClassifier(k)\n",
    "\tdata_X = clf.loadDataset(\"C:/Users/zihao.zhang/Desktop/some questions/some-questions/kmenastestdata.txt\")\n",
    "\tclf.fit(data_X)\n",
    "\tcents = clf._centroids\n",
    "\tlabels = clf._labels\n",
    "\tsse = clf._sse\n",
    "\tcolors = ['b','g','r','k','c','m','y','#e24fff','#524C90','#845868']\n",
    "\tfor i in range(k):\n",
    "\t\tindex = np.nonzero(labels==i)[0]\n",
    "\t\tx0 = data_X[index, 0]\n",
    "\t\tx1 = data_X[index, 1]\n",
    "\t\ty_i = i\n",
    "\t\tfor j in range(len(x0)):\n",
    "\t\t\tplt.text(x0[j], x1[j], str(y_i), color=colors[i], \\\n",
    "\t\t\t\t\t\tfontdict={'weight': 'bold', 'size': 6})\n",
    "\t\tplt.scatter(cents[i,0],cents[i,1],marker='x',color=colors[i],\\\n",
    "\t\t\t\t\tlinewidths=7)\n",
    "\t\n",
    "\tplt.title(\"SSE={:.2f}\".format(sse))\n",
    "\tplt.axis([-7,7,-7,7])\n",
    "\toutname = \"./result/k_clusters\" + str(k) + \".png\"\n",
    "\tplt.show()\n"
   ]
  },
  {
   "cell_type": "markdown",
   "metadata": {},
   "source": [
    "Normalization:\n",
    "\n",
    "K-means clustering is \"isotropic\" in all directions of space and therefore tends to produce more or less round (rather than elongated) clusters. In this situation leaving variances unequal is equivalent to putting more weight on variables with smaller variance.\n",
    "\n",
    "From a philosophical point of view, standardization does not really solve the problem. Indeed, the choice of measurement units gives rise to relative weights of the variables. Expressing a variable in smaller units will lead to a larger range for that variable, which will then have a large effect on the resulting structure. On the other hand, by standardizing one attempts to give all variables an equal weight, in the hope of achieving objectivity. As such, it may be used by a practitioner who possesses no prior knowledge. However, it may well be that some variables are intrinsically more important than others in a particular application, and then the assignment of weights should be based on subject-matter knowledge (see, e.g., Abrahamowicz, 1985). \n"
   ]
  },
  {
   "cell_type": "markdown",
   "metadata": {},
   "source": [
    "cosine similarity and NLP\n",
    "\n",
    "The vector contains mostly zeros in NLP.\n",
    "euclidean distance in this example seemed to slightly relate to the length of the document?\n",
    "\n",
    "**Cosine Similarity is a way to measure overlap**\n",
    "\n",
    "\n",
    "\n",
    "Cosine similarity is generally used as a metric for measuring distance when the magnitude of the vectors does not matter. This happens for example when working with text data represented by word counts. We could assume that when a word (e.g. science) occurs more frequent in document 1 than it does in document 2, that document 1 is more related to the topic of science. However, it could also be the case that we are working with documents of uneven lengths (Wikipedia articles for example). Then, science probably occurred more in document 1 just because it was way longer than document 2. Cosine similarity corrects for this.\n",
    "\n",
    "在维度高的数据里面，某个点的距离他的最近点和最远点的距离接近对方。在数据科学里面是高纬度诅咒的一个部分(curse of dimension). 简单解释高纬度诅咒:随着维度的提升，很多我们在低纬度认为相当然的现象，在高纬度空间里面都不成立了:比如我们这里提到相邻之间的点全部都变得很远，远到基本上大家都差不多远哈哈。这个现象在余弦相似性和欧式距离里面都存在。\n"
   ]
  },
  {
   "cell_type": "code",
   "execution_count": 2,
   "metadata": {
    "collapsed": true
   },
   "outputs": [],
   "source": [
    "documents = (\n",
    "\"The sky is blue\",\n",
    "\"The sun is bright\",\n",
    "\"The sun in the sky is bright\",\n",
    "\"We can see the shining sun, the bright sun\"\n",
    ")"
   ]
  },
  {
   "cell_type": "code",
   "execution_count": 4,
   "metadata": {},
   "outputs": [
    {
     "name": "stdout",
     "output_type": "stream",
     "text": [
      "(4, 11)\n"
     ]
    }
   ],
   "source": [
    "from sklearn.feature_extraction.text import TfidfVectorizer\n",
    "tfidf_vectorizer = TfidfVectorizer()\n",
    "tfidf_matrix = tfidf_vectorizer.fit_transform(documents)\n",
    "print (tfidf_matrix.shape)"
   ]
  },
  {
   "cell_type": "code",
   "execution_count": 7,
   "metadata": {},
   "outputs": [
    {
     "data": {
      "text/plain": [
       "<4x11 sparse matrix of type '<class 'numpy.float64'>'\n",
       "\twith 21 stored elements in Compressed Sparse Row format>"
      ]
     },
     "execution_count": 7,
     "metadata": {},
     "output_type": "execute_result"
    }
   ],
   "source": [
    "tfidf_matrix"
   ]
  },
  {
   "cell_type": "markdown",
   "metadata": {},
   "source": [
    "Now we have the TF-IDF matrix (tfidf_matrix) for each document (the number of rows of the matrix) with 11 tf-idf terms (the number of columns from the matrix), we can calculate the Cosine Similarity between the first document (“The sky is blue”) with each of the other documents of the set:"
   ]
  },
  {
   "cell_type": "code",
   "execution_count": 10,
   "metadata": {},
   "outputs": [
    {
     "data": {
      "text/plain": [
       "array([[ 1.        ,  0.36651513,  0.52305744,  0.13448867]])"
      ]
     },
     "execution_count": 10,
     "metadata": {},
     "output_type": "execute_result"
    }
   ],
   "source": [
    "from sklearn.metrics.pairwise import cosine_similarity\n",
    "cosine_similarity(tfidf_matrix[0:1], tfidf_matrix)"
   ]
  },
  {
   "cell_type": "markdown",
   "metadata": {},
   "source": [
    "n-gram 利用统计预测下一个词出现的概率\n",
    "用word2vec平均\n",
    "topic modeling "
   ]
  }
 ],
 "metadata": {
  "kernelspec": {
   "display_name": "Python 3",
   "language": "python",
   "name": "python3"
  },
  "language_info": {
   "codemirror_mode": {
    "name": "ipython",
    "version": 3
   },
   "file_extension": ".py",
   "mimetype": "text/x-python",
   "name": "python",
   "nbconvert_exporter": "python",
   "pygments_lexer": "ipython3",
   "version": "3.6.1"
  }
 },
 "nbformat": 4,
 "nbformat_minor": 2
}
