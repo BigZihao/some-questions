{
 "cells": [
  {
   "cell_type": "markdown",
   "metadata": {},
   "source": [
    "# regression & matrix"
   ]
  },
  {
   "cell_type": "code",
   "execution_count": 1,
   "metadata": {},
   "outputs": [
    {
     "data": {
      "text/html": [
       "<table>\n",
       "<tbody>\n",
       "\t<tr><th scope=row></th><td>-0.1554457</td></tr>\n",
       "\t<tr><th scope=row>x1</th><td> 0.4901870</td></tr>\n",
       "\t<tr><th scope=row>x2</th><td> 1.3300728</td></tr>\n",
       "</tbody>\n",
       "</table>\n"
      ],
      "text/latex": [
       "\\begin{tabular}{r|l}\n",
       "\t & -0.1554457\\\\\n",
       "\tx1 &  0.4901870\\\\\n",
       "\tx2 &  1.3300728\\\\\n",
       "\\end{tabular}\n"
      ],
      "text/markdown": [
       "\n",
       "|  | -0.1554457 | \n",
       "| x1 |  0.4901870 | \n",
       "| x2 |  1.3300728 | \n",
       "\n",
       "\n"
      ],
      "text/plain": [
       "   [,1]      \n",
       "   -0.1554457\n",
       "x1  0.4901870\n",
       "x2  1.3300728"
      ]
     },
     "metadata": {},
     "output_type": "display_data"
    },
    {
     "data": {
      "text/html": [
       "<dl class=dl-horizontal>\n",
       "\t<dt>(Intercept)</dt>\n",
       "\t\t<dd>-0.155445734065639</dd>\n",
       "\t<dt>x1</dt>\n",
       "\t\t<dd>0.49018702667263</dd>\n",
       "\t<dt>x2</dt>\n",
       "\t\t<dd>1.33007282658875</dd>\n",
       "</dl>\n"
      ],
      "text/latex": [
       "\\begin{description*}\n",
       "\\item[(Intercept)] -0.155445734065639\n",
       "\\item[x1] 0.49018702667263\n",
       "\\item[x2] 1.33007282658875\n",
       "\\end{description*}\n"
      ],
      "text/markdown": [
       "(Intercept)\n",
       ":   -0.155445734065639x1\n",
       ":   0.49018702667263x2\n",
       ":   1.33007282658875\n",
       "\n"
      ],
      "text/plain": [
       "(Intercept)          x1          x2 \n",
       " -0.1554457   0.4901870   1.3300728 "
      ]
     },
     "metadata": {},
     "output_type": "display_data"
    }
   ],
   "source": [
    "x1 <- c(1,2,3,4,5)\n",
    "x2 <- c(1,4,5,7,9)\n",
    "y <-  x1 + x2 + rnorm(5,mean=0,sd=0.3);\n",
    "Y <- as.matrix(y);\n",
    "X <- as.matrix(cbind(1,x1,x2));\n",
    "beta = solve(t(X) %*% X) %*% (t(X) %*% Y) ; \n",
    "beta\n",
    "model <- lm(y~1+x1+x2) ; \n",
    "model$coefficients"
   ]
  },
  {
   "cell_type": "code",
   "execution_count": 2,
   "metadata": {
    "collapsed": true
   },
   "outputs": [],
   "source": [
    "X <- as.matrix(cbind(1,x1))"
   ]
  },
  {
   "cell_type": "code",
   "execution_count": 7,
   "metadata": {},
   "outputs": [
    {
     "data": {
      "text/html": [
       "<table>\n",
       "<thead><tr><th></th><th scope=col></th><th scope=col>x1</th></tr></thead>\n",
       "<tbody>\n",
       "\t<tr><th scope=row></th><td> 5</td><td>15</td></tr>\n",
       "\t<tr><th scope=row>x1</th><td>15</td><td>55</td></tr>\n",
       "</tbody>\n",
       "</table>\n"
      ],
      "text/latex": [
       "\\begin{tabular}{r|ll}\n",
       "  &  & x1\\\\\n",
       "\\hline\n",
       "\t &  5 & 15\\\\\n",
       "\tx1 & 15 & 55\\\\\n",
       "\\end{tabular}\n"
      ],
      "text/markdown": [
       "\n",
       "| <!--/--> |  | x1 | \n",
       "|---|---|\n",
       "|  |  5 | 15 | \n",
       "| x1 | 15 | 55 | \n",
       "\n",
       "\n"
      ],
      "text/plain": [
       "      x1\n",
       "    5 15\n",
       "x1 15 55"
      ]
     },
     "metadata": {},
     "output_type": "display_data"
    }
   ],
   "source": [
    "t(X) %*% X"
   ]
  },
  {
   "cell_type": "code",
   "execution_count": 8,
   "metadata": {},
   "outputs": [
    {
     "data": {
      "text/html": [
       "<table>\n",
       "<thead><tr><th></th><th scope=col></th><th scope=col>x1</th></tr></thead>\n",
       "<tbody>\n",
       "\t<tr><th scope=row></th><td> 1.1</td><td>-0.3</td></tr>\n",
       "\t<tr><th scope=row>x1</th><td>-0.3</td><td> 0.1</td></tr>\n",
       "</tbody>\n",
       "</table>\n"
      ],
      "text/latex": [
       "\\begin{tabular}{r|ll}\n",
       "  &  & x1\\\\\n",
       "\\hline\n",
       "\t &  1.1 & -0.3\\\\\n",
       "\tx1 & -0.3 &  0.1\\\\\n",
       "\\end{tabular}\n"
      ],
      "text/markdown": [
       "\n",
       "| <!--/--> |  | x1 | \n",
       "|---|---|\n",
       "|  |  1.1 | -0.3 | \n",
       "| x1 | -0.3 |  0.1 | \n",
       "\n",
       "\n"
      ],
      "text/plain": [
       "        x1  \n",
       "    1.1 -0.3\n",
       "x1 -0.3  0.1"
      ]
     },
     "metadata": {},
     "output_type": "display_data"
    }
   ],
   "source": [
    "solve(t(X) %*% X)"
   ]
  },
  {
   "cell_type": "code",
   "execution_count": 9,
   "metadata": {
    "collapsed": true
   },
   "outputs": [],
   "source": [
    "Xrep <- as.matrix(cbind(1,rep(x1,2)))"
   ]
  },
  {
   "cell_type": "code",
   "execution_count": 15,
   "metadata": {},
   "outputs": [
    {
     "data": {
      "text/plain": [
       "\n",
       "Call:\n",
       "lm(formula = y ~ 1 + x1)\n",
       "\n",
       "Residuals:\n",
       "      1       2       3       4       5 \n",
       "-0.6384  0.9311  0.1638 -0.5671  0.1106 \n",
       "\n",
       "Coefficients:\n",
       "            Estimate Std. Error t value Pr(>|t|)    \n",
       "(Intercept)  -0.8205     0.7743   -1.06    0.367    \n",
       "x1            3.0173     0.2335   12.92    0.001 ***\n",
       "---\n",
       "Signif. codes:  0 '***' 0.001 '**' 0.01 '*' 0.05 '.' 0.1 ' ' 1\n",
       "\n",
       "Residual standard error: 0.7383 on 3 degrees of freedom\n",
       "Multiple R-squared:  0.9824,\tAdjusted R-squared:  0.9765 \n",
       "F-statistic:   167 on 1 and 3 DF,  p-value: 0.0009999\n"
      ]
     },
     "metadata": {},
     "output_type": "display_data"
    }
   ],
   "source": [
    "summary(lm(y~1+x1))"
   ]
  },
  {
   "cell_type": "code",
   "execution_count": 14,
   "metadata": {},
   "outputs": [
    {
     "data": {
      "text/plain": [
       "\n",
       "Call:\n",
       "lm(formula = rep(y, 2) ~ 1 + rep(x1, 2))\n",
       "\n",
       "Residuals:\n",
       "    Min      1Q  Median      3Q     Max \n",
       "-0.6384 -0.5671  0.1106  0.1638  0.9311 \n",
       "\n",
       "Coefficients:\n",
       "            Estimate Std. Error t value Pr(>|t|)    \n",
       "(Intercept)  -0.8205     0.4742   -1.73    0.122    \n",
       "rep(x1, 2)    3.0173     0.1430   21.11 2.67e-08 ***\n",
       "---\n",
       "Signif. codes:  0 '***' 0.001 '**' 0.01 '*' 0.05 '.' 0.1 ' ' 1\n",
       "\n",
       "Residual standard error: 0.6394 on 8 degrees of freedom\n",
       "Multiple R-squared:  0.9824,\tAdjusted R-squared:  0.9802 \n",
       "F-statistic: 445.4 on 1 and 8 DF,  p-value: 2.668e-08\n"
      ]
     },
     "metadata": {},
     "output_type": "display_data"
    }
   ],
   "source": [
    "summary(lm(rep(y,2)~1+rep(x1,2)))"
   ]
  },
  {
   "cell_type": "code",
   "execution_count": 22,
   "metadata": {},
   "outputs": [
    {
     "data": {
      "text/html": [
       "<table>\n",
       "<thead><tr><th scope=col></th><th scope=col>x1</th></tr></thead>\n",
       "<tbody>\n",
       "\t<tr><td>1</td><td>1</td></tr>\n",
       "\t<tr><td>1</td><td>2</td></tr>\n",
       "\t<tr><td>1</td><td>3</td></tr>\n",
       "\t<tr><td>1</td><td>4</td></tr>\n",
       "\t<tr><td>1</td><td>5</td></tr>\n",
       "</tbody>\n",
       "</table>\n"
      ],
      "text/latex": [
       "\\begin{tabular}{ll}\n",
       "  & x1\\\\\n",
       "\\hline\n",
       "\t 1 & 1\\\\\n",
       "\t 1 & 2\\\\\n",
       "\t 1 & 3\\\\\n",
       "\t 1 & 4\\\\\n",
       "\t 1 & 5\\\\\n",
       "\\end{tabular}\n"
      ],
      "text/markdown": [
       "\n",
       " | x1 | \n",
       "|---|---|---|---|---|\n",
       "| 1 | 1 | \n",
       "| 1 | 2 | \n",
       "| 1 | 3 | \n",
       "| 1 | 4 | \n",
       "| 1 | 5 | \n",
       "\n",
       "\n"
      ],
      "text/plain": [
       "       x1\n",
       "[1,] 1 1 \n",
       "[2,] 1 2 \n",
       "[3,] 1 3 \n",
       "[4,] 1 4 \n",
       "[5,] 1 5 "
      ]
     },
     "metadata": {},
     "output_type": "display_data"
    }
   ],
   "source": [
    "X"
   ]
  },
  {
   "cell_type": "markdown",
   "metadata": {},
   "source": [
    "Covariance Matrix:\n",
    "\n",
    "cov_mat = (X_std - mean_vec).T.dot((X_std - mean_vec)) / (X_std.shape[0]-1)\n",
    "\n",
    "The matrix ${X}^{T}{X}$  is known as the Gramian matrix of $\\mathbf{X}$ , which possesses several nice properties such as being a positive semi-definite matrix, and the matrix ${\\displaystyle \\mathbf{X} ^{\\rm {T}}\\mathbf{y} }$ is known as the moment matrix of regressand by regressors\n",
    "\n",
    "In linear algebra, the Gram matrix (Gramian matrix or Gramian) of a set of vectors $v_{1},\\dots ,v_{n}$ in an inner product space is the Hermitian matrix of inner products, whose entries are given by $G_{ij}=\\langle v_{i},v_{j}\\rangle$ .[1]\n",
    "\n",
    "An important application is to compute linear independence: a set of vectors is linearly independent if and only if the Gram determinant (the determinant of the Gram matrix) is non-zero.\n"
   ]
  },
  {
   "cell_type": "code",
   "execution_count": 10,
   "metadata": {},
   "outputs": [
    {
     "data": {
      "text/html": [
       "<table>\n",
       "<tbody>\n",
       "\t<tr><td>10 </td><td> 30</td></tr>\n",
       "\t<tr><td>30 </td><td>110</td></tr>\n",
       "</tbody>\n",
       "</table>\n"
      ],
      "text/latex": [
       "\\begin{tabular}{ll}\n",
       "\t 10  &  30\\\\\n",
       "\t 30  & 110\\\\\n",
       "\\end{tabular}\n"
      ],
      "text/markdown": [
       "\n",
       "| 10  |  30 | \n",
       "| 30  | 110 | \n",
       "\n",
       "\n"
      ],
      "text/plain": [
       "     [,1] [,2]\n",
       "[1,] 10    30 \n",
       "[2,] 30   110 "
      ]
     },
     "metadata": {},
     "output_type": "display_data"
    }
   ],
   "source": [
    "t(Xrep) %*% Xrep"
   ]
  },
  {
   "cell_type": "code",
   "execution_count": 11,
   "metadata": {},
   "outputs": [
    {
     "data": {
      "text/html": [
       "<table>\n",
       "<tbody>\n",
       "\t<tr><td> 0.55</td><td>-0.15</td></tr>\n",
       "\t<tr><td>-0.15</td><td> 0.05</td></tr>\n",
       "</tbody>\n",
       "</table>\n"
      ],
      "text/latex": [
       "\\begin{tabular}{ll}\n",
       "\t  0.55 & -0.15\\\\\n",
       "\t -0.15 &  0.05\\\\\n",
       "\\end{tabular}\n"
      ],
      "text/markdown": [
       "\n",
       "|  0.55 | -0.15 | \n",
       "| -0.15 |  0.05 | \n",
       "\n",
       "\n"
      ],
      "text/plain": [
       "     [,1]  [,2] \n",
       "[1,]  0.55 -0.15\n",
       "[2,] -0.15  0.05"
      ]
     },
     "metadata": {},
     "output_type": "display_data"
    }
   ],
   "source": [
    "solve(t(Xrep) %*% Xrep)"
   ]
  },
  {
   "cell_type": "code",
   "execution_count": 20,
   "metadata": {},
   "outputs": [
    {
     "data": {
      "text/html": [
       "<table>\n",
       "<tbody>\n",
       "\t<tr><th scope=row></th><td> 41.15747</td></tr>\n",
       "\t<tr><th scope=row>x1</th><td>153.64566</td></tr>\n",
       "</tbody>\n",
       "</table>\n"
      ],
      "text/latex": [
       "\\begin{tabular}{r|l}\n",
       "\t &  41.15747\\\\\n",
       "\tx1 & 153.64566\\\\\n",
       "\\end{tabular}\n"
      ],
      "text/markdown": [
       "\n",
       "|  |  41.15747 | \n",
       "| x1 | 153.64566 | \n",
       "\n",
       "\n"
      ],
      "text/plain": [
       "   [,1]     \n",
       "    41.15747\n",
       "x1 153.64566"
      ]
     },
     "metadata": {},
     "output_type": "display_data"
    }
   ],
   "source": [
    "t(X) %*% Y"
   ]
  },
  {
   "cell_type": "code",
   "execution_count": 21,
   "metadata": {},
   "outputs": [
    {
     "data": {
      "text/html": [
       "<table>\n",
       "<tbody>\n",
       "\t<tr><td> 82.31494</td></tr>\n",
       "\t<tr><td>307.29133</td></tr>\n",
       "</tbody>\n",
       "</table>\n"
      ],
      "text/latex": [
       "\\begin{tabular}{l}\n",
       "\t  82.31494\\\\\n",
       "\t 307.29133\\\\\n",
       "\\end{tabular}\n"
      ],
      "text/markdown": [
       "\n",
       "|  82.31494 | \n",
       "| 307.29133 | \n",
       "\n",
       "\n"
      ],
      "text/plain": [
       "     [,1]     \n",
       "[1,]  82.31494\n",
       "[2,] 307.29133"
      ]
     },
     "metadata": {},
     "output_type": "display_data"
    }
   ],
   "source": [
    "Yrep = rep(Y,2)\n",
    "t(Xrep) %*% Yrep"
   ]
  },
  {
   "cell_type": "markdown",
   "metadata": {},
   "source": [
    "# Poission Simulation"
   ]
  },
  {
   "cell_type": "code",
   "execution_count": 2,
   "metadata": {
    "ExecuteTime": {
     "end_time": "2018-04-26T21:47:00.434648Z",
     "start_time": "2018-04-26T21:47:00.328Z"
    }
   },
   "outputs": [
    {
     "name": "stderr",
     "output_type": "stream",
     "text": [
      "Warning message in data.row.names(row.names, rowsi, i):\n",
      "\"some row.names duplicated: 2,3,4,5,6,7,8,9,10,11,12,13,14,15,16,17,18,19,20,21,22,23,24,25,26,27,28,29,30,31,32,33,34,35,36,37,38,39,40,41,42,43,44,45,46,47,48,49,50,51,52,53,54,55,56,57,58,59,60,61,62,63,64,65,66,67,68,69,70,71,72,73,74,75,76,77,78,79,80,81,82,83,84,85,86,87,88,89,90,91,92,93,94,95,96,97,98,99,100 --> row.names NOT used\""
     ]
    },
    {
     "data": {
      "text/html": [
       "<dl class=dl-horizontal>\n",
       "\t<dt>#patiens</dt>\n",
       "\t\t<dd>1.11</dd>\n",
       "\t<dt>#waitingpatients</dt>\n",
       "\t\t<dd>&lt;NA&gt;</dd>\n",
       "\t<dt>waitingtime</dt>\n",
       "\t\t<dd>&lt;NA&gt;</dd>\n",
       "\t<dt>closetime</dt>\n",
       "\t\t<dd>16.4387121646805</dd>\n",
       "</dl>\n"
      ],
      "text/latex": [
       "\\begin{description*}\n",
       "\\item[\\textbackslash{}\\#patiens] 1.11\n",
       "\\item[\\textbackslash{}\\#waitingpatients] <NA>\n",
       "\\item[waitingtime] <NA>\n",
       "\\item[closetime] 16.4387121646805\n",
       "\\end{description*}\n"
      ],
      "text/markdown": [
       "#patiens\n",
       ":   1.11#waitingpatients\n",
       ":   &lt;NA&gt;waitingtime\n",
       ":   &lt;NA&gt;closetime\n",
       ":   16.4387121646805\n",
       "\n"
      ],
      "text/plain": [
       "        #patiens #waitingpatients      waitingtime        closetime \n",
       "         1.11000               NA               NA         16.43871 "
      ]
     },
     "metadata": {},
     "output_type": "display_data"
    }
   ],
   "source": [
    "\n",
    "tA = -log(runif(1))/0.1\n",
    "tS = runif(1,5,10)\n",
    "\n",
    "\n",
    "simuPoission = function(){\n",
    "t=0\n",
    "tA=NULL\n",
    "while(t<T){\n",
    "t = t + -log(runif(1))/0.1\n",
    "tA = c(tA,t)\n",
    "}\n",
    "tS = runif(length(tA),5,10)\n",
    "tW=rep(0,length(tA))\n",
    "tW[1]=0\n",
    "for(i in 2:length(tA))\n",
    "{\n",
    "  tW[i] = max(tA[i-1]+tS[i-1]+tW[i-1] - tA[i], 0)\n",
    "}\n",
    "return( c(length(tA),sum(tW>0),mean(tW),(tA+tS+tW)[length(tA)] - T))\n",
    "}\n",
    "\n",
    "res=NULL\n",
    "for(i in 1:100)\n",
    "{\n",
    "a = simuPoission()\n",
    "res=rbind(res, a)\n",
    "}\n",
    "res = data.frame(res)\n",
    "names(res) = c(\"#patiens\", \"#waitingpatients\",\"waitingtime\",\"closetime\")\n",
    "apply(res, 2, mean)"
   ]
  },
  {
   "cell_type": "markdown",
   "metadata": {},
   "source": [
    "# AB testing"
   ]
  },
  {
   "cell_type": "code",
   "execution_count": null,
   "metadata": {
    "collapsed": true
   },
   "outputs": [],
   "source": [
    "## Strategy: For a bunch of Ns, compute the z_star by achieving desired alpha, then\n",
    "## compute what beta would be for that N using the acquired z_star. \n",
    "## Pick the smallest N at which beta crosses the desired value\n",
    "\n",
    "# Inputs:\n",
    "#   The desired alpha for a two-tailed test\n",
    "# Returns: The z-critical value\n",
    "get_z_star = function(alpha) {\n",
    "  return(-qnorm(alpha / 2))\n",
    "}\n",
    "\n",
    "# Inputs:\n",
    "#   z-star: The z-critical value\n",
    "#   s: The standard error of the metric at N=1\n",
    "#   d_min: The practical significance level\n",
    "#   N: The sample size of each group of the experiment\n",
    "# Returns: The beta value of the two-tailed test\n",
    "get_beta = function(z_star, s, d_min, N) {\n",
    "  SE = s /  sqrt(N)\n",
    "  return(pnorm(z_star * SE, mean=d_min, sd=SE))\n",
    "}\n",
    "\n",
    "# Inputs:\n",
    "#   s: The standard error of the metric with N=1 in each group\n",
    "#   d_min: The practical significance level\n",
    "#   Ns: The sample sizes to try\n",
    "#   alpha: The desired alpha level of the test\n",
    "#   beta: The desired beta level of the test\n",
    "# Returns: The smallest N out of the given Ns that will achieve the desired\n",
    "#          beta. There should be at least N samples in each group of the experiment.\n",
    "#          If none of the given Ns will work, returns -1. N is the number of\n",
    "#          samples in each group.\n",
    "\n",
    "required_size = function(s, d_min, Ns=1:20000, alpha=0.05, beta=0.2) {\n",
    "  for (N in Ns) {\n",
    "    if (get_beta(get_z_star(alpha), s, d_min, N) <= beta) {\n",
    "      return(N)\n",
    "    }\n",
    "  }\n",
    "  \n",
    "  return(-1)\n",
    "}\n",
    "\n",
    "# Example analytic usage\n",
    "# This is the example from Lesson 1, for which the online calculate gave 3,623\n",
    "# samples in each group\n",
    "\n",
    "# s is the pooled standard error for N=1 in each group,\n",
    "# which is sqrt(p*(1-p)*(1/1 + 1/1))\n",
    "required_size(s=sqrt(0.1*0.9*2), d_min=0.02)\n",
    "\n",
    "# Sizing: Example\n",
    "# Cookie-based diversion\n",
    "# Since the standard error is proportional to 1/sqrt(N), s, or\n",
    "# the standard error for N=1, is equal to the mesaured standard error with 5000\n",
    "# in each group times sqrt(5000)\n",
    "required_size(s=0.00515*sqrt(5000), d_min=0.02)\n",
    "# User-id-based diversion\n",
    "required_size(s=0.0119*sqrt(5000), d_min=0.02)\n",
    "\n",
    "# Sizing: Quiz\n",
    "# Original size\n",
    "required_size(s=0.0628*sqrt(1000), d_min=0.01, Ns=seq(10, 500000, 100))\n",
    "# Size with event-based diversion\n",
    "required_size(s=0.0209*sqrt(1000), d_min=0.01, Ns=seq(10, 500000, 100))\n",
    "# Size with event-based diversion and English-only traffic\n",
    "required_size(s=0.0188*sqrt(1000), d_min=0.015)\n",
    "# Size with cookie-based diversion, English-only traffic, and \n",
    "# click-through-probability instead of click-through-rate\n",
    "required_size(s=0.0445*sqrt(1000), d_min=0.015, Ns=seq(10, 500000, 100))"
   ]
  },
  {
   "cell_type": "markdown",
   "metadata": {},
   "source": [
    "# random number"
   ]
  },
  {
   "cell_type": "code",
   "execution_count": null,
   "metadata": {
    "collapsed": true
   },
   "outputs": [],
   "source": [
    "#Function for sampling from a discrete uniform distribution\n",
    "rdunif = function(n){\n",
    "\n",
    "v = 1 \n",
    "c = 0\n",
    "a = 0\n",
    "while(a > -1){\n",
    "    v = 2*v\n",
    "    c = 2*c + rbinom(1,1,.5) #This is the dice roll part\n",
    "\n",
    "    if(v >= n){\n",
    "        if(c < n){\n",
    "            return(c)\n",
    "        }else{\n",
    "            v = v-n\n",
    "            c = c-n\n",
    "        }\n",
    "    }\n",
    "}\n",
    "}\n",
    "\n",
    "#Running the function k times for n = 11\n",
    "n = 11\n",
    "k = 10000\n",
    "random.samples = rep(NA,k)\n",
    "\n",
    "for(i in 1:k){\n",
    "    random.samples[i] = rdunif(n)\n",
    "}\n",
    "\n",
    "counts = table(random.samples)\n",
    "barplot(counts,main=\"Random Samples from a Discrete Uniform(0,10)\")"
   ]
  }
 ],
 "metadata": {
  "kernelspec": {
   "display_name": "R",
   "language": "R",
   "name": "ir"
  },
  "language_info": {
   "codemirror_mode": "r",
   "file_extension": ".r",
   "mimetype": "text/x-r-source",
   "name": "R",
   "pygments_lexer": "r",
   "version": "3.4.3"
  },
  "toc": {
   "base_numbering": 1,
   "nav_menu": {
    "height": "88px",
    "width": "252px"
   },
   "number_sections": true,
   "sideBar": true,
   "skip_h1_title": false,
   "title_cell": "Table of Contents",
   "title_sidebar": "Contents",
   "toc_cell": false,
   "toc_position": {},
   "toc_section_display": true,
   "toc_window_display": false
  }
 },
 "nbformat": 4,
 "nbformat_minor": 2
}
